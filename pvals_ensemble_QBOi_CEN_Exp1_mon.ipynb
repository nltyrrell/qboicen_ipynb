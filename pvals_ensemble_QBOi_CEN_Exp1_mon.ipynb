{
 "cells": [
  {
   "cell_type": "markdown",
   "metadata": {
    "colab_type": "text",
    "heading_collapsed": true,
    "id": "7vHRw5uWYBpO"
   },
   "source": [
    "# QBOi Tigramite notebook.\n",
    "\n",
    "- Install Tigramite and dependencies\n",
    "- Load data from local dir\n",
    "- Run Causal Effect Network analysis on QBOi data\n"
   ]
  },
  {
   "cell_type": "markdown",
   "metadata": {
    "colab_type": "text",
    "hidden": true,
    "id": "Xa1VlIdSY54z"
   },
   "source": [
    "## Install dependencies and Tigramite\n",
    "Use pip install to load cython and ace, then use pip install git+... to load tigramite directly from the github repo."
   ]
  },
  {
   "cell_type": "code",
   "execution_count": 1,
   "metadata": {
    "colab": {},
    "colab_type": "code",
    "hidden": true,
    "id": "UJ3IkoUbWNSZ"
   },
   "outputs": [],
   "source": [
    "# Imports required python packages\n",
    "import numpy\n",
    "import numpy.ma as ma\n",
    "import matplotlib\n",
    "from matplotlib import pyplot as plt\n",
    "import sklearn\n",
    "\n",
    "import tigramite\n",
    "from tigramite import data_processing as pp\n",
    "from tigramite import plotting as tp\n",
    "from tigramite.pcmci import PCMCI\n",
    "from tigramite.independence_tests import ParCorr, GPDC, CMIknn, CMIsymb\n",
    "from tigramite.models import LinearMediation, Prediction\n",
    "\n",
    "import numpy as np\n",
    "import pandas as pd\n",
    "import netCDF4\n",
    "from scipy import signal\n",
    " \n",
    "import iris\n",
    "#import iris.plot as iplt\n",
    "\n",
    "\n",
    "import warnings\n",
    "warnings.filterwarnings('ignore')\n",
    "\n",
    "%matplotlib inline     "
   ]
  },
  {
   "cell_type": "markdown",
   "metadata": {
    "colab_type": "text",
    "hidden": true,
    "id": "IESLq6BtxNr6"
   },
   "source": [
    "Read data in to Pandas dataframe"
   ]
  },
  {
   "cell_type": "code",
   "execution_count": 2,
   "metadata": {
    "colab": {},
    "colab_type": "code",
    "hidden": true,
    "id": "50wuci8XIDmt"
   },
   "outputs": [],
   "source": [
    "ERA = \"/home/tyrrell/research/qbo/qboi/cen_data/erai_mon.csv\"\n",
    "CAM_r1 = \"/home/tyrrell/research/qbo/qboi/cen_data/CAM_QBOiExp1_r1i1p1_mon.csv\"\n",
    "CAM_r2 = \"/home/tyrrell/research/qbo/qboi/cen_data/CAM_QBOiExp1_r2i1p1_mon.csv\"\n",
    "CAM_r3 = \"/home/tyrrell/research/qbo/qboi/cen_data/CAM_QBOiExp1_r3i1p1_mon.csv\"\n",
    "CCCmaCMAM_r1 = \"/home/tyrrell/research/qbo/qboi/cen_data/CCCmaCMAM_QBOiExp1_r1i1p1_mon.csv\"\n",
    "CCCmaCMAM_r2 = \"/home/tyrrell/research/qbo/qboi/cen_data/CCCmaCMAM_QBOiExp1_r2i1p1_mon.csv\"\n",
    "CCCmaCMAM_r3 = \"/home/tyrrell/research/qbo/qboi/cen_data/CCCmaCMAM_QBOiExp1_r3i1p1_mon.csv\"\n",
    "ISAC_CNRECHAM5sh = \"/home/tyrrell/research/qbo/qboi/cen_data/ISAC-CNRECHAM5sh_QBOiExp1_r1i1p1_mon.csv\"\n",
    "#MIROCMIROC_AGCM_r1 = \"/home/tyrrell/research/qbo/qboi/cen_data/MIROCMIROC-AGCM_QBOiExp1_r1i1p1_mon.csv\"\n",
    "MIROCMIROC_AGCM_r2 = \"/home/tyrrell/research/qbo/qboi/cen_data/MIROCMIROC-AGCM_QBOiExp1_r2i1p1_mon.csv\"\n",
    "MIROCMIROC_AGCM_r3 = \"/home/tyrrell/research/qbo/qboi/cen_data/MIROCMIROC-AGCM_QBOiExp1_r3i1p1_mon.csv\"\n",
    "MIROCMIROC_ESM_r1 = \"/home/tyrrell/research/qbo/qboi/cen_data/MIROCMIROC-ESM_QBOiExp1_r1i1p1_mon.csv\"\n",
    "MIROCMIROC_ESM_r2 = \"/home/tyrrell/research/qbo/qboi/cen_data/MIROCMIROC-ESM_QBOiExp1_r2i1p1_mon.csv\"\n",
    "MIROCMIROC_ESM_r3 = \"/home/tyrrell/research/qbo/qboi/cen_data/MIROCMIROC-ESM_QBOiExp1_r3i1p1_mon.csv\"\n",
    "MOHCUMGA7_r2 = \"/home/tyrrell/research/qbo/qboi/cen_data/MOHCUMGA7_QBOiExp1_r2i1p1_mon.csv\"\n",
    "MOHCUMGA7_r3 = \"/home/tyrrell/research/qbo/qboi/cen_data/MOHCUMGA7_QBOiExp1_r3i1p1_mon.csv\"\n",
    "MOHCUMGA7_r4 = \"/home/tyrrell/research/qbo/qboi/cen_data/MOHCUMGA7_QBOiExp1_r4i1p1_mon.csv\"\n",
    "MRIMRI_ESM2_r1 = \"/home/tyrrell/research/qbo/qboi/cen_data/MRIMRI-ESM2_QBOiExp1_r1i1p1_mon.csv\"\n",
    "WACCM_r1 = \"/home/tyrrell/research/qbo/qboi/cen_data/WACCM_QBOiExp1_r1i1p1_mon.csv\"\n",
    "WACCM_r2 = \"/home/tyrrell/research/qbo/qboi/cen_data/WACCM_QBOiExp1_r2i1p1_mon.csv\"\n",
    "WACCM_r3 = \"/home/tyrrell/research/qbo/qboi/cen_data/WACCM_QBOiExp1_r3i1p1_mon.csv\"\n",
    "YonseiHadGEM2_AC = \"/home/tyrrell/research/qbo/qboi/cen_data/YonseiHadGEM2-AC_QBOiExp1_r1i1p2_mon.csv\"\n",
    "YonseiHadGEM2_A = \"/home/tyrrell/research/qbo/qboi/cen_data/YonseiHadGEM2-A_QBOiExp1_r1i1p1_mon.csv\"\n",
    "\n",
    "era = pd.read_csv(ERA,index_col=0)[0:432]\n",
    "cam_r1 = pd.read_csv(CAM_r1,index_col=0)\n",
    "cam_r2 = pd.read_csv(CAM_r2,index_col=0)[0:-3]\n",
    "cam_r3 = pd.read_csv(CAM_r3,index_col=0)\n",
    "cccmacmam_r1  = pd.read_csv(CCCmaCMAM_r1,index_col=0)\n",
    "cccmacmam_r2  = pd.read_csv(CCCmaCMAM_r2,index_col=0)\n",
    "cccmacmam_r3  = pd.read_csv(CCCmaCMAM_r3,index_col=0)\n",
    "isac_cnrecham5sh = pd.read_csv(ISAC_CNRECHAM5sh,index_col=0)\n",
    "#mirocmiroc_agcm_r1 = pd.read_csv(MIROCMIROC_AGCM_r1,index_col=0)\n",
    "mirocmiroc_agcm_r2 = pd.read_csv(MIROCMIROC_AGCM_r2,index_col=0)\n",
    "mirocmiroc_agcm_r3 = pd.read_csv(MIROCMIROC_AGCM_r3,index_col=0)\n",
    "mirocmiroc_esm_r1 = pd.read_csv(MIROCMIROC_ESM_r1,index_col=0)\n",
    "mirocmiroc_esm_r2 = pd.read_csv(MIROCMIROC_ESM_r2,index_col=0)\n",
    "mirocmiroc_esm_r3 = pd.read_csv(MIROCMIROC_ESM_r3,index_col=0)\n",
    "mohcumga7_r2 = pd.read_csv(MOHCUMGA7_r2,index_col=0)\n",
    "mohcumga7_r3 = pd.read_csv(MOHCUMGA7_r3,index_col=0)\n",
    "mohcumga7_r4 = pd.read_csv(MOHCUMGA7_r4,index_col=0)\n",
    "mrimri_esm2_r1 = pd.read_csv(MRIMRI_ESM2_r1,index_col=0)\n",
    "waccm_r1 = pd.read_csv(WACCM_r1,index_col=0)\n",
    "waccm_r2 = pd.read_csv(WACCM_r2,index_col=0)\n",
    "waccm_r3 = pd.read_csv(WACCM_r3,index_col=0)\n",
    "yonseihadgem2_a = pd.read_csv(YonseiHadGEM2_A,index_col=0)\n",
    "yonseihadgem2_ac = pd.read_csv(YonseiHadGEM2_AC,index_col=0)\n"
   ]
  },
  {
   "cell_type": "markdown",
   "metadata": {
    "colab_type": "text",
    "heading_collapsed": true,
    "hidden": true,
    "id": "pqDLYlNwjOSt"
   },
   "source": [
    "### Remove seasonal cycle and detrend, fix sign, time means"
   ]
  },
  {
   "cell_type": "code",
   "execution_count": 3,
   "metadata": {
    "colab": {},
    "colab_type": "code",
    "hidden": true,
    "id": "c5x2zervWNUF",
    "scrolled": false
   },
   "outputs": [],
   "source": [
    "\n",
    "def rm_seascyc(df):\n",
    "    \"\"\"\n",
    "    Remove seasonal cycle and detrend data from a pandas dataframe, \n",
    "    then return the anomaly dataframe \n",
    "    and a Tigramite dataframe\n",
    "    \"\"\"\n",
    "    \n",
    "    # Remove time of day from date\n",
    "    df['date'] = pd.to_datetime(df['date'])\n",
    "    df['date'] = df['date'].apply( lambda df : pd.datetime(year=df.year, \n",
    "                                                         month=df.month, \n",
    "                                                         day=df.day))\n",
    "    # set date column as index\n",
    "    df.set_index('date', inplace=True)\n",
    "\n",
    "    # Create new column of day of year\n",
    "    df['mon'] = df.index.month\n",
    "\n",
    "    # Get seasonal cycle, (transform keeps array the same size)\n",
    "    seascyc = df.groupby('mon').transform('mean')\n",
    "    \n",
    "    # IMPORTANT: Variables that do not need the seasonal cycle removed need to be set to zero\n",
    "    # e.g. NAO and QBO\n",
    "    seascyc[['NAO']] = 0 #,'QBO']] = 0\n",
    "\n",
    "    # Remove seasonal cycle, create anomaly actors dataframe\n",
    "    anomact = df - seascyc\n",
    "    anomact.drop('mon',axis=1,inplace=True)\n",
    "\n",
    "    #detrend data\n",
    "    for colname, col in anomact.iteritems():\n",
    "        #print(colname)\n",
    "        anomact[colname] = signal.detrend(anomact[colname],axis=0)  \n",
    "\n",
    "    # Put data into tigramite dataframe\n",
    "    var_names=anomact.keys()\n",
    "    anomact_tdf = pp.DataFrame(anomact.as_matrix(columns=var_names[1::]))\n",
    "\n",
    "    return anomact, seascyc\n",
    "\n",
    "# Note: this doesn't work with NaN values\n",
    "era_anom, era_seascyc = rm_seascyc(era)\n",
    "cam_anom_r1, cam_seascyc_r1 = rm_seascyc(cam_r1)\n",
    "cam_anom_r2, cam_seascyc_r2 = rm_seascyc(cam_r2)\n",
    "cam_anom_r3, cam_seascyc_r3 = rm_seascyc(cam_r3)\n",
    "cccmacmam_anom_r1, cccmacmam_seascyc_r1 = rm_seascyc(cccmacmam_r1)\n",
    "cccmacmam_anom_r2, cccmacmam_seascyc_r2 = rm_seascyc(cccmacmam_r2)\n",
    "cccmacmam_anom_r3, cccmacmam_seascyc_r3 = rm_seascyc(cccmacmam_r3)\n",
    "isac_cnrecham5sh_anom, isac_cnrecham5sh_seascyc = rm_seascyc(isac_cnrecham5sh)\n",
    "#mirocmiroc_agcm_anom_r1, mirocmiroc_agcm_seascyc_r1 = rm_seascyc(mirocmiroc_agcm_r1)\n",
    "mirocmiroc_agcm_anom_r2, mirocmiroc_agcm_seascyc_r2 = rm_seascyc(mirocmiroc_agcm_r2)\n",
    "mirocmiroc_agcm_anom_r3, mirocmiroc_agcm_seascyc_r3 = rm_seascyc(mirocmiroc_agcm_r3)\n",
    "mirocmiroc_esm_anom_r1, mirocmiroc_esm_seascyc_r1 = rm_seascyc(mirocmiroc_esm_r1)\n",
    "mirocmiroc_esm_anom_r2, mirocmiroc_esm_seascyc_r2 = rm_seascyc(mirocmiroc_esm_r2)\n",
    "mirocmiroc_esm_anom_r3, mirocmiroc_esm_seascyc_r3 = rm_seascyc(mirocmiroc_esm_r3)\n",
    "mohcumga7_anom_r4, mohcumga7_seascyc_r4 = rm_seascyc(mohcumga7_r4)\n",
    "mohcumga7_anom_r2, mohcumga7_seascyc_r2 = rm_seascyc(mohcumga7_r2)\n",
    "mohcumga7_anom_r3, mohcumga7_seascyc_r3 = rm_seascyc(mohcumga7_r3)\n",
    "mrimri_esm2_anom_r1, mrimri_esm2_seascyc_r1 = rm_seascyc(mrimri_esm2_r1)\n",
    "waccm_anom_r1, waccm_seascyc_r1 = rm_seascyc(waccm_r1)\n",
    "waccm_anom_r2, waccm_seascyc_r2 = rm_seascyc(waccm_r2)\n",
    "waccm_anom_r3, waccm_seascyc_r3 = rm_seascyc(waccm_r3)\n",
    "yonseihadgem2_a_anom, yonseihadgem2_a_seascyc = rm_seascyc(yonseihadgem2_a)\n",
    "yonseihadgem2_ac_anom, yonseihadgem2_ac_seascyc = rm_seascyc(yonseihadgem2_ac)\n",
    "\n",
    "# === reverse sign of v_flux ===\n",
    "for rev_var in ['v_flux']:\n",
    "    cam_anom_r1[rev_var] =            cam_anom_r1[rev_var]*(-1)            \n",
    "    cam_anom_r2[rev_var] =            cam_anom_r2[rev_var]*(-1)\n",
    "    cam_anom_r3[rev_var] =            cam_anom_r3[rev_var]*(-1)\n",
    "    cam_seascyc_r1[rev_var] =            cam_seascyc_r1[rev_var]*(-1)            \n",
    "    cam_seascyc_r2[rev_var] =            cam_seascyc_r2[rev_var]*(-1)\n",
    "    cam_seascyc_r3[rev_var] =            cam_seascyc_r3[rev_var]*(-1)\n",
    "    \n"
   ]
  },
  {
   "cell_type": "markdown",
   "metadata": {
    "colab_type": "text",
    "heading_collapsed": true,
    "hidden": true,
    "id": "sT51F2pd7gNr"
   },
   "source": [
    "### Create masks for QBOE and QBOW months. Include mask for months ONDJFM"
   ]
  },
  {
   "cell_type": "code",
   "execution_count": 4,
   "metadata": {
    "cellView": "code",
    "colab": {},
    "colab_type": "code",
    "hidden": true,
    "id": "YJmmnRHDWNUJ"
   },
   "outputs": [],
   "source": [
    "# Mask data for QBOW, and create QBOW and QBOE dataframes\n",
    "\n",
    "def qbomask(df, u_lim=2):\n",
    "    \"\"\"\n",
    "    Take a dataframe (df) with all timeseriees, put QBO into seperate df,\n",
    "    make masks with the QBO data.\n",
    "    Uses a threshold of +/- 2 m/s for u-wind, unless otherwise specified.\n",
    "    Input: dataframe of anomalies\n",
    "    Output: dataframe w/o QBO, df of QBO, mask for QBOE, mask for QBOW, \n",
    "          mask for no qbo, i.e. mask of months ONDJFM\n",
    "    \"\"\"\n",
    "\n",
    "    # Put QBO timeseries in a seperate df and create QBOE/W df\n",
    "    df_qbo = df[['QBO']].copy() # Use abs values to calc QBO\n",
    "    df_noqbo = df.copy() # df.drop('QBO',axis=1)\n",
    "\n",
    "    # Add month series\n",
    "    df_noqbo['mon'] = df_noqbo.index.month\n",
    "\n",
    "    # Set up masked arrays\n",
    "    mask_qbow = np.zeros(df_qbo.shape).astype('bool')\n",
    "    mask_qboe = np.zeros(df_qbo.shape).astype('bool')\n",
    "    mask_mon = np.zeros(df_qbo.shape).astype('bool')\n",
    "\n",
    "    # Create QBOW Mask for given u_lim\n",
    "    mask_qbow = np.ma.masked_less(df_qbo.as_matrix(columns=['QBO']),u_lim).mask\n",
    "    # Make mask same size as full df\n",
    "    df_size = df_noqbo.shape[1]\n",
    "    mask_qbow2 = np.tile(mask_qbow,df_size)\n",
    "    # Repeat for QBOE\n",
    "    mask_qboe = np.ma.masked_greater(df_qbo.as_matrix(columns=['QBO']),-u_lim).mask\n",
    "    mask_qboe2 = np.tile(mask_qboe,df_size)\n",
    "\n",
    "    # Create Mask for Months Oct-Mar (i.e. mask out all other months)\n",
    "    mask_mon[:,0] = (\n",
    "                    #(df_noqbo['mon'] == 1) | (df_noqbo['mon'] == 2) |\n",
    "                    (df_noqbo['mon'] == 3) | \n",
    "                    (df_noqbo['mon'] == 4) | (df_noqbo['mon'] == 5) |\n",
    "                    (df_noqbo['mon'] == 6) | (df_noqbo['mon'] == 7) |\n",
    "                    (df_noqbo['mon'] == 8) | (df_noqbo['mon'] == 9) |\n",
    "                   (df_noqbo['mon'] == 10) | (df_noqbo['mon'] == 11) #|\n",
    "                    #(df_noqbo['mon'] == 12)\n",
    "                    ).as_matrix()\n",
    "\n",
    "\n",
    "    mask_mon2 = np.tile(mask_mon,df_size) #.reshape(mask_qboe2.shape)\n",
    "\n",
    "    # Add month mask to QBO masks\n",
    "    mask_qboe_mon = mask_qboe2 + mask_mon2\n",
    "    mask_qbow_mon = mask_qbow2 + mask_mon2\n",
    "\n",
    "    # Use QBO masks on data\n",
    "    #  df_qboe.mask(mask_qboe2,inplace=True)\n",
    "    #  df_qbow.mask(mask_qbow2,inplace=True)\n",
    "\n",
    "    return(df_noqbo, df_qbo, mask_qboe_mon, mask_qbow_mon, mask_mon2)\n",
    "\n",
    "era_noqbo, era_qbo, era_qboe_mask, era_qbow_mask, era_noqbo_mask = qbomask(era_anom)\n",
    "cam_noqbo_r1, cam_qbo_r1, cam_qboe_mask_r1, cam_qbow_mask_r1, cam_noqbo_mask_r1 = qbomask(cam_anom_r1)\n",
    "cam_noqbo_r2, cam_qbo_r2, cam_qboe_mask_r2, cam_qbow_mask_r2, cam_noqbo_mask_r2 = qbomask(cam_anom_r2)\n",
    "cam_noqbo_r3, cam_qbo_r3, cam_qboe_mask_r3, cam_qbow_mask_r3, cam_noqbo_mask_r3 = qbomask(cam_anom_r3)\n",
    "cccmacmam_noqbo_r1, cccmacmam_qbo_r1, cccmacmam_qboe_mask_r1, cccmacmam_qbow_mask_r1, cccmacmam_noqbo_mask_r1 = qbomask(cccmacmam_anom_r1)\n",
    "cccmacmam_noqbo_r2, cccmacmam_qbo_r2, cccmacmam_qboe_mask_r2, cccmacmam_qbow_mask_r2, cccmacmam_noqbo_mask_r2 = qbomask(cccmacmam_anom_r2)\n",
    "cccmacmam_noqbo_r3, cccmacmam_qbo_r3, cccmacmam_qboe_mask_r3, cccmacmam_qbow_mask_r3, cccmacmam_noqbo_mask_r3 = qbomask(cccmacmam_anom_r3)\n",
    "isac_cnrecham5sh_noqbo, isac_cnrecham5sh_qbo, isac_cnrecham5sh_qboe_mask, isac_cnrecham5sh_qbow_mask, isac_cnrecham5sh_noqbo_mask = qbomask(isac_cnrecham5sh_anom)\n",
    "mirocmiroc_agcm_noqbo_r2, mirocmiroc_agcm_qbo_r2, mirocmiroc_agcm_qboe_mask_r2, mirocmiroc_agcm_qbow_mask_r2, mirocmiroc_agcm_noqbo_mask_r2 = qbomask(mirocmiroc_agcm_anom_r2)\n",
    "mirocmiroc_agcm_noqbo_r3, mirocmiroc_agcm_qbo_r3, mirocmiroc_agcm_qboe_mask_r3, mirocmiroc_agcm_qbow_mask_r3, mirocmiroc_agcm_noqbo_mask_r3 = qbomask(mirocmiroc_agcm_anom_r3)\n",
    "mirocmiroc_esm_noqbo_r1, mirocmiroc_esm_qbo_r1, mirocmiroc_esm_qboe_mask_r1, mirocmiroc_esm_qbow_mask_r1, mirocmiroc_esm_noqbo_mask_r1 = qbomask(mirocmiroc_esm_anom_r1)\n",
    "mirocmiroc_esm_noqbo_r2, mirocmiroc_esm_qbo_r2, mirocmiroc_esm_qboe_mask_r2, mirocmiroc_esm_qbow_mask_r2, mirocmiroc_esm_noqbo_mask_r2 = qbomask(mirocmiroc_esm_anom_r2)\n",
    "mirocmiroc_esm_noqbo_r3, mirocmiroc_esm_qbo_r3, mirocmiroc_esm_qboe_mask_r3, mirocmiroc_esm_qbow_mask_r3, mirocmiroc_esm_noqbo_mask_r3 = qbomask(mirocmiroc_esm_anom_r3)\n",
    "mohcumga7_noqbo_r2, mohcumga7_qbo_r2, mohcumga7_qboe_mask_r2, mohcumga7_qbow_mask_r2, mohcumga7_noqbo_mask_r2 = qbomask(mohcumga7_anom_r2)\n",
    "mohcumga7_noqbo_r3, mohcumga7_qbo_r3, mohcumga7_qboe_mask_r3, mohcumga7_qbow_mask_r3, mohcumga7_noqbo_mask_r3 = qbomask(mohcumga7_anom_r3)\n",
    "mohcumga7_noqbo_r4, mohcumga7_qbo_r4, mohcumga7_qboe_mask_r4, mohcumga7_qbow_mask_r4, mohcumga7_noqbo_mask_r4 = qbomask(mohcumga7_anom_r4)\n",
    "mrimri_esm2_noqbo_r1, mrimri_esm2_qbo_r1, mrimri_esm2_qboe_mask_r1, mrimri_esm2_qbow_mask_r1, mrimri_esm2_noqbo_mask_r1 = qbomask(mrimri_esm2_anom_r1)\n",
    "waccm_noqbo_r1, waccm_qbo_r1, waccm_qboe_mask_r1, waccm_qbow_mask_r1, waccm_noqbo_mask_r1 = qbomask(waccm_anom_r1)\n",
    "waccm_noqbo_r2, waccm_qbo_r2, waccm_qboe_mask_r2, waccm_qbow_mask_r2, waccm_noqbo_mask_r2 = qbomask(waccm_anom_r2)\n",
    "waccm_noqbo_r3, waccm_qbo_r3, waccm_qboe_mask_r3, waccm_qbow_mask_r3, waccm_noqbo_mask_r3 = qbomask(waccm_anom_r3)\n",
    "yonseihadgem2_a_noqbo, yonseihadgem2_a_qbo, yonseihadgem2_a_qboe_mask, yonseihadgem2_a_qbow_mask, yonseihadgem2_a_noqbo_mask = qbomask(yonseihadgem2_a_anom)\n",
    "yonseihadgem2_ac_noqbo, yonseihadgem2_ac_qbo, yonseihadgem2_ac_qboe_mask, yonseihadgem2_ac_qbow_mask, yonseihadgem2_ac_noqbo_mask = qbomask(yonseihadgem2_ac_anom)\n",
    "\n"
   ]
  },
  {
   "cell_type": "markdown",
   "metadata": {
    "colab_type": "text",
    "heading_collapsed": true,
    "hidden": true,
    "id": "0mXH-wJxdGRq"
   },
   "source": [
    "## Plotting"
   ]
  },
  {
   "cell_type": "markdown",
   "metadata": {
    "colab_type": "text",
    "hidden": true,
    "id": "pdl9onThdxRx"
   },
   "source": [
    "### Plot all models"
   ]
  },
  {
   "cell_type": "markdown",
   "metadata": {
    "colab_type": "text",
    "hidden": true,
    "id": "H2bzSrVeWshQ"
   },
   "source": [
    "#### Function for plotting"
   ]
  },
  {
   "cell_type": "code",
   "execution_count": 84,
   "metadata": {
    "colab": {
     "base_uri": "https://localhost:8080/",
     "height": 1649
    },
    "colab_type": "code",
    "executionInfo": {
     "elapsed": 44747,
     "status": "ok",
     "timestamp": 1554282112248,
     "user": {
      "displayName": "Nicholas Tyrrell",
      "photoUrl": "https://lh4.googleusercontent.com/-gi3usNz72WA/AAAAAAAAAAI/AAAAAAAABbE/EZOgb1iXIH8/s64/photo.jpg",
      "userId": "00640113987881425946"
     },
     "user_tz": -180
    },
    "hidden": true,
    "id": "UfRhha7sWNUX",
    "outputId": "f925d7c7-90eb-489b-b594-4f9c08e2bb9c"
   },
   "outputs": [],
   "source": [
    "def run_and_plot(dataframe, cond_ind_test, fig_ax, var_select, pc_alpha=0.2,\n",
    "                 alpha_level=0.01,tau_min=0, tau_max=6):\n",
    "    \"\"\"\n",
    "    small function from example notebook to calc pcmci and plot masked links\n",
    "    \"\"\"\n",
    "    \n",
    "    pcmci = PCMCI(dataframe=dataframe, cond_ind_test=cond_ind_test,var_names=var_select)\n",
    "    pcmci.verbosity = 1\n",
    "    results = pcmci.run_pcmci(tau_min=tau_min,tau_max=tau_max,pc_alpha=pc_alpha)\n",
    "    link_matrix = pcmci.return_significant_parents(pq_matrix=results['p_matrix'],\n",
    "            val_matrix=results['val_matrix'], alpha_level=alpha_level)['link_matrix']\n",
    "    tp.plot_graph(fig_ax = fig_ax,  val_matrix=results['val_matrix'],\n",
    "                  link_matrix=link_matrix, var_names=var_select,\n",
    "    )\n",
    "    return\n",
    "\n",
    "def plot_model(df_noqbo,mon_mask,qboe_mask,qbow_mask,var_select,mask_type='y',pc_alpha=0.2,\n",
    "               alpha_level=0.01,tau_min=0,tau_max=4,save_plot=False,save_name=None,\n",
    "               save_qbo=False,title=None,show_qbo=False):\n",
    "    \"\"\"\n",
    "    Function to plot three link matrices, for all years, qboe and qbow, for selected\n",
    "    variables\n",
    "    Input:\n",
    "    df_noqbo  = pandas dataframe of timeseries (without qbo)\n",
    "    mon_mask  = masked array of months ONDJFM\n",
    "    qboe_mask = masked array of QBOE, same dimensions as data\n",
    "    qbow_mask = masked array of QBOW, same dimensions as data\n",
    "    var_names = list of variables for link matrix\n",
    "    mask_type = masking mode, 'y','x','z','yz','xy','xz','xyz', if None,'y' used\n",
    "    save_name = name to save plot, if None then not saved\n",
    "\n",
    "    \"\"\"\n",
    "    print(var_select)\n",
    "    df_names=df_noqbo[var_select]\n",
    "    n_cols = len(var_select)\n",
    "\n",
    "    tig_df_all = pp.DataFrame(df_names.as_matrix(columns=var_select),\n",
    "                             mask=mon_mask[:,0:n_cols])\n",
    "    print(tig_df_all)\n",
    "    tig_df_qboe = pp.DataFrame(df_names.as_matrix(columns=var_select),\n",
    "                             mask=qboe_mask[:,0:n_cols])\n",
    "    tig_df_qbow = pp.DataFrame(df_names.as_matrix(columns=var_select),\n",
    "                             mask=qbow_mask[:,0:n_cols])\n",
    "\n",
    "    # Causal graph all years\n",
    "    print(\"All years\")\n",
    "    fig  = plt.figure(figsize=(10,5)); ax=fig.add_subplot(111); plt.title(\"All, {}\".format(title))\n",
    "    run_and_plot(tig_df_all, ParCorr(significance='analytic', mask_type=mask_type),\n",
    "                 (fig, ax), var_select=var_select,pc_alpha=pc_alpha,\n",
    "                 alpha_level=alpha_level,tau_min=tau_min,tau_max=tau_max)\n",
    "\n",
    "    current_var = \"_\".join(var_select)\n",
    "    if save_plot:\n",
    "        plt.savefig('{}_all_day_{}.png'.format(save_name,current_var), bbox_inches='tight')\n",
    "\n",
    "    if show_qbo:\n",
    "        # # Causal graph, QBOE\n",
    "        print(\"QBOE years\")\n",
    "        fig  = plt.figure(figsize=(10,5)); ax=fig.add_subplot(111);  plt.title(\"QBOE, {}\".format(title))\n",
    "        run_and_plot(tig_df_qboe, ParCorr(significance='analytic', mask_type=mask_type),\n",
    "                     (fig, ax), var_select=var_select,pc_alpha=pc_alpha,\n",
    "                     alpha_level=alpha_level,tau_min=tau_min,tau_max=tau_max)\n",
    "\n",
    "\n",
    "        if save_plot and save_qbo:\n",
    "            fig.savefig('{}_qboe_{}.png'.format(save_name,current_var), bbox_inches='tight')\n",
    "\n",
    "        # # Causal graph, QBOW\n",
    "        print(\"QBOW years\")\n",
    "        fig  = plt.figure(figsize=(10,5)); ax=fig.add_subplot(111);  plt.title(\"QBOW, {}\".format(title))\n",
    "        run_and_plot(tig_df_qbow, ParCorr(significance='analytic', mask_type=mask_type),\n",
    "                     (fig, ax), var_select=var_select,pc_alpha=pc_alpha,\n",
    "                     alpha_level=alpha_level,tau_min=tau_min,tau_max=tau_max)\n",
    "\n",
    "        if save_plot and save_qbo:\n",
    "            fig.savefig('{}_qbow_{}.png'.format(save_name,current_var), bbox_inches='tight')\n",
    "\n",
    "    return"
   ]
  },
  {
   "cell_type": "markdown",
   "metadata": {},
   "source": [
    "# Output with p-values"
   ]
  },
  {
   "cell_type": "code",
   "execution_count": 86,
   "metadata": {
    "colab": {
     "base_uri": "https://localhost:8080/",
     "height": 1649
    },
    "colab_type": "code",
    "executionInfo": {
     "elapsed": 44747,
     "status": "ok",
     "timestamp": 1554282112248,
     "user": {
      "displayName": "Nicholas Tyrrell",
      "photoUrl": "https://lh4.googleusercontent.com/-gi3usNz72WA/AAAAAAAAAAI/AAAAAAAABbE/EZOgb1iXIH8/s64/photo.jpg",
      "userId": "00640113987881425946"
     },
     "user_tz": -180
    },
    "id": "UfRhha7sWNUX",
    "outputId": "f925d7c7-90eb-489b-b594-4f9c08e2bb9c",
    "scrolled": false
   },
   "outputs": [
    {
     "name": "stdout",
     "output_type": "stream",
     "text": [
      "-----------------------------------------------------\n",
      "ERA\n",
      "['QBO', 'u60']\n",
      "<tigramite.data_processing.DataFrame object at 0x7f31d7b92f98>\n",
      "All years\n",
      "\n",
      "##\n",
      "## Running Tigramite PC algorithm\n",
      "##\n",
      "\n",
      "Parameters:\n",
      "independence test = par_corr\n",
      "tau_min = 1\n",
      "tau_max = 6\n",
      "pc_alpha = [0.2]\n",
      "max_conds_dim = None\n",
      "max_combinations = 1\n",
      "\n",
      "\n",
      "\n",
      "## Variable QBO\n",
      "\n",
      "## Variable u60\n",
      "\n",
      "## Resulting condition sets:\n",
      "\n",
      "    Variable QBO has 3 parent(s):\n",
      "        (QBO -1): max_pval = 0.00000, min_val = 0.888\n",
      "        (QBO -2): max_pval = 0.00000, min_val = 0.493\n",
      "        (QBO -3): max_pval = 0.18106, min_val = 0.133\n",
      "\n",
      "    Variable u60 has 2 parent(s):\n",
      "        (u60 -1): max_pval = 0.00098, min_val = 0.319\n",
      "        (u60 -2): max_pval = 0.17037, min_val = 0.135\n",
      "\n",
      "##\n",
      "## Running Tigramite MCI algorithm\n",
      "##\n",
      "\n",
      "Parameters:\n",
      "\n",
      "independence test = par_corr\n",
      "tau_min = 0\n",
      "tau_max = 6\n",
      "max_conds_py = None\n",
      "max_conds_px = None\n",
      "\n",
      "## Significant links at alpha = 0.05:\n",
      "\n",
      "    Variable QBO has 3 link(s):\n",
      "        (QBO -1): pval = 0.00000 | val = 0.881 | conf = (0.000, 0.000)\n",
      "        (QBO -2): pval = 0.00000 | val = -0.440 | conf = (0.000, 0.000)\n",
      "        (QBO -4): pval = 0.01126 | val = -0.254 | conf = (0.000, 0.000)\n",
      "\n",
      "    Variable u60 has 2 link(s):\n",
      "        (u60 -1): pval = 0.00000 | val = 0.534 | conf = (0.000, 0.000)\n",
      "        (u60 -2): pval = 0.00002 | val = -0.410 | conf = (0.000, 0.000)\n"
     ]
    },
    {
     "data": {
      "image/png": "[encoded data removed]",
      "text/plain": [
       "<Figure size 720x360 with 2 Axes>"
      ]
     },
     "metadata": {},
     "output_type": "display_data"
    },
    {
     "name": "stdout",
     "output_type": "stream",
     "text": [
      "-----------------------------------------------------\n",
      "CAM\n",
      "['QBO', 'u60']\n",
      "<tigramite.data_processing.DataFrame object at 0x7f31d7c59a90>\n",
      "All years\n",
      "\n",
      "##\n",
      "## Running Tigramite PC algorithm\n",
      "##\n",
      "\n",
      "Parameters:\n",
      "independence test = par_corr\n",
      "tau_min = 1\n",
      "tau_max = 6\n",
      "pc_alpha = [0.2]\n",
      "max_conds_dim = None\n",
      "max_combinations = 1\n",
      "\n",
      "\n",
      "\n",
      "## Variable QBO\n",
      "\n",
      "## Variable u60\n",
      "\n",
      "## Resulting condition sets:\n",
      "\n",
      "    Variable QBO has 4 parent(s):\n",
      "        (QBO -1): max_pval = 0.00000, min_val = 0.842\n",
      "        (QBO -2): max_pval = 0.00010, min_val = 0.365\n",
      "        (QBO -6): max_pval = 0.05160, min_val = 0.185\n",
      "        (QBO -4): max_pval = 0.09947, min_val = 0.159\n",
      "\n",
      "    Variable u60 has 2 parent(s):\n",
      "        (u60 -1): max_pval = 0.00000, min_val = 0.424\n",
      "        (u60 -3): max_pval = 0.15337, min_val = 0.136\n",
      "\n",
      "##\n",
      "## Running Tigramite MCI algorithm\n",
      "##\n",
      "\n",
      "Parameters:\n",
      "\n",
      "independence test = par_corr\n",
      "tau_min = 0\n",
      "tau_max = 6\n",
      "max_conds_py = None\n",
      "max_conds_px = None\n",
      "\n",
      "## Significant links at alpha = 0.05:\n",
      "\n",
      "    Variable QBO has 4 link(s):\n",
      "        (QBO -1): pval = 0.00000 | val = 0.840 | conf = (0.000, 0.000)\n",
      "        (QBO -2): pval = 0.00001 | val = -0.425 | conf = (0.000, 0.000)\n",
      "        (QBO -3): pval = 0.01490 | val = 0.238 | conf = (0.000, 0.000)\n",
      "        (u60 -3): pval = 0.04113 | val = -0.200 | conf = (0.000, 0.000)\n",
      "\n",
      "    Variable u60 has 2 link(s):\n",
      "        (u60 -1): pval = 0.00000 | val = 0.470 | conf = (0.000, 0.000)\n",
      "        (u60 -2): pval = 0.03714 | val = -0.201 | conf = (0.000, 0.000)\n"
     ]
    },
    {
     "data": {
      "image/png": "[encoded data removed]",
      "text/plain": [
       "<Figure size 720x360 with 2 Axes>"
      ]
     },
     "metadata": {},
     "output_type": "display_data"
    },
    {
     "name": "stdout",
     "output_type": "stream",
     "text": [
      "['QBO', 'u60']\n",
      "<tigramite.data_processing.DataFrame object at 0x7f31d7c59a90>\n",
      "All years\n",
      "\n",
      "##\n",
      "## Running Tigramite PC algorithm\n",
      "##\n",
      "\n",
      "Parameters:\n",
      "independence test = par_corr\n",
      "tau_min = 1\n",
      "tau_max = 6\n",
      "pc_alpha = [0.2]\n",
      "max_conds_dim = None\n",
      "max_combinations = 1\n",
      "\n",
      "\n",
      "\n",
      "## Variable QBO\n",
      "\n",
      "## Variable u60\n",
      "\n",
      "## Resulting condition sets:\n",
      "\n",
      "    Variable QBO has 4 parent(s):\n",
      "        (QBO -1): max_pval = 0.00000, min_val = 0.863\n",
      "        (QBO -2): max_pval = 0.00000, min_val = 0.448\n",
      "        (QBO -5): max_pval = 0.00289, min_val = 0.284\n",
      "        (QBO -3): max_pval = 0.17765, min_val = 0.131\n",
      "\n",
      "    Variable u60 has 3 parent(s):\n",
      "        (u60 -1): max_pval = 0.00006, min_val = 0.375\n",
      "        (QBO -1): max_pval = 0.07006, min_val = 0.176\n",
      "        (u60 -2): max_pval = 0.18178, min_val = 0.129\n",
      "\n",
      "##\n",
      "## Running Tigramite MCI algorithm\n",
      "##\n",
      "\n",
      "Parameters:\n",
      "\n",
      "independence test = par_corr\n",
      "tau_min = 0\n",
      "tau_max = 6\n",
      "max_conds_py = None\n",
      "max_conds_px = None\n",
      "\n",
      "## Significant links at alpha = 0.05:\n",
      "\n",
      "    Variable QBO has 3 link(s):\n",
      "        (QBO -1): pval = 0.00000 | val = 0.857 | conf = (0.000, 0.000)\n",
      "        (QBO -2): pval = 0.00000 | val = -0.523 | conf = (0.000, 0.000)\n",
      "        (QBO -3): pval = 0.00146 | val = 0.310 | conf = (0.000, 0.000)\n",
      "\n",
      "    Variable u60 has 3 link(s):\n",
      "        (u60 -1): pval = 0.00000 | val = 0.458 | conf = (0.000, 0.000)\n",
      "        (u60 -2): pval = 0.01261 | val = -0.244 | conf = (0.000, 0.000)\n",
      "        (u60 -4): pval = 0.02515 | val = 0.221 | conf = (0.000, 0.000)\n"
     ]
    },
    {
     "data": {
      "image/png": "[encoded data removed]",
      "text/plain": [
       "<Figure size 720x360 with 2 Axes>"
      ]
     },
     "metadata": {},
     "output_type": "display_data"
    },
    {
     "name": "stdout",
     "output_type": "stream",
     "text": [
      "['QBO', 'u60']\n",
      "<tigramite.data_processing.DataFrame object at 0x7f31dd57aa58>\n",
      "All years\n",
      "\n",
      "##\n",
      "## Running Tigramite PC algorithm\n",
      "##\n",
      "\n",
      "Parameters:\n",
      "independence test = par_corr\n",
      "tau_min = 1\n",
      "tau_max = 6\n",
      "pc_alpha = [0.2]\n",
      "max_conds_dim = None\n",
      "max_combinations = 1\n",
      "\n",
      "\n",
      "\n",
      "## Variable QBO\n",
      "\n",
      "## Variable u60\n",
      "\n",
      "## Resulting condition sets:\n",
      "\n",
      "    Variable QBO has 4 parent(s):\n",
      "        (QBO -1): max_pval = 0.00000, min_val = 0.825\n",
      "        (QBO -2): max_pval = 0.00002, min_val = 0.400\n",
      "        (QBO -5): max_pval = 0.06389, min_val = 0.179\n",
      "        (QBO -6): max_pval = 0.18672, min_val = 0.126\n",
      "\n",
      "    Variable u60 has 2 parent(s):\n",
      "        (u60 -1): max_pval = 0.00000, min_val = 0.456\n",
      "        (QBO -6): max_pval = 0.17123, min_val = 0.131\n",
      "\n",
      "##\n",
      "## Running Tigramite MCI algorithm\n",
      "##\n",
      "\n",
      "Parameters:\n",
      "\n",
      "independence test = par_corr\n",
      "tau_min = 0\n",
      "tau_max = 6\n",
      "max_conds_py = None\n",
      "max_conds_px = None\n",
      "\n",
      "## Significant links at alpha = 0.05:\n",
      "\n",
      "    Variable QBO has 4 link(s):\n",
      "        (QBO -1): pval = 0.00000 | val = 0.823 | conf = (0.000, 0.000)\n",
      "        (QBO -2): pval = 0.00000 | val = -0.451 | conf = (0.000, 0.000)\n",
      "        (QBO -4): pval = 0.01953 | val = 0.228 | conf = (0.000, 0.000)\n",
      "        (QBO -3): pval = 0.03304 | val = 0.209 | conf = (0.000, 0.000)\n",
      "\n",
      "    Variable u60 has 3 link(s):\n",
      "        (u60 -1): pval = 0.00000 | val = 0.536 | conf = (0.000, 0.000)\n",
      "        (u60 -2): pval = 0.00024 | val = -0.348 | conf = (0.000, 0.000)\n",
      "        (QBO -5): pval = 0.00382 | val = -0.279 | conf = (0.000, 0.000)\n"
     ]
    },
    {
     "data": {
      "image/png": "[encoded data removed]",
      "text/plain": [
       "<Figure size 720x360 with 3 Axes>"
      ]
     },
     "metadata": {},
     "output_type": "display_data"
    },
    {
     "name": "stdout",
     "output_type": "stream",
     "text": [
      "-----------------------------------------------------\n",
      "CCCMA\n",
      "['QBO', 'u60']\n",
      "<tigramite.data_processing.DataFrame object at 0x7f31d7937358>\n",
      "All years\n",
      "\n",
      "##\n",
      "## Running Tigramite PC algorithm\n",
      "##\n",
      "\n",
      "Parameters:\n",
      "independence test = par_corr\n",
      "tau_min = 1\n",
      "tau_max = 6\n",
      "pc_alpha = [0.2]\n",
      "max_conds_dim = None\n",
      "max_combinations = 1\n",
      "\n",
      "\n",
      "\n",
      "## Variable QBO\n",
      "\n",
      "## Variable u60\n",
      "\n",
      "## Resulting condition sets:\n",
      "\n",
      "    Variable QBO has 2 parent(s):\n",
      "        (QBO -1): max_pval = 0.00000, min_val = 0.856\n",
      "        (QBO -2): max_pval = 0.00003, min_val = 0.431\n",
      "\n",
      "    Variable u60 has 2 parent(s):\n",
      "        (u60 -2): max_pval = 0.10812, min_val = 0.171\n",
      "        (u60 -5): max_pval = 0.16851, min_val = 0.146\n",
      "\n",
      "##\n",
      "## Running Tigramite MCI algorithm\n",
      "##\n",
      "\n",
      "Parameters:\n",
      "\n",
      "independence test = par_corr\n",
      "tau_min = 0\n",
      "tau_max = 6\n",
      "max_conds_py = None\n",
      "max_conds_px = None\n",
      "\n",
      "## Significant links at alpha = 0.05:\n",
      "\n",
      "    Variable QBO has 3 link(s):\n",
      "        (QBO -1): pval = 0.00000 | val = 0.856 | conf = (0.000, 0.000)\n",
      "        (QBO -2): pval = 0.00000 | val = -0.552 | conf = (0.000, 0.000)\n",
      "        (QBO -3): pval = 0.00005 | val = 0.423 | conf = (0.000, 0.000)\n",
      "\n",
      "    Variable u60 has 1 link(s):\n",
      "        (QBO -1): pval = 0.04339 | val = -0.218 | conf = (0.000, 0.000)\n"
     ]
    },
    {
     "data": {
      "image/png": "[encoded data removed]",
      "text/plain": [
       "<Figure size 720x360 with 2 Axes>"
      ]
     },
     "metadata": {},
     "output_type": "display_data"
    },
    {
     "name": "stdout",
     "output_type": "stream",
     "text": [
      "['QBO', 'u60']\n",
      "<tigramite.data_processing.DataFrame object at 0x7f31d7c59a90>\n",
      "All years\n",
      "\n",
      "##\n",
      "## Running Tigramite PC algorithm\n",
      "##\n",
      "\n",
      "Parameters:\n",
      "independence test = par_corr\n",
      "tau_min = 1\n",
      "tau_max = 6\n",
      "pc_alpha = [0.2]\n",
      "max_conds_dim = None\n",
      "max_combinations = 1\n",
      "\n",
      "\n",
      "\n",
      "## Variable QBO\n",
      "\n",
      "## Variable u60\n",
      "\n",
      "## Resulting condition sets:\n",
      "\n",
      "    Variable QBO has 3 parent(s):\n",
      "        (QBO -1): max_pval = 0.00000, min_val = 0.809\n",
      "        (QBO -2): max_pval = 0.01040, min_val = 0.272\n",
      "        (QBO -4): max_pval = 0.06278, min_val = 0.197\n",
      "\n",
      "    Variable u60 has 2 parent(s):\n",
      "        (u60 -2): max_pval = 0.03853, min_val = 0.219\n",
      "        (u60 -4): max_pval = 0.17791, min_val = 0.145\n",
      "\n",
      "##\n",
      "## Running Tigramite MCI algorithm\n",
      "##\n",
      "\n",
      "Parameters:\n",
      "\n",
      "independence test = par_corr\n",
      "tau_min = 0\n",
      "tau_max = 6\n",
      "max_conds_py = None\n",
      "max_conds_px = None\n",
      "\n",
      "## Significant links at alpha = 0.05:\n",
      "\n",
      "    Variable QBO has 3 link(s):\n",
      "        (QBO -1): pval = 0.00000 | val = 0.836 | conf = (0.000, 0.000)\n",
      "        (QBO -2): pval = 0.00014 | val = -0.399 | conf = (0.000, 0.000)\n",
      "        (QBO -3): pval = 0.00727 | val = 0.289 | conf = (0.000, 0.000)\n",
      "\n",
      "    Variable u60 has 2 link(s):\n",
      "        (u60 -2): pval = 0.01241 | val = -0.266 | conf = (0.000, 0.000)\n",
      "        (u60 -4): pval = 0.03593 | val = -0.225 | conf = (0.000, 0.000)\n"
     ]
    },
    {
     "data": {
      "image/png": "[encoded data removed]",
      "text/plain": [
       "<Figure size 720x360 with 2 Axes>"
      ]
     },
     "metadata": {},
     "output_type": "display_data"
    },
    {
     "name": "stdout",
     "output_type": "stream",
     "text": [
      "['QBO', 'u60']\n",
      "<tigramite.data_processing.DataFrame object at 0x7f31d78a5ef0>\n",
      "All years\n",
      "\n",
      "##\n",
      "## Running Tigramite PC algorithm\n",
      "##\n",
      "\n",
      "Parameters:\n",
      "independence test = par_corr\n",
      "tau_min = 1\n",
      "tau_max = 6\n",
      "pc_alpha = [0.2]\n",
      "max_conds_dim = None\n",
      "max_combinations = 1\n",
      "\n",
      "\n",
      "\n",
      "## Variable QBO\n",
      "\n",
      "## Variable u60\n",
      "\n",
      "## Resulting condition sets:\n",
      "\n",
      "    Variable QBO has 2 parent(s):\n",
      "        (QBO -1): max_pval = 0.00000, min_val = 0.866\n",
      "        (QBO -2): max_pval = 0.00010, min_val = 0.403\n",
      "\n",
      "    Variable u60 has 1 parent(s):\n",
      "        (u60 -2): max_pval = 0.01029, min_val = 0.269\n",
      "\n",
      "##\n",
      "## Running Tigramite MCI algorithm\n",
      "##\n",
      "\n",
      "Parameters:\n",
      "\n",
      "independence test = par_corr\n",
      "tau_min = 0\n",
      "tau_max = 6\n",
      "max_conds_py = None\n",
      "max_conds_px = None\n",
      "\n",
      "## Significant links at alpha = 0.05:\n",
      "\n",
      "    Variable QBO has 3 link(s):\n",
      "        (QBO -1): pval = 0.00000 | val = 0.866 | conf = (0.000, 0.000)\n",
      "        (QBO -2): pval = 0.00000 | val = -0.481 | conf = (0.000, 0.000)\n",
      "        (QBO -3): pval = 0.00028 | val = 0.382 | conf = (0.000, 0.000)\n",
      "\n",
      "    Variable u60 has 1 link(s):\n",
      "        (u60 -2): pval = 0.01601 | val = -0.255 | conf = (0.000, 0.000)\n"
     ]
    },
    {
     "data": {
      "image/png": "[encoded data removed]",
      "text/plain": [
       "<Figure size 720x360 with 2 Axes>"
      ]
     },
     "metadata": {},
     "output_type": "display_data"
    },
    {
     "name": "stdout",
     "output_type": "stream",
     "text": [
      "-----------------------------------------------------\n",
      "ISAC\n",
      "['QBO', 'u60']\n",
      "<tigramite.data_processing.DataFrame object at 0x7f31d784d978>\n",
      "All years\n",
      "\n",
      "##\n",
      "## Running Tigramite PC algorithm\n",
      "##\n",
      "\n",
      "Parameters:\n",
      "independence test = par_corr\n",
      "tau_min = 1\n",
      "tau_max = 6\n",
      "pc_alpha = [0.2]\n",
      "max_conds_dim = None\n",
      "max_combinations = 1\n",
      "\n",
      "\n",
      "\n",
      "## Variable QBO\n",
      "\n",
      "## Variable u60\n",
      "\n",
      "## Resulting condition sets:\n",
      "\n",
      "    Variable QBO has 5 parent(s):\n",
      "        (QBO -1): max_pval = 0.00000, min_val = 0.896\n",
      "        (QBO -2): max_pval = 0.00000, min_val = 0.552\n",
      "        (QBO -3): max_pval = 0.01289, min_val = 0.267\n",
      "        (u60 -6): max_pval = 0.09816, min_val = 0.175\n",
      "        (u60 -1): max_pval = 0.13290, min_val = 0.162\n",
      "\n",
      "    Variable u60 has 2 parent(s):\n",
      "        (u60 -1): max_pval = 0.04564, min_val = 0.215\n",
      "        (u60 -4): max_pval = 0.06270, min_val = 0.200\n",
      "\n",
      "##\n",
      "## Running Tigramite MCI algorithm\n",
      "##\n",
      "\n",
      "Parameters:\n",
      "\n",
      "independence test = par_corr\n",
      "tau_min = 0\n",
      "tau_max = 6\n",
      "max_conds_py = None\n",
      "max_conds_px = None\n",
      "\n",
      "## Significant links at alpha = 0.05:\n",
      "\n",
      "    Variable QBO has 3 link(s):\n",
      "        (QBO -1): pval = 0.00000 | val = 0.905 | conf = (0.000, 0.000)\n",
      "        (QBO -2): pval = 0.00000 | val = -0.590 | conf = (0.000, 0.000)\n",
      "        (QBO -3): pval = 0.00121 | val = 0.353 | conf = (0.000, 0.000)\n",
      "\n",
      "    Variable u60 has 1 link(s):\n",
      "        (u60 -1): pval = 0.00611 | val = 0.292 | conf = (0.000, 0.000)\n"
     ]
    },
    {
     "data": {
      "image/png": "[encoded data removed]",
      "text/plain": [
       "<Figure size 720x360 with 2 Axes>"
      ]
     },
     "metadata": {},
     "output_type": "display_data"
    },
    {
     "name": "stdout",
     "output_type": "stream",
     "text": [
      "-----------------------------------------------------\n",
      "MIROC AGCM\n",
      "['QBO', 'u60']\n",
      "<tigramite.data_processing.DataFrame object at 0x7f31d784d940>\n",
      "All years\n",
      "\n",
      "##\n",
      "## Running Tigramite PC algorithm\n",
      "##\n",
      "\n",
      "Parameters:\n",
      "independence test = par_corr\n",
      "tau_min = 1\n",
      "tau_max = 6\n",
      "pc_alpha = [0.2]\n",
      "max_conds_dim = None\n",
      "max_combinations = 1\n",
      "\n",
      "\n",
      "\n",
      "## Variable QBO\n",
      "\n",
      "## Variable u60\n",
      "\n",
      "## Resulting condition sets:\n",
      "\n",
      "    Variable QBO has 4 parent(s):\n",
      "        (QBO -1): max_pval = 0.00000, min_val = 0.820\n",
      "        (QBO -2): max_pval = 0.00011, min_val = 0.402\n",
      "        (QBO -6): max_pval = 0.00041, min_val = 0.371\n",
      "        (QBO -5): max_pval = 0.10094, min_val = 0.174\n",
      "\n",
      "    Variable u60 has 1 parent(s):\n",
      "        (u60 -1): max_pval = 0.01768, min_val = 0.251\n",
      "\n",
      "##\n",
      "## Running Tigramite MCI algorithm\n",
      "##\n",
      "\n",
      "Parameters:\n",
      "\n",
      "independence test = par_corr\n",
      "tau_min = 0\n",
      "tau_max = 6\n",
      "max_conds_py = None\n",
      "max_conds_px = None\n",
      "\n",
      "## Significant links at alpha = 0.05:\n",
      "\n",
      "    Variable QBO has 3 link(s):\n",
      "        (QBO -1): pval = 0.00000 | val = 0.815 | conf = (0.000, 0.000)\n",
      "        (QBO -2): pval = 0.00001 | val = -0.473 | conf = (0.000, 0.000)\n",
      "        (QBO -3): pval = 0.01750 | val = 0.260 | conf = (0.000, 0.000)\n",
      "\n",
      "    Variable u60 has 2 link(s):\n",
      "        (u60 -1): pval = 0.01572 | val = 0.255 | conf = (0.000, 0.000)\n",
      "        (QBO -3): pval = 0.04754 | val = -0.216 | conf = (0.000, 0.000)\n"
     ]
    },
    {
     "data": {
      "image/png": "[encoded data removed]",
      "text/plain": [
       "<Figure size 720x360 with 2 Axes>"
      ]
     },
     "metadata": {},
     "output_type": "display_data"
    },
    {
     "name": "stdout",
     "output_type": "stream",
     "text": [
      "['QBO', 'u60']\n",
      "<tigramite.data_processing.DataFrame object at 0x7f31dd580c88>\n",
      "All years\n",
      "\n",
      "##\n",
      "## Running Tigramite PC algorithm\n",
      "##\n",
      "\n",
      "Parameters:\n",
      "independence test = par_corr\n",
      "tau_min = 1\n",
      "tau_max = 6\n",
      "pc_alpha = [0.2]\n",
      "max_conds_dim = None\n",
      "max_combinations = 1\n",
      "\n",
      "\n",
      "\n",
      "## Variable QBO\n",
      "\n",
      "## Variable u60\n",
      "\n",
      "## Resulting condition sets:\n",
      "\n",
      "    Variable QBO has 4 parent(s):\n",
      "        (QBO -1): max_pval = 0.00000, min_val = 0.884\n",
      "        (QBO -2): max_pval = 0.00000, min_val = 0.592\n",
      "        (QBO -6): max_pval = 0.00757, min_val = 0.285\n",
      "        (QBO -5): max_pval = 0.16102, min_val = 0.152\n",
      "\n",
      "    Variable u60 has 2 parent(s):\n",
      "        (u60 -1): max_pval = 0.00143, min_val = 0.331\n",
      "        (u60 -5): max_pval = 0.15079, min_val = 0.153\n",
      "\n",
      "##\n",
      "## Running Tigramite MCI algorithm\n",
      "##\n",
      "\n",
      "Parameters:\n",
      "\n",
      "independence test = par_corr\n",
      "tau_min = 0\n",
      "tau_max = 6\n",
      "max_conds_py = None\n",
      "max_conds_px = None\n",
      "\n",
      "## Significant links at alpha = 0.05:\n",
      "\n",
      "    Variable QBO has 3 link(s):\n",
      "        (QBO -1): pval = 0.00000 | val = 0.853 | conf = (0.000, 0.000)\n",
      "        (QBO -2): pval = 0.00000 | val = -0.486 | conf = (0.000, 0.000)\n",
      "        (u60 -5): pval = 0.02974 | val = 0.237 | conf = (0.000, 0.000)\n",
      "\n",
      "    Variable u60 has 2 link(s):\n",
      "        (u60 -1): pval = 0.00065 | val = 0.359 | conf = (0.000, 0.000)\n",
      "        (u60 -2): pval = 0.04407 | val = -0.218 | conf = (0.000, 0.000)\n"
     ]
    },
    {
     "data": {
      "image/png": "[encoded data removed]",
      "text/plain": [
       "<Figure size 720x360 with 2 Axes>"
      ]
     },
     "metadata": {},
     "output_type": "display_data"
    },
    {
     "name": "stdout",
     "output_type": "stream",
     "text": [
      "-----------------------------------------------------\n",
      "MIROC ESM\n",
      "['QBO', 'u60']\n",
      "<tigramite.data_processing.DataFrame object at 0x7f31d7c88780>\n",
      "All years\n",
      "\n",
      "##\n",
      "## Running Tigramite PC algorithm\n",
      "##\n",
      "\n",
      "Parameters:\n",
      "independence test = par_corr\n",
      "tau_min = 1\n",
      "tau_max = 6\n",
      "pc_alpha = [0.2]\n",
      "max_conds_dim = None\n",
      "max_combinations = 1\n",
      "\n",
      "\n",
      "\n",
      "## Variable QBO\n",
      "\n",
      "## Variable u60\n",
      "\n",
      "## Resulting condition sets:\n",
      "\n",
      "    Variable QBO has 4 parent(s):\n",
      "        (QBO -1): max_pval = 0.00000, min_val = 0.902\n",
      "        (QBO -2): max_pval = 0.00000, min_val = 0.482\n",
      "        (QBO -3): max_pval = 0.11514, min_val = 0.170\n",
      "        (QBO -6): max_pval = 0.13772, min_val = 0.160\n",
      "\n",
      "    Variable u60 has 4 parent(s):\n",
      "        (u60 -3): max_pval = 0.03598, min_val = 0.224\n",
      "        (u60 -4): max_pval = 0.06179, min_val = 0.199\n",
      "        (u60 -1): max_pval = 0.07258, min_val = 0.195\n",
      "        (QBO -1): max_pval = 0.17598, min_val = 0.147\n",
      "\n",
      "##\n",
      "## Running Tigramite MCI algorithm\n",
      "##\n",
      "\n",
      "Parameters:\n",
      "\n",
      "independence test = par_corr\n",
      "tau_min = 0\n",
      "tau_max = 6\n",
      "max_conds_py = None\n",
      "max_conds_px = None\n",
      "\n",
      "## Significant links at alpha = 0.05:\n",
      "\n",
      "    Variable QBO has 3 link(s):\n",
      "        (QBO -1): pval = 0.00000 | val = 0.909 | conf = (0.000, 0.000)\n",
      "        (QBO -2): pval = 0.00000 | val = -0.566 | conf = (0.000, 0.000)\n",
      "        (QBO -3): pval = 0.00076 | val = 0.363 | conf = (0.000, 0.000)\n",
      "\n",
      "    Variable u60 has 2 link(s):\n",
      "        (u60 -3): pval = 0.01637 | val = -0.263 | conf = (0.000, 0.000)\n",
      "        (u60 -1): pval = 0.03065 | val = 0.237 | conf = (0.000, 0.000)\n"
     ]
    },
    {
     "data": {
      "image/png": "[encoded data removed]",
      "text/plain": [
       "<Figure size 720x360 with 2 Axes>"
      ]
     },
     "metadata": {},
     "output_type": "display_data"
    },
    {
     "name": "stdout",
     "output_type": "stream",
     "text": [
      "['QBO', 'u60']\n",
      "<tigramite.data_processing.DataFrame object at 0x7f31dd580c88>\n",
      "All years\n",
      "\n",
      "##\n",
      "## Running Tigramite PC algorithm\n",
      "##\n",
      "\n",
      "Parameters:\n",
      "independence test = par_corr\n",
      "tau_min = 1\n",
      "tau_max = 6\n",
      "pc_alpha = [0.2]\n",
      "max_conds_dim = None\n",
      "max_combinations = 1\n",
      "\n",
      "\n",
      "\n",
      "## Variable QBO\n",
      "\n",
      "## Variable u60\n",
      "\n",
      "## Resulting condition sets:\n",
      "\n",
      "    Variable QBO has 2 parent(s):\n",
      "        (QBO -1): max_pval = 0.00000, min_val = 0.766\n",
      "        (QBO -2): max_pval = 0.01776, min_val = 0.255\n",
      "\n",
      "    Variable u60 has 3 parent(s):\n",
      "        (u60 -1): max_pval = 0.01656, min_val = 0.255\n",
      "        (u60 -4): max_pval = 0.04776, min_val = 0.213\n",
      "        (u60 -2): max_pval = 0.07377, min_val = 0.190\n",
      "\n",
      "##\n",
      "## Running Tigramite MCI algorithm\n",
      "##\n",
      "\n",
      "Parameters:\n",
      "\n",
      "independence test = par_corr\n",
      "tau_min = 0\n",
      "tau_max = 6\n",
      "max_conds_py = None\n",
      "max_conds_px = None\n",
      "\n",
      "## Significant links at alpha = 0.05:\n",
      "\n",
      "    Variable QBO has 3 link(s):\n",
      "        (QBO -1): pval = 0.00000 | val = 0.772 | conf = (0.000, 0.000)\n",
      "        (QBO -2): pval = 0.00003 | val = -0.437 | conf = (0.000, 0.000)\n",
      "        (QBO -3): pval = 0.00149 | val = 0.339 | conf = (0.000, 0.000)\n",
      "\n",
      "    Variable u60 has 1 link(s):\n",
      "        (u60 -1): pval = 0.01029 | val = 0.277 | conf = (0.000, 0.000)\n"
     ]
    },
    {
     "data": {
      "image/png": "[encoded data removed]",
      "text/plain": [
       "<Figure size 720x360 with 2 Axes>"
      ]
     },
     "metadata": {},
     "output_type": "display_data"
    },
    {
     "name": "stdout",
     "output_type": "stream",
     "text": [
      "['QBO', 'u60']\n",
      "<tigramite.data_processing.DataFrame object at 0x7f31dd580c88>\n",
      "All years\n",
      "\n",
      "##\n",
      "## Running Tigramite PC algorithm\n",
      "##\n",
      "\n",
      "Parameters:\n",
      "independence test = par_corr\n",
      "tau_min = 1\n",
      "tau_max = 6\n",
      "pc_alpha = [0.2]\n",
      "max_conds_dim = None\n",
      "max_combinations = 1\n",
      "\n",
      "\n",
      "\n",
      "## Variable QBO\n",
      "\n",
      "## Variable u60\n",
      "\n",
      "## Resulting condition sets:\n",
      "\n",
      "    Variable QBO has 4 parent(s):\n",
      "        (QBO -1): max_pval = 0.00000, min_val = 0.850\n",
      "        (QBO -2): max_pval = 0.00001, min_val = 0.459\n",
      "        (QBO -6): max_pval = 0.07389, min_val = 0.190\n",
      "        (QBO -3): max_pval = 0.14259, min_val = 0.158\n",
      "\n",
      "    Variable u60 has 2 parent(s):\n",
      "        (u60 -1): max_pval = 0.03443, min_val = 0.226\n",
      "        (QBO -1): max_pval = 0.10069, min_val = 0.176\n",
      "\n",
      "##\n",
      "## Running Tigramite MCI algorithm\n",
      "##\n",
      "\n",
      "Parameters:\n",
      "\n",
      "independence test = par_corr\n",
      "tau_min = 0\n",
      "tau_max = 6\n",
      "max_conds_py = None\n",
      "max_conds_px = None\n",
      "\n",
      "## Significant links at alpha = 0.05:\n",
      "\n",
      "    Variable QBO has 4 link(s):\n",
      "        (QBO -1): pval = 0.00000 | val = 0.865 | conf = (0.000, 0.000)\n",
      "        (QBO -2): pval = 0.00000 | val = -0.544 | conf = (0.000, 0.000)\n",
      "        (QBO -3): pval = 0.00198 | val = 0.335 | conf = (0.000, 0.000)\n",
      "        (u60 -4): pval = 0.01517 | val = -0.266 | conf = (0.000, 0.000)\n",
      "\n",
      "    Variable u60 has 1 link(s):\n",
      "        (u60 -1): pval = 0.01051 | val = 0.275 | conf = (0.000, 0.000)\n"
     ]
    },
    {
     "data": {
      "image/png": "[encoded data removed]",
      "text/plain": [
       "<Figure size 720x360 with 2 Axes>"
      ]
     },
     "metadata": {},
     "output_type": "display_data"
    },
    {
     "name": "stdout",
     "output_type": "stream",
     "text": [
      "-----------------------------------------------------\n",
      "MOHC\n",
      "['QBO', 'u60']\n",
      "<tigramite.data_processing.DataFrame object at 0x7f31d7aee828>\n",
      "All years\n",
      "\n",
      "##\n",
      "## Running Tigramite PC algorithm\n",
      "##\n",
      "\n",
      "Parameters:\n",
      "independence test = par_corr\n",
      "tau_min = 1\n",
      "tau_max = 6\n",
      "pc_alpha = [0.2]\n",
      "max_conds_dim = None\n",
      "max_combinations = 1\n",
      "\n",
      "\n",
      "\n",
      "## Variable QBO\n",
      "\n",
      "## Variable u60\n",
      "\n",
      "## Resulting condition sets:\n",
      "\n",
      "    Variable QBO has 2 parent(s):\n",
      "        (QBO -1): max_pval = 0.00000, min_val = 0.853\n",
      "        (QBO -2): max_pval = 0.00011, min_val = 0.403\n",
      "\n",
      "    Variable u60 has 2 parent(s):\n",
      "        (u60 -1): max_pval = 0.00002, min_val = 0.441\n",
      "        (u60 -3): max_pval = 0.12797, min_val = 0.163\n",
      "\n",
      "##\n",
      "## Running Tigramite MCI algorithm\n",
      "##\n",
      "\n",
      "Parameters:\n",
      "\n",
      "independence test = par_corr\n",
      "tau_min = 0\n",
      "tau_max = 6\n",
      "max_conds_py = None\n",
      "max_conds_px = None\n",
      "\n",
      "## Significant links at alpha = 0.05:\n",
      "\n",
      "    Variable QBO has 4 link(s):\n",
      "        (QBO -1): pval = 0.00000 | val = 0.853 | conf = (0.000, 0.000)\n",
      "        (QBO -2): pval = 0.00054 | val = -0.366 | conf = (0.000, 0.000)\n",
      "        (QBO -4): pval = 0.04074 | val = 0.222 | conf = (0.000, 0.000)\n",
      "        (QBO -5): pval = 0.04764 | val = 0.215 | conf = (0.000, 0.000)\n",
      "\n",
      "    Variable u60 has 2 link(s):\n",
      "        (u60 -1): pval = 0.00000 | val = 0.510 | conf = (0.000, 0.000)\n",
      "        (u60 -2): pval = 0.04300 | val = -0.219 | conf = (0.000, 0.000)\n"
     ]
    },
    {
     "data": {
      "image/png": "[encoded data removed]",
      "text/plain": [
       "<Figure size 720x360 with 2 Axes>"
      ]
     },
     "metadata": {},
     "output_type": "display_data"
    },
    {
     "name": "stdout",
     "output_type": "stream",
     "text": [
      "['QBO', 'u60']\n",
      "<tigramite.data_processing.DataFrame object at 0x7f31dd51ce80>\n",
      "All years\n",
      "\n",
      "##\n",
      "## Running Tigramite PC algorithm\n",
      "##\n",
      "\n",
      "Parameters:\n",
      "independence test = par_corr\n",
      "tau_min = 1\n",
      "tau_max = 6\n",
      "pc_alpha = [0.2]\n",
      "max_conds_dim = None\n",
      "max_combinations = 1\n",
      "\n",
      "\n",
      "\n",
      "## Variable QBO\n",
      "\n",
      "## Variable u60\n",
      "\n",
      "## Resulting condition sets:\n",
      "\n",
      "    Variable QBO has 3 parent(s):\n",
      "        (QBO -1): max_pval = 0.00000, min_val = 0.856\n",
      "        (QBO -2): max_pval = 0.02908, min_val = 0.234\n",
      "        (QBO -6): max_pval = 0.10473, min_val = 0.175\n",
      "\n",
      "    Variable u60 has 1 parent(s):\n",
      "        (u60 -1): max_pval = 0.00040, min_val = 0.369\n",
      "\n",
      "##\n",
      "## Running Tigramite MCI algorithm\n",
      "##\n",
      "\n",
      "Parameters:\n",
      "\n",
      "independence test = par_corr\n",
      "tau_min = 0\n",
      "tau_max = 6\n",
      "max_conds_py = None\n",
      "max_conds_px = None\n",
      "\n",
      "## Significant links at alpha = 0.05:\n",
      "\n",
      "    Variable QBO has 6 link(s):\n",
      "        (QBO -1): pval = 0.00000 | val = 0.844 | conf = (0.000, 0.000)\n",
      "        (u60 0): pval = 0.00258 | val = 0.323 | conf = (0.000, 0.000)\n",
      "        (u60 -3): pval = 0.01362 | val = 0.267 | conf = (0.000, 0.000)\n",
      "        (QBO -2): pval = 0.01592 | val = -0.262 | conf = (0.000, 0.000)\n",
      "        (QBO -4): pval = 0.02240 | val = 0.249 | conf = (0.000, 0.000)\n",
      "        (QBO -5): pval = 0.03222 | val = 0.234 | conf = (0.000, 0.000)\n",
      "\n",
      "    Variable u60 has 3 link(s):\n",
      "        (u60 -1): pval = 0.00006 | val = 0.415 | conf = (0.000, 0.000)\n",
      "        (QBO 0): pval = 0.00258 | val = 0.323 | conf = (0.000, 0.000)\n",
      "        (u60 -2): pval = 0.01506 | val = -0.260 | conf = (0.000, 0.000)\n"
     ]
    },
    {
     "data": {
      "image/png": "[encoded data removed]",
      "text/plain": [
       "<Figure size 720x360 with 3 Axes>"
      ]
     },
     "metadata": {},
     "output_type": "display_data"
    },
    {
     "name": "stdout",
     "output_type": "stream",
     "text": [
      "['QBO', 'u60']\n",
      "<tigramite.data_processing.DataFrame object at 0x7f31dd51ce80>\n",
      "All years\n",
      "\n",
      "##\n",
      "## Running Tigramite PC algorithm\n",
      "##\n",
      "\n",
      "Parameters:\n",
      "independence test = par_corr\n",
      "tau_min = 1\n",
      "tau_max = 6\n",
      "pc_alpha = [0.2]\n",
      "max_conds_dim = None\n",
      "max_combinations = 1\n",
      "\n",
      "\n",
      "\n",
      "## Variable QBO\n",
      "\n",
      "## Variable u60\n",
      "\n",
      "## Resulting condition sets:\n",
      "\n",
      "    Variable QBO has 3 parent(s):\n",
      "        (QBO -1): max_pval = 0.00000, min_val = 0.826\n",
      "        (QBO -2): max_pval = 0.00046, min_val = 0.367\n",
      "        (u60 -3): max_pval = 0.10435, min_val = 0.173\n",
      "\n",
      "    Variable u60 has 3 parent(s):\n",
      "        (u60 -1): max_pval = 0.00001, min_val = 0.465\n",
      "        (u60 -5): max_pval = 0.01448, min_val = 0.261\n",
      "        (QBO -6): max_pval = 0.06657, min_val = 0.198\n",
      "\n",
      "##\n",
      "## Running Tigramite MCI algorithm\n",
      "##\n",
      "\n",
      "Parameters:\n",
      "\n",
      "independence test = par_corr\n",
      "tau_min = 0\n",
      "tau_max = 6\n",
      "max_conds_py = None\n",
      "max_conds_px = None\n",
      "\n",
      "## Significant links at alpha = 0.05:\n",
      "\n",
      "    Variable QBO has 3 link(s):\n",
      "        (QBO -1): pval = 0.00000 | val = 0.842 | conf = (0.000, 0.000)\n",
      "        (QBO -2): pval = 0.00006 | val = -0.425 | conf = (0.000, 0.000)\n",
      "        (u60 -3): pval = 0.01419 | val = 0.267 | conf = (0.000, 0.000)\n",
      "\n",
      "    Variable u60 has 1 link(s):\n",
      "        (u60 -1): pval = 0.00007 | val = 0.419 | conf = (0.000, 0.000)\n"
     ]
    },
    {
     "data": {
      "image/png": "[encoded data removed]",
      "text/plain": [
       "<Figure size 720x360 with 2 Axes>"
      ]
     },
     "metadata": {},
     "output_type": "display_data"
    },
    {
     "name": "stdout",
     "output_type": "stream",
     "text": [
      "-----------------------------------------------------\n",
      "MRI\n",
      "['QBO', 'u60']\n",
      "<tigramite.data_processing.DataFrame object at 0x7f31dd9bb940>\n",
      "All years\n",
      "\n",
      "##\n",
      "## Running Tigramite PC algorithm\n",
      "##\n",
      "\n",
      "Parameters:\n",
      "independence test = par_corr\n",
      "tau_min = 1\n",
      "tau_max = 6\n",
      "pc_alpha = [0.2]\n",
      "max_conds_dim = None\n",
      "max_combinations = 1\n",
      "\n",
      "\n",
      "\n",
      "## Variable QBO\n",
      "\n",
      "## Variable u60\n",
      "\n",
      "## Resulting condition sets:\n",
      "\n",
      "    Variable QBO has 4 parent(s):\n",
      "        (QBO -1): max_pval = 0.00000, min_val = 0.774\n",
      "        (QBO -3): max_pval = 0.02996, min_val = 0.232\n",
      "        (QBO -4): max_pval = 0.05909, min_val = 0.200\n",
      "        (QBO -2): max_pval = 0.13595, min_val = 0.160\n",
      "\n",
      "    Variable u60 has 1 parent(s):\n",
      "        (u60 -1): max_pval = 0.00169, min_val = 0.328\n",
      "\n",
      "##\n",
      "## Running Tigramite MCI algorithm\n",
      "##\n",
      "\n",
      "Parameters:\n",
      "\n",
      "independence test = par_corr\n",
      "tau_min = 0\n",
      "tau_max = 6\n",
      "max_conds_py = None\n",
      "max_conds_px = None\n",
      "\n",
      "## Significant links at alpha = 0.05:\n",
      "\n",
      "    Variable QBO has 6 link(s):\n",
      "        (QBO -1): pval = 0.00000 | val = 0.795 | conf = (0.000, 0.000)\n",
      "        (QBO -2): pval = 0.00008 | val = -0.415 | conf = (0.000, 0.000)\n",
      "        (QBO -3): pval = 0.00076 | val = 0.360 | conf = (0.000, 0.000)\n",
      "        (QBO -4): pval = 0.00379 | val = -0.314 | conf = (0.000, 0.000)\n",
      "        (u60 0): pval = 0.01047 | val = 0.276 | conf = (0.000, 0.000)\n",
      "        (QBO -5): pval = 0.02692 | val = 0.244 | conf = (0.000, 0.000)\n",
      "\n",
      "    Variable u60 has 3 link(s):\n",
      "        (u60 -1): pval = 0.00020 | val = 0.385 | conf = (0.000, 0.000)\n",
      "        (u60 -2): pval = 0.00459 | val = -0.299 | conf = (0.000, 0.000)\n",
      "        (QBO 0): pval = 0.01047 | val = 0.276 | conf = (0.000, 0.000)\n"
     ]
    },
    {
     "data": {
      "image/png": "[encoded data removed]",
      "text/plain": [
       "<Figure size 720x360 with 2 Axes>"
      ]
     },
     "metadata": {},
     "output_type": "display_data"
    },
    {
     "name": "stdout",
     "output_type": "stream",
     "text": [
      "-----------------------------------------------------\n",
      "WACCM\n",
      "['QBO', 'u60']\n",
      "<tigramite.data_processing.DataFrame object at 0x7f31d7b28860>\n",
      "All years\n",
      "\n",
      "##\n",
      "## Running Tigramite PC algorithm\n",
      "##\n",
      "\n",
      "Parameters:\n",
      "independence test = par_corr\n",
      "tau_min = 1\n",
      "tau_max = 6\n",
      "pc_alpha = [0.2]\n",
      "max_conds_dim = None\n",
      "max_combinations = 1\n",
      "\n",
      "\n",
      "\n",
      "## Variable QBO\n",
      "\n",
      "## Variable u60\n",
      "\n",
      "## Resulting condition sets:\n",
      "\n",
      "    Variable QBO has 4 parent(s):\n",
      "        (QBO -1): max_pval = 0.00000, min_val = 0.842\n",
      "        (QBO -2): max_pval = 0.00000, min_val = 0.437\n",
      "        (QBO -3): max_pval = 0.02626, min_val = 0.221\n",
      "        (u60 -5): max_pval = 0.14221, min_val = 0.146\n",
      "\n",
      "    Variable u60 has 2 parent(s):\n",
      "        (u60 -1): max_pval = 0.02132, min_val = 0.228\n",
      "        (u60 -6): max_pval = 0.10032, min_val = 0.164\n",
      "\n",
      "##\n",
      "## Running Tigramite MCI algorithm\n",
      "##\n",
      "\n",
      "Parameters:\n",
      "\n",
      "independence test = par_corr\n",
      "tau_min = 0\n",
      "tau_max = 6\n",
      "max_conds_py = None\n",
      "max_conds_px = None\n",
      "\n",
      "## Significant links at alpha = 0.05:\n",
      "\n",
      "    Variable QBO has 3 link(s):\n",
      "        (QBO -1): pval = 0.00000 | val = 0.849 | conf = (0.000, 0.000)\n",
      "        (QBO -2): pval = 0.00001 | val = -0.430 | conf = (0.000, 0.000)\n",
      "        (QBO -3): pval = 0.04851 | val = 0.202 | conf = (0.000, 0.000)\n",
      "\n",
      "    Variable u60 has 1 link(s):\n",
      "        (u60 -1): pval = 0.00300 | val = 0.294 | conf = (0.000, 0.000)\n"
     ]
    },
    {
     "data": {
      "image/png": "[encoded data removed]",
      "text/plain": [
       "<Figure size 720x360 with 2 Axes>"
      ]
     },
     "metadata": {},
     "output_type": "display_data"
    },
    {
     "name": "stdout",
     "output_type": "stream",
     "text": [
      "['QBO', 'u60']\n",
      "<tigramite.data_processing.DataFrame object at 0x7f31d7b28860>\n",
      "All years\n",
      "\n",
      "##\n",
      "## Running Tigramite PC algorithm\n",
      "##\n",
      "\n",
      "Parameters:\n",
      "independence test = par_corr\n",
      "tau_min = 1\n",
      "tau_max = 6\n",
      "pc_alpha = [0.2]\n",
      "max_conds_dim = None\n",
      "max_combinations = 1\n",
      "\n",
      "\n",
      "\n",
      "## Variable QBO\n",
      "\n",
      "## Variable u60\n",
      "\n",
      "## Resulting condition sets:\n",
      "\n",
      "    Variable QBO has 3 parent(s):\n",
      "        (QBO -1): max_pval = 0.00000, min_val = 0.846\n",
      "        (QBO -2): max_pval = 0.00011, min_val = 0.375\n",
      "        (QBO -6): max_pval = 0.12253, min_val = 0.155\n",
      "\n",
      "    Variable u60 has 2 parent(s):\n",
      "        (u60 -1): max_pval = 0.00083, min_val = 0.326\n",
      "        (QBO -1): max_pval = 0.14892, min_val = 0.144\n",
      "\n",
      "##\n",
      "## Running Tigramite MCI algorithm\n",
      "##\n",
      "\n",
      "Parameters:\n",
      "\n",
      "independence test = par_corr\n",
      "tau_min = 0\n",
      "tau_max = 6\n",
      "max_conds_py = None\n",
      "max_conds_px = None\n",
      "\n",
      "## Significant links at alpha = 0.05:\n",
      "\n",
      "    Variable QBO has 2 link(s):\n",
      "        (QBO -1): pval = 0.00000 | val = 0.838 | conf = (0.000, 0.000)\n",
      "        (QBO -2): pval = 0.00018 | val = -0.369 | conf = (0.000, 0.000)\n",
      "\n",
      "    Variable u60 has 1 link(s):\n",
      "        (u60 -1): pval = 0.00010 | val = 0.378 | conf = (0.000, 0.000)\n"
     ]
    },
    {
     "data": {
      "image/png": "[encoded data removed]",
      "text/plain": [
       "<Figure size 720x360 with 2 Axes>"
      ]
     },
     "metadata": {},
     "output_type": "display_data"
    },
    {
     "name": "stdout",
     "output_type": "stream",
     "text": [
      "['QBO', 'u60']\n",
      "<tigramite.data_processing.DataFrame object at 0x7f31d7b28860>\n",
      "All years\n",
      "\n",
      "##\n",
      "## Running Tigramite PC algorithm\n",
      "##\n",
      "\n",
      "Parameters:\n",
      "independence test = par_corr\n",
      "tau_min = 1\n",
      "tau_max = 6\n",
      "pc_alpha = [0.2]\n",
      "max_conds_dim = None\n",
      "max_combinations = 1\n",
      "\n",
      "\n",
      "\n",
      "## Variable QBO\n",
      "\n",
      "## Variable u60\n",
      "\n",
      "## Resulting condition sets:\n",
      "\n",
      "    Variable QBO has 4 parent(s):\n",
      "        (QBO -1): max_pval = 0.00000, min_val = 0.832\n",
      "        (QBO -2): max_pval = 0.00033, min_val = 0.350\n",
      "        (QBO -3): max_pval = 0.11282, min_val = 0.159\n",
      "        (QBO -6): max_pval = 0.13010, min_val = 0.152\n",
      "\n",
      "    Variable u60 has 1 parent(s):\n",
      "        (u60 -1): max_pval = 0.00008, min_val = 0.380\n",
      "\n",
      "##\n",
      "## Running Tigramite MCI algorithm\n",
      "##\n",
      "\n",
      "Parameters:\n",
      "\n",
      "independence test = par_corr\n",
      "tau_min = 0\n",
      "tau_max = 6\n",
      "max_conds_py = None\n",
      "max_conds_px = None\n",
      "\n",
      "## Significant links at alpha = 0.05:\n",
      "\n",
      "    Variable QBO has 2 link(s):\n",
      "        (QBO -1): pval = 0.00000 | val = 0.818 | conf = (0.000, 0.000)\n",
      "        (QBO -2): pval = 0.00020 | val = -0.369 | conf = (0.000, 0.000)\n",
      "\n",
      "    Variable u60 has 2 link(s):\n",
      "        (u60 -1): pval = 0.00000 | val = 0.444 | conf = (0.000, 0.000)\n",
      "        (u60 -2): pval = 0.01521 | val = -0.241 | conf = (0.000, 0.000)\n"
     ]
    },
    {
     "data": {
      "image/png": "[encoded data removed]",
      "text/plain": [
       "<Figure size 720x360 with 2 Axes>"
      ]
     },
     "metadata": {},
     "output_type": "display_data"
    },
    {
     "name": "stdout",
     "output_type": "stream",
     "text": [
      "-----------------------------------------------------\n",
      "YONSEI A\n",
      "['QBO', 'u60']\n",
      "<tigramite.data_processing.DataFrame object at 0x7f31d7e06278>\n",
      "All years\n",
      "\n",
      "##\n",
      "## Running Tigramite PC algorithm\n",
      "##\n",
      "\n",
      "Parameters:\n",
      "independence test = par_corr\n",
      "tau_min = 1\n",
      "tau_max = 6\n",
      "pc_alpha = [0.2]\n",
      "max_conds_dim = None\n",
      "max_combinations = 1\n",
      "\n",
      "\n",
      "\n",
      "## Variable QBO\n",
      "\n",
      "## Variable u60\n",
      "\n",
      "## Resulting condition sets:\n",
      "\n",
      "    Variable QBO has 3 parent(s):\n",
      "        (QBO -1): max_pval = 0.00000, min_val = 0.860\n",
      "        (QBO -2): max_pval = 0.00003, min_val = 0.451\n",
      "        (QBO -3): max_pval = 0.10991, min_val = 0.181\n",
      "\n",
      "    Variable u60 has 5 parent(s):\n",
      "        (u60 -1): max_pval = 0.00300, min_val = 0.330\n",
      "        (u60 -3): max_pval = 0.00865, min_val = 0.292\n",
      "        (QBO -6): max_pval = 0.01629, min_val = 0.272\n",
      "        (u60 -2): max_pval = 0.01842, min_val = 0.261\n",
      "        (QBO -5): max_pval = 0.08161, min_val = 0.200\n",
      "\n",
      "##\n",
      "## Running Tigramite MCI algorithm\n",
      "##\n",
      "\n",
      "Parameters:\n",
      "\n",
      "independence test = par_corr\n",
      "tau_min = 0\n",
      "tau_max = 6\n",
      "max_conds_py = None\n",
      "max_conds_px = None\n",
      "\n",
      "## Significant links at alpha = 0.05:\n",
      "\n",
      "    Variable QBO has 4 link(s):\n",
      "        (QBO -1): pval = 0.00000 | val = 0.860 | conf = (0.000, 0.000)\n",
      "        (QBO -2): pval = 0.00004 | val = -0.449 | conf = (0.000, 0.000)\n",
      "        (u60 0): pval = 0.02716 | val = 0.259 | conf = (0.000, 0.000)\n",
      "        (QBO -3): pval = 0.04938 | val = 0.226 | conf = (0.000, 0.000)\n",
      "\n",
      "    Variable u60 has 4 link(s):\n",
      "        (u60 -1): pval = 0.00234 | val = 0.346 | conf = (0.000, 0.000)\n",
      "        (u60 -3): pval = 0.01442 | val = -0.287 | conf = (0.000, 0.000)\n",
      "        (u60 -2): pval = 0.01636 | val = -0.280 | conf = (0.000, 0.000)\n",
      "        (QBO 0): pval = 0.02716 | val = 0.259 | conf = (0.000, 0.000)\n"
     ]
    },
    {
     "data": {
      "image/png": "[encoded data removed]",
      "text/plain": [
       "<Figure size 720x360 with 2 Axes>"
      ]
     },
     "metadata": {},
     "output_type": "display_data"
    },
    {
     "name": "stdout",
     "output_type": "stream",
     "text": [
      "-----------------------------------------------------\n",
      "YONSEI AC\n",
      "['QBO', 'u60']\n",
      "<tigramite.data_processing.DataFrame object at 0x7f31d7e06278>\n",
      "All years\n",
      "\n",
      "##\n",
      "## Running Tigramite PC algorithm\n",
      "##\n",
      "\n",
      "Parameters:\n",
      "independence test = par_corr\n",
      "tau_min = 1\n",
      "tau_max = 6\n",
      "pc_alpha = [0.2]\n",
      "max_conds_dim = None\n",
      "max_combinations = 1\n",
      "\n",
      "\n",
      "\n",
      "## Variable QBO\n",
      "\n",
      "## Variable u60\n",
      "\n",
      "## Resulting condition sets:\n",
      "\n",
      "    Variable QBO has 2 parent(s):\n",
      "        (QBO -1): max_pval = 0.00000, min_val = 0.844\n",
      "        (QBO -2): max_pval = 0.00331, min_val = 0.327\n",
      "\n",
      "    Variable u60 has 2 parent(s):\n",
      "        (u60 -1): max_pval = 0.00139, min_val = 0.349\n",
      "        (u60 -6): max_pval = 0.14551, min_val = 0.163\n",
      "\n",
      "##\n",
      "## Running Tigramite MCI algorithm\n",
      "##\n",
      "\n",
      "Parameters:\n",
      "\n",
      "independence test = par_corr\n",
      "tau_min = 0\n",
      "tau_max = 6\n",
      "max_conds_py = None\n",
      "max_conds_px = None\n",
      "\n",
      "## Significant links at alpha = 0.05:\n",
      "\n",
      "    Variable QBO has 3 link(s):\n",
      "        (QBO -1): pval = 0.00000 | val = 0.844 | conf = (0.000, 0.000)\n",
      "        (u60 0): pval = 0.01036 | val = 0.291 | conf = (0.000, 0.000)\n",
      "        (QBO -2): pval = 0.01582 | val = -0.272 | conf = (0.000, 0.000)\n",
      "\n",
      "    Variable u60 has 3 link(s):\n",
      "        (u60 -1): pval = 0.00043 | val = 0.389 | conf = (0.000, 0.000)\n",
      "        (QBO 0): pval = 0.01036 | val = 0.291 | conf = (0.000, 0.000)\n",
      "        (u60 -4): pval = 0.02438 | val = 0.256 | conf = (0.000, 0.000)\n"
     ]
    },
    {
     "data": {
      "image/png": "[encoded data removed]",
      "text/plain": [
       "<Figure size 720x360 with 2 Axes>"
      ]
     },
     "metadata": {},
     "output_type": "display_data"
    }
   ],
   "source": [
    "#=========================================================================================\n",
    "save_plot=False #True # set to True/False to save the plots to drive folder\n",
    "# All available variable names:\n",
    "# var_names=['NAO','BK-tas','EA-tas','PoV','Sib-SLP','Ural-SLP','v_flux','NAO','QBO','u60']\n",
    "var_select=['NAO','BK-SIC','EA-tas','PoV','Sib-SLP','Ural-SLP','v_flux']\n",
    "var_select=['QBO','u60'] #,'NAO']\n",
    "#=========================================================================================\n",
    "save_plot=False #True # set to True/False to save the plots to drive folder\n",
    "\n",
    "print(\"-----------------------------------------------------\")\n",
    "print(\"ERA\")\n",
    "plot_model(era_noqbo,era_noqbo_mask,era_qboe_mask,era_qbow_mask,\n",
    "           var_select=var_select,save_plot=save_plot,save_name=\"era\", title=\"era\",pc_alpha=pc_alpha,\n",
    "                 alpha_level=alpha_level,tau_min=tau_min,tau_max=tau_max)\n",
    "print(\"-----------------------------------------------------\")\n",
    "print(\"CAM\")\n",
    "plot_model(cam_noqbo_r1,cam_noqbo_mask_r1,cam_qboe_mask_r1,cam_qbow_mask_r1,\n",
    "           var_select=var_select,save_plot=save_plot,save_name=\"cam_r1\", title=\"cam_r1\",pc_alpha=pc_alpha,\n",
    "                 alpha_level=alpha_level,tau_min=tau_min,tau_max=tau_max)\n",
    "plot_model(cam_noqbo_r2,cam_noqbo_mask_r2,cam_qboe_mask_r2,cam_qbow_mask_r2,\n",
    "           var_select=var_select,save_plot=save_plot,save_name=\"cam_r2\", title=\"cam_r2\",pc_alpha=pc_alpha,\n",
    "                 alpha_level=alpha_level,tau_min=tau_min,tau_max=tau_max)\n",
    "plot_model(cam_noqbo_r3,cam_noqbo_mask_r3,cam_qboe_mask_r3,cam_qbow_mask_r3,\n",
    "           var_select=var_select,save_plot=save_plot,save_name=\"cam_r3\", title=\"cam_r3\",pc_alpha=pc_alpha,\n",
    "                 alpha_level=alpha_level,tau_min=tau_min,tau_max=tau_max)\n",
    "print(\"-----------------------------------------------------\")\n",
    "print(\"CCCMA\")\n",
    "plot_model(cccmacmam_noqbo_r1,cccmacmam_noqbo_mask_r1,cccmacmam_qboe_mask_r1,cccmacmam_qbow_mask_r1,\n",
    "           var_select=var_select,save_plot=save_plot,save_name=\"cccmacmam_r1\",title=\"cccmacmam_r1\",pc_alpha=pc_alpha,\n",
    "                 alpha_level=alpha_level,tau_min=tau_min,tau_max=tau_max)\n",
    "plot_model(cccmacmam_noqbo_r2,cccmacmam_noqbo_mask_r2,cccmacmam_qboe_mask_r2,cccmacmam_qbow_mask_r2,\n",
    "           var_select=var_select,save_plot=save_plot,save_name=\"cccmacmam_r2\",title=\"cccmacmam_r2\",pc_alpha=pc_alpha,\n",
    "                 alpha_level=alpha_level,tau_min=tau_min,tau_max=tau_max)\n",
    "plot_model(cccmacmam_noqbo_r3,cccmacmam_noqbo_mask_r3,cccmacmam_qboe_mask_r3,cccmacmam_qbow_mask_r3,\n",
    "           var_select=var_select,save_plot=save_plot,save_name=\"cccmacmam_r3\",title=\"cccmacmam_r3\",pc_alpha=pc_alpha,\n",
    "                 alpha_level=alpha_level,tau_min=tau_min,tau_max=tau_max)\n",
    "print(\"-----------------------------------------------------\")\n",
    "print(\"ISAC\")\n",
    "plot_model(isac_cnrecham5sh_noqbo,isac_cnrecham5sh_noqbo_mask,isac_cnrecham5sh_qboe_mask,isac_cnrecham5sh_qbow_mask,\n",
    "           var_select=var_select,save_plot=save_plot,save_name=\"isac_cnrecham5sh\",title=\"isac_cnrecham5sh\",pc_alpha=pc_alpha,\n",
    "                 alpha_level=alpha_level,tau_min=tau_min,tau_max=tau_max)\n",
    "print(\"-----------------------------------------------------\")\n",
    "print(\"MIROC AGCM\")\n",
    "plot_model(mirocmiroc_agcm_noqbo_r2,mirocmiroc_agcm_noqbo_mask_r2,mirocmiroc_agcm_qboe_mask_r2,mirocmiroc_agcm_qbow_mask_r2,\n",
    "           var_select=var_select,save_plot=save_plot,save_name=\"mirocmiroc_agcm_r2\",title=\"mirocmiroc_agcm_r2\",pc_alpha=pc_alpha,\n",
    "                 alpha_level=alpha_level,tau_min=tau_min,tau_max=tau_max)\n",
    "plot_model(mirocmiroc_agcm_noqbo_r3,mirocmiroc_agcm_noqbo_mask_r3,mirocmiroc_agcm_qboe_mask_r3,mirocmiroc_agcm_qbow_mask_r3,\n",
    "           var_select=var_select,save_plot=save_plot,save_name=\"mirocmiroc_agcm_r3\",title=\"mirocmiroc_agcm_r3\",pc_alpha=pc_alpha,\n",
    "                 alpha_level=alpha_level,tau_min=tau_min,tau_max=tau_max)\n",
    "print(\"-----------------------------------------------------\")\n",
    "print(\"MIROC ESM\")\n",
    "plot_model(mirocmiroc_esm_noqbo_r1,mirocmiroc_esm_noqbo_mask_r1,mirocmiroc_esm_qboe_mask_r1,mirocmiroc_esm_qbow_mask_r1,\n",
    "           var_select=var_select,save_plot=save_plot,save_name=\"mirocmiroc_esm_r1\",title=\"mirocmiroc_esm_r1\",pc_alpha=pc_alpha,\n",
    "                 alpha_level=alpha_level,tau_min=tau_min,tau_max=tau_max)\n",
    "plot_model(mirocmiroc_esm_noqbo_r2,mirocmiroc_esm_noqbo_mask_r2,mirocmiroc_esm_qboe_mask_r2,mirocmiroc_esm_qbow_mask_r2,\n",
    "           var_select=var_select,save_plot=save_plot,save_name=\"mirocmiroc_esm_r2\",title=\"mirocmiroc_esm_r2\",pc_alpha=pc_alpha,\n",
    "                 alpha_level=alpha_level,tau_min=tau_min,tau_max=tau_max)\n",
    "plot_model(mirocmiroc_esm_noqbo_r3,mirocmiroc_esm_noqbo_mask_r3,mirocmiroc_esm_qboe_mask_r3,mirocmiroc_esm_qbow_mask_r3,\n",
    "           var_select=var_select,save_plot=save_plot,save_name=\"mirocmiroc_esm_r3\",title=\"mirocmiroc_esm_r3\",pc_alpha=pc_alpha,\n",
    "                 alpha_level=alpha_level,tau_min=tau_min,tau_max=tau_max)\n",
    "print(\"-----------------------------------------------------\")\n",
    "print(\"MOHC\")\n",
    "plot_model(mohcumga7_noqbo_r2,mohcumga7_noqbo_mask_r2,mohcumga7_qboe_mask_r2,mohcumga7_qbow_mask_r2,\n",
    "           var_select=var_select,save_plot=save_plot,save_name=\"mohcumga7 r2\",title=\"mohcumga7 r2\",pc_alpha=pc_alpha,\n",
    "                 alpha_level=alpha_level,tau_min=tau_min,tau_max=tau_max)\n",
    "plot_model(mohcumga7_noqbo_r3,mohcumga7_noqbo_mask_r3,mohcumga7_qboe_mask_r3,mohcumga7_qbow_mask_r3,\n",
    "           var_select=var_select,save_plot=save_plot,save_name=\"mohcumga7 r3\",title=\"mohcumga7 r3\",pc_alpha=pc_alpha,\n",
    "                 alpha_level=alpha_level,tau_min=tau_min,tau_max=tau_max)\n",
    "plot_model(mohcumga7_noqbo_r4,mohcumga7_noqbo_mask_r4,mohcumga7_qboe_mask_r4,mohcumga7_qbow_mask_r4,\n",
    "           var_select=var_select,save_plot=save_plot,save_name=\"mohcumga7 r4\",title=\"mohcumga7 r4\",pc_alpha=pc_alpha,\n",
    "                 alpha_level=alpha_level,tau_min=tau_min,tau_max=tau_max)\n",
    "print(\"-----------------------------------------------------\")\n",
    "print(\"MRI\")\n",
    "plot_model(mrimri_esm2_noqbo_r1,mrimri_esm2_noqbo_mask_r1,mrimri_esm2_qboe_mask_r1,mrimri_esm2_qbow_mask_r1,\n",
    "           var_select=var_select,save_plot=save_plot,save_name=\"mrimri_esm2 r1\",title=\"mrimri_esm2 r1\",pc_alpha=pc_alpha,\n",
    "                 alpha_level=alpha_level,tau_min=tau_min,tau_max=tau_max)\n",
    "print(\"-----------------------------------------------------\")\n",
    "print(\"WACCM\")\n",
    "plot_model(waccm_noqbo_r1,waccm_noqbo_mask_r1,waccm_qboe_mask_r1,waccm_qbow_mask_r1,\n",
    "           var_select=var_select,save_plot=save_plot,save_name=\"waccm_r1\", title=\"waccm_r1\",pc_alpha=pc_alpha,\n",
    "                 alpha_level=alpha_level,tau_min=tau_min,tau_max=tau_max)\n",
    "plot_model(waccm_noqbo_r2,waccm_noqbo_mask_r2,waccm_qboe_mask_r2,waccm_qbow_mask_r2,\n",
    "           var_select=var_select,save_plot=save_plot,save_name=\"waccm_r2\", title=\"waccm_r2\",pc_alpha=pc_alpha,\n",
    "                 alpha_level=alpha_level,tau_min=tau_min,tau_max=tau_max)\n",
    "plot_model(waccm_noqbo_r3,waccm_noqbo_mask_r3,waccm_qboe_mask_r3,waccm_qbow_mask_r3,\n",
    "           var_select=var_select,save_plot=save_plot,save_name=\"waccm_r3\", title=\"waccm_r3\",pc_alpha=pc_alpha,\n",
    "                 alpha_level=alpha_level,tau_min=tau_min,tau_max=tau_max)\n",
    "print(\"-----------------------------------------------------\")\n",
    "print(\"YONSEI A\")\n",
    "plot_model(yonseihadgem2_a_noqbo,yonseihadgem2_a_noqbo_mask,yonseihadgem2_a_qboe_mask,yonseihadgem2_a_qbow_mask,\n",
    "           var_select=var_select,save_plot=save_plot,save_name=\"yonseihadgem2_a\",title=\"yonseihadgem2_a\",pc_alpha=pc_alpha,\n",
    "                 alpha_level=alpha_level,tau_min=tau_min,tau_max=tau_max)\n",
    "print(\"-----------------------------------------------------\")\n",
    "print(\"YONSEI AC\")\n",
    "plot_model(yonseihadgem2_ac_noqbo,yonseihadgem2_ac_noqbo_mask,yonseihadgem2_ac_qboe_mask,yonseihadgem2_ac_qbow_mask,\n",
    "           var_select=var_select,save_plot=save_plot,save_name=\"yonseihadgem2_ac\",title=\"yonseihadgem2_ac\",pc_alpha=pc_alpha,\n",
    "                 alpha_level=alpha_level,tau_min=tau_min,tau_max=tau_max)"
   ]
  },
  {
   "cell_type": "code",
   "execution_count": null,
   "metadata": {},
   "outputs": [],
   "source": []
  },
  {
   "cell_type": "code",
   "execution_count": null,
   "metadata": {},
   "outputs": [],
   "source": []
  },
  {
   "cell_type": "code",
   "execution_count": null,
   "metadata": {},
   "outputs": [],
   "source": []
  },
  {
   "cell_type": "code",
   "execution_count": null,
   "metadata": {},
   "outputs": [],
   "source": []
  },
  {
   "cell_type": "code",
   "execution_count": null,
   "metadata": {},
   "outputs": [],
   "source": []
  },
  {
   "cell_type": "code",
   "execution_count": null,
   "metadata": {},
   "outputs": [],
   "source": []
  },
  {
   "cell_type": "code",
   "execution_count": null,
   "metadata": {},
   "outputs": [],
   "source": []
  },
  {
   "cell_type": "code",
   "execution_count": null,
   "metadata": {},
   "outputs": [],
   "source": []
  },
  {
   "cell_type": "code",
   "execution_count": null,
   "metadata": {},
   "outputs": [],
   "source": []
  },
  {
   "cell_type": "code",
   "execution_count": null,
   "metadata": {},
   "outputs": [],
   "source": []
  },
  {
   "cell_type": "code",
   "execution_count": null,
   "metadata": {},
   "outputs": [],
   "source": []
  },
  {
   "cell_type": "code",
   "execution_count": null,
   "metadata": {},
   "outputs": [],
   "source": []
  },
  {
   "cell_type": "code",
   "execution_count": null,
   "metadata": {},
   "outputs": [],
   "source": []
  },
  {
   "cell_type": "code",
   "execution_count": null,
   "metadata": {},
   "outputs": [],
   "source": []
  },
  {
   "cell_type": "code",
   "execution_count": null,
   "metadata": {},
   "outputs": [],
   "source": []
  },
  {
   "cell_type": "code",
   "execution_count": null,
   "metadata": {},
   "outputs": [],
   "source": []
  },
  {
   "cell_type": "markdown",
   "metadata": {
    "colab_type": "text",
    "heading_collapsed": true,
    "id": "V1pzrqvvvsoL"
   },
   "source": [
    "# Ensemble mean plots\n"
   ]
  },
  {
   "cell_type": "markdown",
   "metadata": {
    "colab_type": "text",
    "hidden": true,
    "id": "fA9Uxf1QBqx2"
   },
   "source": [
    "The code  below calculates the link matrices for all models, then combines them. You can change the models used by changing the \"mods\" list. Change the actors used by changing the var_select list. Rerun the two cells below to see the changes.\n",
    "\n"
   ]
  },
  {
   "cell_type": "code",
   "execution_count": 7,
   "metadata": {
    "colab": {},
    "colab_type": "code",
    "hidden": true,
    "id": "UgLcBFHfeFxj"
   },
   "outputs": [],
   "source": [
    "# Function for ensemble plots\n",
    "\n",
    "\n",
    "def run_and_plot_prepare_ensemble(dataframe, cond_ind_test, var_select, tau_max,\n",
    "                                  tau_min, pc_alpha=0.1, alpha_level=0.05):\n",
    "    \"\"\"\n",
    "    small function from example notebook to calc pcmci and plot masked links\n",
    "    \n",
    "    \"\"\"\n",
    "    pcmci = PCMCI(dataframe=dataframe, cond_ind_test=cond_ind_test) #, var_names=var_select)\n",
    "    results = pcmci.run_pcmci(tau_min=tau_min,tau_max=tau_max,pc_alpha=pc_alpha)\n",
    "    link_matrix = pcmci.return_significant_parents(pq_matrix=results['p_matrix'],\n",
    "            val_matrix=results['val_matrix'], alpha_level=alpha_level)['link_matrix']\n",
    "# #     tp.plot_graph(fig_ax = fig_ax,  val_matrix=results['val_matrix'],\n",
    "# #                   link_matrix=link_matrix, var_names=var_select,\n",
    "#     )\n",
    "    return results, link_matrix\n",
    "\n",
    "\n"
   ]
  },
  {
   "cell_type": "code",
   "execution_count": 8,
   "metadata": {
    "hidden": true
   },
   "outputs": [
    {
     "name": "stdout",
     "output_type": "stream",
     "text": [
      "Current variables: NAO_u60\n"
     ]
    }
   ],
   "source": [
    "##### WORKING QBOE/W MASK\n",
    "### \n",
    "mods = [cam_anom_r1,cam_anom_r2,cam_anom_r3,\n",
    "        cccmacmam_anom_r1,cccmacmam_anom_r2,cccmacmam_anom_r3,\n",
    "        isac_cnrecham5sh_anom,\n",
    "        mirocmiroc_agcm_anom_r2,mirocmiroc_agcm_anom_r3,\n",
    "        mirocmiroc_esm_anom_r1, mirocmiroc_esm_anom_r2, mirocmiroc_esm_anom_r3,\n",
    "        mohcumga7_anom_r2,mohcumga7_anom_r3,mohcumga7_anom_r4,\n",
    "        mrimri_esm2_anom_r1,\n",
    "        waccm_anom_r1,waccm_anom_r2,waccm_anom_r3,\n",
    "        yonseihadgem2_a_anom,yonseihadgem2_ac_anom]\n",
    "\n",
    "        \n",
    "qemask = [cam_qboe_mask_r1,cam_qboe_mask_r2,cam_qboe_mask_r3,\n",
    "        cccmacmam_qboe_mask_r1,cccmacmam_qboe_mask_r2,cccmacmam_qboe_mask_r3,\n",
    "        isac_cnrecham5sh_qboe_mask,\n",
    "        mirocmiroc_agcm_qboe_mask_r2,mirocmiroc_agcm_qboe_mask_r3,\n",
    "        mirocmiroc_esm_qboe_mask_r1, mirocmiroc_esm_qboe_mask_r2, mirocmiroc_esm_qboe_mask_r3,\n",
    "        mohcumga7_qboe_mask_r2,mohcumga7_qboe_mask_r3,mohcumga7_qboe_mask_r4,\n",
    "        mrimri_esm2_qboe_mask_r1,\n",
    "        waccm_qboe_mask_r1,waccm_qboe_mask_r2,waccm_qboe_mask_r3,\n",
    "        yonseihadgem2_a_qboe_mask,yonseihadgem2_ac_qboe_mask]\n",
    "\n",
    "qwmask = [cam_qbow_mask_r1,cam_qbow_mask_r2,cam_qbow_mask_r3,\n",
    "        cccmacmam_qbow_mask_r1,cccmacmam_qbow_mask_r2,cccmacmam_qbow_mask_r3,\n",
    "        isac_cnrecham5sh_qbow_mask,\n",
    "        mirocmiroc_agcm_qbow_mask_r2,mirocmiroc_agcm_qbow_mask_r3,\n",
    "        mirocmiroc_esm_qbow_mask_r1, mirocmiroc_esm_qbow_mask_r2, mirocmiroc_esm_qbow_mask_r3,\n",
    "        mohcumga7_qbow_mask_r2,mohcumga7_qbow_mask_r3,mohcumga7_qbow_mask_r4,\n",
    "        mrimri_esm2_qbow_mask_r1,\n",
    "        waccm_qbow_mask_r1,waccm_qbow_mask_r2,waccm_qbow_mask_r3,\n",
    "        yonseihadgem2_a_qbow_mask,yonseihadgem2_ac_qbow_mask]\n",
    "monmask = [cam_noqbo_mask_r1,cam_noqbo_mask_r2,cam_noqbo_mask_r3,\n",
    "        cccmacmam_noqbo_mask_r1,cccmacmam_noqbo_mask_r2,cccmacmam_noqbo_mask_r3,\n",
    "        isac_cnrecham5sh_noqbo_mask,\n",
    "        mirocmiroc_agcm_noqbo_mask_r2,mirocmiroc_agcm_noqbo_mask_r3,\n",
    "        mirocmiroc_esm_noqbo_mask_r1, mirocmiroc_esm_noqbo_mask_r2, mirocmiroc_esm_noqbo_mask_r3,\n",
    "        mohcumga7_noqbo_mask_r2,mohcumga7_noqbo_mask_r3,mohcumga7_noqbo_mask_r4,\n",
    "        mrimri_esm2_noqbo_mask_r1,\n",
    "        waccm_noqbo_mask_r1,waccm_noqbo_mask_r2,waccm_noqbo_mask_r3,\n",
    "        yonseihadgem2_a_noqbo_mask,yonseihadgem2_ac_noqbo_mask]\n",
    "\n",
    "#===============================================================================================================\n",
    "# var_select=['EA-tas','BK-tas','Sib-SLP','Ural-SLP'] #,'EA-tas']\n",
    "#var_select=['QBO','NAO','BK-SIC','EA-tas','PoV','Ural-SLP'] # ['BK-tas','EA-tas','PoV','v_flux','Sib-SLP']\n",
    "#var_select=['NAO','PoV','BK-SIC']\n",
    "var_select=['NAO','u60'] #,'v_flux']\n",
    "\n",
    "current_var = \"_\".join(var_select)\n",
    "print(\"Current variables: {}\".format(current_var))\n",
    "\n",
    "# Change these variables\n",
    "tau_max = 3         # Maximum lag\n",
    "tau_min = 0         # Minimum lag\n",
    "robust_thres = 0.6   #Only show links that are significant in that fraction of models\n",
    "pc_alpha = 0.4     # Sig. threshold in the condition selection step\n",
    "alpha_level = 0.5\n",
    "#===============================================================================================================\n",
    "\n",
    "n_models = len(mods)\n",
    "n_cols = len(var_select)\n",
    "\n",
    "link_matrices_all = numpy.zeros((n_models, n_cols, n_cols, tau_max + 1))\n",
    "average_vals_all = numpy.zeros((n_models, n_cols, n_cols, tau_max + 1))\n",
    "link_matrices_qe = numpy.zeros((n_models, n_cols, n_cols, tau_max + 1))\n",
    "average_vals_qe = numpy.zeros((n_models, n_cols, n_cols, tau_max + 1))\n",
    "link_matrices_qw = numpy.zeros((n_models, n_cols, n_cols, tau_max + 1))\n",
    "average_vals_qw = numpy.zeros((n_models, n_cols, n_cols, tau_max + 1))\n",
    "\n",
    "for i in range(n_models):\n",
    "#    print(i)\n",
    "    # Initialize dataframe object\n",
    "    data = mods[i].as_matrix(columns=var_select)\n",
    "    \n",
    "    df_all = pp.DataFrame(data,mask=monmask[i][:,0:n_cols])\n",
    "    df_qbow = pp.DataFrame(data, mask=qwmask[i][:,0:n_cols])\n",
    "    df_qboe = pp.DataFrame(data, mask=qemask[i][:,0:n_cols])\n",
    "    \n",
    "#    print('results all')\n",
    "    results_all, link_matrix_all = run_and_plot_prepare_ensemble(df_all, \n",
    "                                      ParCorr(significance='analytic',mask_type='y'),\n",
    "                                      var_select=var_select, tau_max=tau_max,\n",
    "                                      tau_min=tau_min,pc_alpha=pc_alpha,alpha_level=alpha_level)\n",
    "#    print('results qboe')\n",
    "    results_qboe, link_matrix_qboe = run_and_plot_prepare_ensemble(df_qboe,\n",
    "                                      ParCorr(significance='analytic',mask_type='y'),\n",
    "                                      var_select=var_select, tau_max=tau_max,\n",
    "                                      tau_min=tau_min,pc_alpha=pc_alpha,alpha_level=alpha_level)\n",
    "    results_qbow, link_matrix_qbow = run_and_plot_prepare_ensemble(df_qbow,\n",
    "                                      ParCorr(significance='analytic',mask_type='y'),\n",
    "                                      var_select=var_select, tau_max=tau_max,\n",
    "                                      tau_min=tau_min,pc_alpha=pc_alpha,alpha_level=alpha_level)\n",
    "\n",
    "    link_matrices_all[i] = link_matrix_all\n",
    "    average_vals_all[i] = results_all['val_matrix']\n",
    "    link_matrices_qw[i] = link_matrix_qbow\n",
    "    average_vals_qw[i] = results_qbow['val_matrix']\n",
    "    link_matrices_qe[i] = link_matrix_qboe\n",
    "    average_vals_qe[i] = results_qboe['val_matrix']\n",
    "\n",
    "#print(\"ALL YEARS\")\n",
    "link_color_matrix_all = average_vals_all.mean(axis=0)\n",
    "link_width_all = link_matrices_all.mean(axis=0)\n",
    "link_matrix_all = link_width_all > robust_thres\n",
    "\n",
    "#print(\"QBOW YEARS\")\n",
    "link_color_matrix_qw = average_vals_qw.mean(axis=0)\n",
    "link_width_qw = link_matrices_qw.mean(axis=0)\n",
    "link_matrix_qw = link_width_qw > robust_thres\n",
    "\n",
    "#print(\"QBOE YEARS\")\n",
    "link_color_matrix_qe = average_vals_qe.mean(axis=0)\n",
    "link_width_qe = link_matrices_qe.mean(axis=0)\n",
    "link_matrix_qe = link_width_qe > robust_thres\n",
    "\n",
    "## PLOT ENSEMBLE PLOTS\n",
    "# FIGURE PROPERTIES\n",
    "savefig = False #True # False # Save figures in the google drive, True or False\n",
    "\n",
    "vmax_edges=0.7; vmin_edges=-0.7\n",
    "vmax_nodes=0.7; vmin_nodes=0.0\n",
    "edge_ticks=0.2; node_ticks=0.2\n",
    "cmap_nodes='YlOrBr'; cmap_edges='RdBu_r'"
   ]
  },
  {
   "cell_type": "code",
   "execution_count": 9,
   "metadata": {
    "hidden": true
   },
   "outputs": [
    {
     "data": {
      "text/plain": [
       "(2, 2, 4)"
      ]
     },
     "execution_count": 9,
     "metadata": {},
     "output_type": "execute_result"
    }
   ],
   "source": [
    "link_color_matrix_all.shape"
   ]
  },
  {
   "cell_type": "code",
   "execution_count": 10,
   "metadata": {
    "colab": {
     "base_uri": "https://localhost:8080/",
     "height": 803
    },
    "colab_type": "code",
    "executionInfo": {
     "elapsed": 5591,
     "status": "ok",
     "timestamp": 1554297935269,
     "user": {
      "displayName": "Nicholas Tyrrell",
      "photoUrl": "https://lh4.googleusercontent.com/-gi3usNz72WA/AAAAAAAAAAI/AAAAAAAABbE/EZOgb1iXIH8/s64/photo.jpg",
      "userId": "00640113987881425946"
     },
     "user_tz": -180
    },
    "hidden": true,
    "id": "RmR1FjLqeTmj",
    "outputId": "fddbd967-3c17-4596-d2b5-ee10f6f0450b",
    "scrolled": false
   },
   "outputs": [
    {
     "name": "stdout",
     "output_type": "stream",
     "text": [
      "['NAO', 'u60']\n",
      "<tigramite.data_processing.DataFrame object at 0x7f31dd975b00>\n",
      "All years\n"
     ]
    },
    {
     "data": {
      "image/png": "[encoded data removed]",
      "text/plain": [
       "<Figure size 720x360 with 3 Axes>"
      ]
     },
     "metadata": {},
     "output_type": "display_data"
    },
    {
     "name": "stdout",
     "output_type": "stream",
     "text": [
      "QBOE years\n"
     ]
    },
    {
     "data": {
      "image/png": "[encoded data removed]",
      "text/plain": [
       "<Figure size 720x360 with 2 Axes>"
      ]
     },
     "metadata": {},
     "output_type": "display_data"
    },
    {
     "name": "stdout",
     "output_type": "stream",
     "text": [
      "QBOW years\n"
     ]
    },
    {
     "data": {
      "image/png": "[encoded data removed]",
      "text/plain": [
       "<Figure size 720x360 with 3 Axes>"
      ]
     },
     "metadata": {},
     "output_type": "display_data"
    },
    {
     "name": "stdout",
     "output_type": "stream",
     "text": [
      "ALL YEARS\n"
     ]
    },
    {
     "data": {
      "image/png": "[encoded data removed]",
      "text/plain": [
       "<Figure size 720x360 with 3 Axes>"
      ]
     },
     "metadata": {},
     "output_type": "display_data"
    },
    {
     "name": "stdout",
     "output_type": "stream",
     "text": [
      "QBOW YEARS\n"
     ]
    },
    {
     "data": {
      "image/png": "[encoded data removed]",
      "text/plain": [
       "<Figure size 720x360 with 3 Axes>"
      ]
     },
     "metadata": {},
     "output_type": "display_data"
    },
    {
     "name": "stdout",
     "output_type": "stream",
     "text": [
      "QBOE YEARS\n"
     ]
    },
    {
     "data": {
      "image/png": "[encoded data removed]",
      "text/plain": [
       "<Figure size 720x360 with 3 Axes>"
      ]
     },
     "metadata": {},
     "output_type": "display_data"
    },
    {
     "name": "stdout",
     "output_type": "stream",
     "text": [
      "QBOE - QBOW\n"
     ]
    },
    {
     "data": {
      "image/png": "[encoded data removed]",
      "text/plain": [
       "<Figure size 720x360 with 3 Axes>"
      ]
     },
     "metadata": {},
     "output_type": "display_data"
    }
   ],
   "source": [
    "\n",
    "plot_model(era_noqbo,era_noqbo_mask,era_qboe_mask,era_qbow_mask,\n",
    "           var_select=var_select,save_plot=False,save_name=\"era\", title=\"era\",pc_alpha=pc_alpha,\n",
    "                 alpha_level=0.05,tau_min=tau_min,tau_max=tau_max,show_qbo=True)\n",
    "\n",
    "fig = plt.figure(figsize=(10,5))\n",
    "ax = plt.subplot(111,frameon=False)\n",
    "plt.title(\"MMM, All, month\")\n",
    "print(\"ALL YEARS\")\n",
    "tp.plot_graph(\n",
    "    val_matrix=link_color_matrix_all,\n",
    "    fig_ax=(fig,ax),\n",
    "    link_matrix=link_matrix_all,\n",
    "    var_names=var_select,\n",
    "    link_colorbar_label='cross-MCI',\n",
    "    node_colorbar_label='auto-MCI',\n",
    "    link_width=link_width_all,\n",
    "    vmax_edges=vmax_edges, vmin_edges=vmin_edges,\n",
    "    edge_ticks=edge_ticks, node_ticks=node_ticks,\n",
    "    vmax_nodes=vmax_nodes, vmin_nodes=vmin_nodes,\n",
    "    cmap_nodes=cmap_nodes, cmap_edges=cmap_edges,\n",
    "    node_size=30, node_label_size=20,\n",
    "    arrowhead_size=20, arrow_linewidth=30,\n",
    "    show_colorbar=True\n",
    "    )\n",
    "\n",
    "fig = plt.figure(figsize=(10,5))\n",
    "ax = plt.subplot(111,frameon=False)\n",
    "plt.title(\"MMM, QBOW\")\n",
    "print(\"QBOW YEARS\")\n",
    "tp.plot_graph(\n",
    "    val_matrix=link_color_matrix_qw,\n",
    "    fig_ax=(fig,ax),\n",
    "    link_matrix=link_matrix_qw,\n",
    "    var_names=var_select,\n",
    "    link_colorbar_label='cross-MCI',\n",
    "    node_colorbar_label='auto-MCI',\n",
    "    link_width=link_width_qe,\n",
    "    vmax_edges=vmax_edges,\n",
    "    vmin_edges=vmin_edges,\n",
    "    edge_ticks=edge_ticks,\n",
    "    node_ticks=node_ticks,\n",
    "    vmax_nodes=vmax_nodes,\n",
    "    vmin_nodes=vmin_nodes,\n",
    "    cmap_nodes=cmap_nodes,\n",
    "    cmap_edges=cmap_edges\n",
    "    )\n",
    "fig = plt.figure(figsize=(10,5))\n",
    "ax = plt.subplot(111,frameon=False)\n",
    "plt.title(\"MMM, QBOE\")\n",
    "print(\"QBOE YEARS\")\n",
    "tp.plot_graph(\n",
    "    val_matrix=link_color_matrix_qe,\n",
    "    fig_ax=(fig,ax),\n",
    "    link_matrix=link_matrix_qe,\n",
    "    var_names=var_select,\n",
    "    link_colorbar_label='cross-MCI',\n",
    "    node_colorbar_label='auto-MCI',\n",
    "    link_width=link_width_qe,\n",
    "    vmax_edges=vmax_edges,\n",
    "    vmin_edges=vmin_edges,\n",
    "    edge_ticks=edge_ticks,\n",
    "    node_ticks=node_ticks,\n",
    "    vmax_nodes=vmax_nodes,\n",
    "    vmin_nodes=vmin_nodes,\n",
    "    cmap_nodes=cmap_nodes,\n",
    "    cmap_edges=cmap_edges\n",
    "    )\n",
    "\n",
    "## PLOT ENSEMBLE PLOTS for difference between QBOE-QBOW\n",
    "fig = plt.figure(figsize=(10,5))\n",
    "ax = plt.subplot(111,frameon=False)\n",
    "\n",
    "link_color_matrix_diff = link_color_matrix_qe - link_color_matrix_qw\n",
    "link_matrix_diff = link_matrix_qe ^ link_matrix_qw\n",
    "link_width_diff = np.abs(link_width_qe - link_width_qw)\n",
    "\n",
    "fig = plt.figure(1,figsize=(10,5))\n",
    "ax = plt.subplot(111,frameon=False)\n",
    "print(\"QBOE - QBOW\")\n",
    "tp.plot_graph(\n",
    "    val_matrix=link_color_matrix_diff,\n",
    "    fig_ax=(fig,ax),\n",
    "    link_matrix=link_matrix_diff,\n",
    "    var_names=var_select,\n",
    "    link_colorbar_label='cross-MCI',\n",
    "    node_colorbar_label='auto-MCI',\n",
    "    vmax_edges=0.3,\n",
    "    vmin_edges=-0.3,\n",
    "    edge_ticks=0.1,\n",
    "    node_ticks=0.1,\n",
    "    vmax_nodes=0.3,\n",
    "    vmin_nodes=-0.3,\n",
    "    cmap_nodes='BrBG_r',\n",
    "    cmap_edges='RdBu_r'\n",
    "    )\n",
    "\n",
    "if savefig:\n",
    "    plt.savefig('modens_mon_{}.png'.format(current_var), bbox_inches='tight')"
   ]
  },
  {
   "cell_type": "code",
   "execution_count": null,
   "metadata": {
    "hidden": true
   },
   "outputs": [],
   "source": []
  },
  {
   "cell_type": "code",
   "execution_count": null,
   "metadata": {
    "hidden": true
   },
   "outputs": [],
   "source": []
  },
  {
   "cell_type": "code",
   "execution_count": null,
   "metadata": {
    "hidden": true
   },
   "outputs": [],
   "source": []
  },
  {
   "cell_type": "code",
   "execution_count": null,
   "metadata": {
    "hidden": true
   },
   "outputs": [],
   "source": []
  },
  {
   "cell_type": "code",
   "execution_count": 28,
   "metadata": {
    "hidden": true,
    "scrolled": false
   },
   "outputs": [
    {
     "name": "stdout",
     "output_type": "stream",
     "text": [
      "['v_flux', 'QBO', 'u60']\n",
      "All years\n"
     ]
    },
    {
     "data": {
      "image/png": "[encoded data removed]",
      "text/plain": [
       "<Figure size 720x360 with 3 Axes>"
      ]
     },
     "metadata": {},
     "output_type": "display_data"
    }
   ],
   "source": [
    "\n",
    "#plot_model(era_noqbo,era_qboe_mask,era_qboe_mask,era_qbow_mask,\n",
    "#           var_select=var_select,save_plot=save_plot,save_name=\"era\", title=\"era qboe\",pc_alpha=pc_alpha,\n",
    "#                 alpha_level=alpha_level,tau_min=tau_min,tau_max=tau_max)\n",
    "#plot_model(era_noqbo,era_qbow_mask,era_qboe_mask,era_qbow_mask,\n",
    "#           var_select=var_select,save_plot=save_plot,save_name=\"era\", title=\"era qbow\",pc_alpha=pc_alpha,\n",
    "#                 alpha_level=alpha_level,tau_min=tau_min,tau_max=tau_max)"
   ]
  },
  {
   "cell_type": "code",
   "execution_count": 29,
   "metadata": {
    "colab": {
     "base_uri": "https://localhost:8080/",
     "height": 515
    },
    "colab_type": "code",
    "executionInfo": {
     "elapsed": 44547,
     "status": "ok",
     "timestamp": 1554203508680,
     "user": {
      "displayName": "Nicholas Tyrrell",
      "photoUrl": "https://lh4.googleusercontent.com/-gi3usNz72WA/AAAAAAAAAAI/AAAAAAAABbE/EZOgb1iXIH8/s64/photo.jpg",
      "userId": "00640113987881425946"
     },
     "user_tz": -180
    },
    "hidden": true,
    "id": "YD7Fq5SQF9Lq",
    "outputId": "228df252-2a0d-41e8-9e9f-913d5924bf1f"
   },
   "outputs": [
    {
     "name": "stdout",
     "output_type": "stream",
     "text": [
      "QBOW YEARS\n"
     ]
    },
    {
     "data": {
      "image/png": "[encoded data removed]",
      "text/plain": [
       "<Figure size 720x576 with 3 Axes>"
      ]
     },
     "metadata": {},
     "output_type": "display_data"
    }
   ],
   "source": [
    "fig = plt.figure(figsize=(10,8))\n",
    "ax = plt.subplot(111,frameon=False)\n",
    "plt.title(\"MMM, QBOW\")\n",
    "print(\"QBOW YEARS\")\n",
    "tp.plot_graph(\n",
    "    val_matrix=link_color_matrix_qw,\n",
    "    fig_ax=(fig,ax),\n",
    "    link_matrix=link_matrix_qw,\n",
    "    var_names=var_select,\n",
    "    link_colorbar_label='cross-MCI',\n",
    "    node_colorbar_label='auto-MCI',\n",
    "    link_width=link_width_qe,\n",
    "    vmax_edges=vmax_edges,\n",
    "    vmin_edges=vmin_edges,\n",
    "    edge_ticks=edge_ticks,\n",
    "    node_ticks=node_ticks,\n",
    "    vmax_nodes=vmax_nodes,\n",
    "    vmin_nodes=vmin_nodes,\n",
    "    cmap_nodes=cmap_nodes,\n",
    "    cmap_edges=cmap_edges\n",
    "    )\n",
    "\n",
    "if savefig:\n",
    "    plt.savefig('modens_week_qbow_{}.png'.format(current_var), bbox_inches='tight')\n",
    "    "
   ]
  },
  {
   "cell_type": "code",
   "execution_count": 30,
   "metadata": {
    "colab": {
     "base_uri": "https://localhost:8080/",
     "height": 515
    },
    "colab_type": "code",
    "executionInfo": {
     "elapsed": 34675,
     "status": "ok",
     "timestamp": 1554122127658,
     "user": {
      "displayName": "Nicholas Tyrrell",
      "photoUrl": "https://lh4.googleusercontent.com/-gi3usNz72WA/AAAAAAAAAAI/AAAAAAAABbE/EZOgb1iXIH8/s64/photo.jpg",
      "userId": "00640113987881425946"
     },
     "user_tz": -180
    },
    "hidden": true,
    "id": "0m_r5Q3fvkvE",
    "outputId": "d2d96f29-a419-425e-b59f-9ffbb1d26798"
   },
   "outputs": [
    {
     "name": "stdout",
     "output_type": "stream",
     "text": [
      "QBOE YEARS\n"
     ]
    },
    {
     "data": {
      "image/png": "[encoded data removed]",
      "text/plain": [
       "<Figure size 720x576 with 3 Axes>"
      ]
     },
     "metadata": {},
     "output_type": "display_data"
    }
   ],
   "source": [
    "fig = plt.figure(figsize=(10,8))\n",
    "ax = plt.subplot(111,frameon=False)\n",
    "plt.title(\"MMM, QBOE\")\n",
    "print(\"QBOE YEARS\")\n",
    "tp.plot_graph(\n",
    "    val_matrix=link_color_matrix_qe,\n",
    "    fig_ax=(fig,ax),\n",
    "    link_matrix=link_matrix_qe,\n",
    "    var_names=var_select,\n",
    "    link_colorbar_label='cross-MCI',\n",
    "    node_colorbar_label='auto-MCI',\n",
    "    link_width=link_width_qe,\n",
    "    vmax_edges=vmax_edges,\n",
    "    vmin_edges=vmin_edges,\n",
    "    edge_ticks=edge_ticks,\n",
    "    node_ticks=node_ticks,\n",
    "    vmax_nodes=vmax_nodes,\n",
    "    vmin_nodes=vmin_nodes,\n",
    "    cmap_nodes=cmap_nodes,\n",
    "    cmap_edges=cmap_edges\n",
    "    )\n",
    "\n",
    "if savefig:\n",
    "    plt.savefig('modens_week_qboe_{}.png'.format(current_var), bbox_inches='tight')\n",
    "    \n"
   ]
  },
  {
   "cell_type": "code",
   "execution_count": 31,
   "metadata": {
    "colab": {
     "base_uri": "https://localhost:8080/",
     "height": 500
    },
    "colab_type": "code",
    "executionInfo": {
     "elapsed": 1484,
     "status": "ok",
     "timestamp": 1553676970869,
     "user": {
      "displayName": "Nicholas Tyrrell",
      "photoUrl": "https://lh4.googleusercontent.com/-gi3usNz72WA/AAAAAAAAAAI/AAAAAAAABbE/EZOgb1iXIH8/s64/photo.jpg",
      "userId": "00640113987881425946"
     },
     "user_tz": -120
    },
    "hidden": true,
    "id": "XP3eHwWTaVhQ",
    "outputId": "ce467893-19a8-4081-9b1f-cd4b3498d3ac"
   },
   "outputs": [
    {
     "name": "stdout",
     "output_type": "stream",
     "text": [
      "QBOE - QBOW\n"
     ]
    },
    {
     "data": {
      "image/png": "[encoded data removed]",
      "text/plain": [
       "<Figure size 720x576 with 2 Axes>"
      ]
     },
     "metadata": {},
     "output_type": "display_data"
    }
   ],
   "source": [
    "## PLOT ENSEMBLE PLOTS for difference between QBOE-QBOW\n",
    "fig = plt.figure(figsize=(10,8))\n",
    "ax = plt.subplot(111,frameon=False)\n",
    "\n",
    "link_color_matrix_diff = link_color_matrix_qe - link_color_matrix_qw\n",
    "link_matrix_diff = link_matrix_qe ^ link_matrix_qw\n",
    "link_width_diff = np.abs(link_width_qe - link_width_qw)\n",
    "\n",
    "fig = plt.figure(1)\n",
    "ax = plt.subplot(111,frameon=False)\n",
    "print(\"QBOE - QBOW\")\n",
    "tp.plot_graph(\n",
    "    val_matrix=link_color_matrix_diff,\n",
    "    fig_ax=(fig,ax),\n",
    "    link_matrix=link_matrix_diff,\n",
    "    var_names=var_select,\n",
    "    link_colorbar_label='cross-MCI',\n",
    "    node_colorbar_label='auto-MCI',\n",
    "    vmax_edges=0.3,\n",
    "    vmin_edges=-0.3,\n",
    "    edge_ticks=0.1,\n",
    "    node_ticks=0.1,\n",
    "    vmax_nodes=0.3,\n",
    "    vmin_nodes=-0.3,\n",
    "    cmap_nodes='BrBG_r',\n",
    "    cmap_edges='RdBu_r'\n",
    "    )\n",
    "if savefig:\n",
    "    plt.savefig('modens_week_qbodif_{}.png'.format(current_var), bbox_inches='tight')\n",
    "\n"
   ]
  },
  {
   "cell_type": "code",
   "execution_count": 42,
   "metadata": {
    "colab": {
     "base_uri": "https://localhost:8080/",
     "height": 269
    },
    "colab_type": "code",
    "executionInfo": {
     "elapsed": 37922,
     "status": "ok",
     "timestamp": 1553670933052,
     "user": {
      "displayName": "Nicholas Tyrrell",
      "photoUrl": "https://lh4.googleusercontent.com/-gi3usNz72WA/AAAAAAAAAAI/AAAAAAAABbE/EZOgb1iXIH8/s64/photo.jpg",
      "userId": "00640113987881425946"
     },
     "user_tz": -120
    },
    "hidden": true,
    "id": "LxFNaSrYw5H3",
    "outputId": "76fb3edd-9867-4cd9-89ba-74e19dc07e7f",
    "scrolled": true
   },
   "outputs": [
    {
     "name": "stdout",
     "output_type": "stream",
     "text": [
      "[[[ 0.          0.7354843  -0.39618163  0.13197736  0.02790858]\n",
      "  [-0.07776856 -0.00405053  0.01446325 -0.01110831 -0.01424725]\n",
      "  [-0.04684061 -0.01117048  0.05329142 -0.05420345 -0.0272534 ]]\n",
      "\n",
      " [[-0.07776856 -0.06354714  0.04845338 -0.03582145  0.00087947]\n",
      "  [ 0.         -0.0871034  -0.05375341  0.00686041  0.02407571]\n",
      "  [ 0.64122286  0.51526167  0.17341287  0.06778231 -0.00695751]]\n",
      "\n",
      " [[-0.04684061  0.03515521  0.01815948  0.00475718 -0.00234003]\n",
      "  [ 0.64122286 -0.14305508  0.03343653  0.00448789 -0.02530507]\n",
      "  [ 0.          0.07887126 -0.03724297  0.04535019 -0.01861438]]]\n",
      "[[[ 0.00000000e+00  7.69814091e-01 -4.91391072e-01  1.73768858e-01\n",
      "    3.86789682e-02]\n",
      "  [-5.86796341e-02  3.24186233e-02  1.87463745e-03 -3.15968082e-02\n",
      "    1.96986236e-02]\n",
      "  [-6.09151558e-02  3.51002862e-02 -1.61739156e-02 -5.70883000e-03\n",
      "    7.25466566e-03]]\n",
      "\n",
      " [[-5.86796341e-02 -2.85578158e-02  8.77293479e-02  3.64624067e-03\n",
      "    4.46519502e-04]\n",
      "  [ 0.00000000e+00 -1.65197889e-01 -5.59672867e-02  6.41119044e-02\n",
      "    1.76226617e-02]\n",
      "  [ 6.34393432e-01  4.44123645e-01  1.21285974e-01  4.25051182e-02\n",
      "    3.32150088e-02]]\n",
      "\n",
      " [[-6.09151558e-02 -7.09674685e-03 -7.92358343e-03  1.89557009e-02\n",
      "    1.32364922e-02]\n",
      "  [ 6.34393432e-01 -8.99132971e-02 -1.13663251e-02 -6.15212386e-02\n",
      "    4.99402851e-02]\n",
      "  [ 0.00000000e+00  1.09703061e-01 -2.14158449e-02  3.68154182e-03\n",
      "    3.36201504e-02]]]\n"
     ]
    }
   ],
   "source": [
    "print(link_color_matrix_qe)\n",
    "print(link_color_matrix_qw)"
   ]
  },
  {
   "cell_type": "markdown",
   "metadata": {
    "colab_type": "text",
    "hidden": true,
    "id": "kibNjJRt2y0y"
   },
   "source": [
    "In the code below I attempted to plot three plots on one figure. Passed the fig and ax to plotting function, but doesn't behave how I'd expect - Nick"
   ]
  },
  {
   "cell_type": "code",
   "execution_count": null,
   "metadata": {
    "colab": {},
    "colab_type": "code",
    "hidden": true,
    "id": "frzlVNDwhj14"
   },
   "outputs": [],
   "source": [
    "## PLOT ENSEMBLE PLOTS\n",
    "fig = plt.figure(figsize=(20,5))\n",
    "\n",
    "#fig = plt.gcf()\n",
    "ax1 = fig.add_subplot(1,3,1, frameon=False) # should have 1 row, with 3 columns\n",
    "#ax1 = plt.gca()\n",
    "#print(\"ALL YEARS\")\n",
    "tp.plot_graph(\n",
    "    val_matrix=link_color_matrix_all,\n",
    "    fig_ax=(fig,ax1),\n",
    "    link_matrix=link_matrix_all,\n",
    "    var_names=var_select,\n",
    "    link_colorbar_label='cross-MCI',\n",
    "    node_colorbar_label='auto-MCI',\n",
    "    link_width=link_width_all,\n",
    "    show_colorbar=False\n",
    "    )\n",
    "\n",
    "\n",
    "#fig = plt.gcf()\n",
    "ax2 = fig.add_subplot(1,3,2, frameon=False)\n",
    "ax2 = plt.gca()\n",
    "#print(\"QBOW YEARS\")\n",
    "tp.plot_graph(\n",
    "    val_matrix=link_color_matrix_qw,\n",
    "    fig_ax=(fig,ax2),\n",
    "    link_matrix=link_matrix_qw,\n",
    "    var_names=var_select,\n",
    "    link_colorbar_label='cross-MCI',\n",
    "    node_colorbar_label='auto-MCI',\n",
    "    link_width=link_width_qw,\n",
    "    show_colorbar=False\n",
    "    )\n",
    "\n",
    "#fig = plt.gcf()\n",
    "ax3 = fig.add_subplot(1,3,3, frameon=False)\n",
    "ax3 = plt.gca()\n",
    "#print(\"QBOE YEARS\")\n",
    "\n",
    "out = tp.plot_graph(\n",
    "    val_matrix=link_color_matrix_qe,\n",
    "    fig_ax=(fig,ax3),\n",
    "    link_matrix=link_matrix_qe,\n",
    "    var_names=var_select,\n",
    "    link_colorbar_label='cross-MCI',\n",
    "    node_colorbar_label='auto-MCI',\n",
    "    link_width=link_width_qe,\n",
    "    show_colorbar=True\n",
    "    )\n",
    "\n",
    "\n",
    "#print(type(out))\n",
    "#print(type(fig))\n",
    "#fig.savefig('ens_qbo_e.png', bbox_inches='tight')\n",
    "#figfile = drive.CreateFile({'title':'ens_qbo_e.png',\n",
    "#                            'parents':[{u'id':'13BVOh-AHmhzpvS30-eSIvLvhKkYC_01R'}]})\n",
    "#figfile.SetContentFile('ens_qbo_e.png')\n",
    "#figfile.Upload()"
   ]
  },
  {
   "cell_type": "code",
   "execution_count": null,
   "metadata": {
    "colab": {},
    "colab_type": "code",
    "hidden": true,
    "id": "STLfeVQNzzP-"
   },
   "outputs": [],
   "source": [
    "#Example to save a figure to file\n",
    "#it will be save in the personal downloads so still need to upload it back to the drive\n",
    "#import matplotlib.pyplot as plt\n",
    "#from google.colab import files\n",
    "#fig = plt.figure()\n",
    "#ax = fig.add_axes([1,1,1,1])\n",
    "#plt.plot([1,2])\n",
    "#plt.savefig('abc.png', bbox_inches='tight')\n",
    "#files.download(\"abc.png\") "
   ]
  },
  {
   "cell_type": "code",
   "execution_count": null,
   "metadata": {
    "hidden": true
   },
   "outputs": [],
   "source": []
  },
  {
   "cell_type": "markdown",
   "metadata": {
    "heading_collapsed": true
   },
   "source": [
    "# Testing out some ideas\n"
   ]
  },
  {
   "cell_type": "code",
   "execution_count": 87,
   "metadata": {
    "hidden": true
   },
   "outputs": [
    {
     "name": "stdout",
     "output_type": "stream",
     "text": [
      "[[1.         0.65934257]\n",
      " [0.65934257 1.        ]]\n",
      "[[ 1.         -0.00246824]\n",
      " [-0.00246824  1.        ]]\n"
     ]
    },
    {
     "data": {
      "text/plain": [
       "[<matplotlib.lines.Line2D at 0x7f31d7cd8518>]"
      ]
     },
     "execution_count": 87,
     "metadata": {},
     "output_type": "execute_result"
    },
    {
     "data": {
      "image/png": "[encoded data removed]",
      "text/plain": [
       "<Figure size 432x288 with 1 Axes>"
      ]
     },
     "metadata": {},
     "output_type": "display_data"
    }
   ],
   "source": [
    "T = 1000\n",
    "eta_x = np.random.rand(T)\n",
    "eta_y = np.random.rand(T)\n",
    "eta_z = np.random.rand(T)\n",
    "\n",
    "t = np.linspace(1,T,T)\n",
    "X = np.cos(2*np.pi*t/(50)) * eta_x\n",
    "Y = np.cos(2*np.pi*t/(10)) * eta_y\n",
    "Z = np.cos(2*np.pi*(t-4)/(50))*eta_z # + np.cos(2*np.pi*(t+3)/(10))*eta_z\n",
    "#Z = X*eta_z # + np.cos(2*np.pi*(t+3)/(10))*eta_z\n",
    "print(np.corrcoef(Z,X))\n",
    "print(np.corrcoef(Z,Y))\n",
    "#Z = 0.6*X \n",
    "\n",
    "plt.plot(t[0:100],X[0:100],'r')\n",
    "plt.plot(t[0:100],Y[0:100],'b')\n",
    "plt.plot(t[0:100],Z[0:100],'k')"
   ]
  },
  {
   "cell_type": "code",
   "execution_count": 63,
   "metadata": {
    "hidden": true
   },
   "outputs": [],
   "source": [
    "data = np.array([X,Y,Z]).T\n",
    "data.shape\n",
    "var_names = ['X','Y','Z']"
   ]
  },
  {
   "cell_type": "code",
   "execution_count": 64,
   "metadata": {
    "hidden": true
   },
   "outputs": [],
   "source": [
    "dataframe = pp.DataFrame(data=data)"
   ]
  },
  {
   "cell_type": "code",
   "execution_count": 65,
   "metadata": {
    "hidden": true
   },
   "outputs": [],
   "source": [
    "parcorr = ParCorr(significance='analytic')\n",
    "pcmci = PCMCI(\n",
    "    dataframe=dataframe, \n",
    "    cond_ind_test=parcorr,\n",
    "    var_names=var_names,\n",
    "    verbosity=1)"
   ]
  },
  {
   "cell_type": "code",
   "execution_count": 66,
   "metadata": {
    "hidden": true
   },
   "outputs": [
    {
     "name": "stdout",
     "output_type": "stream",
     "text": [
      "\n",
      "## Estimating lagged dependencies\n"
     ]
    },
    {
     "data": {
      "image/png": "[encoded data removed]",
      "text/plain": [
       "<Figure size 432x288 with 9 Axes>"
      ]
     },
     "metadata": {},
     "output_type": "display_data"
    }
   ],
   "source": [
    "correlations = pcmci.get_lagged_dependencies(tau_max=20)\n",
    "lag_func_matrix = tp.plot_lagfuncs(val_matrix=correlations, setup_args={'var_names':var_names, \n",
    "                                    'x_base':5, 'y_base':.5})"
   ]
  },
  {
   "cell_type": "code",
   "execution_count": 67,
   "metadata": {
    "hidden": true,
    "scrolled": true
   },
   "outputs": [
    {
     "name": "stdout",
     "output_type": "stream",
     "text": [
      "\n",
      "##\n",
      "## Running Tigramite PC algorithm\n",
      "##\n",
      "\n",
      "Parameters:\n",
      "independence test = par_corr\n",
      "tau_min = 1\n",
      "tau_max = 8\n",
      "pc_alpha = [0.05, 0.1, 0.2, 0.3, 0.4, 0.5]\n",
      "max_conds_dim = None\n",
      "max_combinations = 1\n",
      "\n",
      "\n",
      "\n",
      "## Variable X\n",
      "\n",
      "## Variable Y\n",
      "\n",
      "## Variable Z\n",
      "\n",
      "## Resulting condition sets:\n",
      "\n",
      "    Variable X has 6 parent(s):\n",
      "    [pc_alpha = 0.3]\n",
      "        (X -1): max_pval = 0.00000, min_val = 0.346\n",
      "        (X -2): max_pval = 0.00000, min_val = 0.258\n",
      "        (X -3): max_pval = 0.00000, min_val = 0.157\n",
      "        (X -4): max_pval = 0.07462, min_val = 0.057\n",
      "        (X -8): max_pval = 0.09944, min_val = 0.053\n",
      "        (Y -5): max_pval = 0.25924, min_val = 0.036\n",
      "\n",
      "    Variable Y has 10 parent(s):\n",
      "    [pc_alpha = 0.5]\n",
      "        (Y -5): max_pval = 0.00000, min_val = 0.307\n",
      "        (Y -4): max_pval = 0.00000, min_val = 0.223\n",
      "        (Y -6): max_pval = 0.00000, min_val = 0.218\n",
      "        (Y -1): max_pval = 0.00000, min_val = 0.164\n",
      "        (Y -3): max_pval = 0.00773, min_val = 0.085\n",
      "        (Y -8): max_pval = 0.37661, min_val = 0.028\n",
      "        (X -1): max_pval = 0.39768, min_val = 0.027\n",
      "        (Z -6): max_pval = 0.42337, min_val = 0.026\n",
      "        (Z -4): max_pval = 0.45045, min_val = 0.024\n",
      "        (Y -7): max_pval = 0.49457, min_val = 0.022\n",
      "\n",
      "    Variable Z has 5 parent(s):\n",
      "    [pc_alpha = 0.1]\n",
      "        (Z -2): max_pval = 0.00000, min_val = 0.233\n",
      "        (Z -1): max_pval = 0.00000, min_val = 0.204\n",
      "        (Z -8): max_pval = 0.00000, min_val = 0.151\n",
      "        (Z -3): max_pval = 0.00131, min_val = 0.102\n",
      "        (X -2): max_pval = 0.07481, min_val = 0.057\n",
      "\n",
      "##\n",
      "## Running Tigramite MCI algorithm\n",
      "##\n",
      "\n",
      "Parameters:\n",
      "\n",
      "independence test = par_corr\n",
      "tau_min = 1\n",
      "tau_max = 8\n",
      "max_conds_py = None\n",
      "max_conds_px = None\n",
      "\n",
      "## Significant links at alpha = 0.05:\n",
      "\n",
      "    Variable X has 7 link(s):\n",
      "        (X -1): pval = 0.00000 | val = 0.319 | conf = (0.000, 0.000)\n",
      "        (X -2): pval = 0.00000 | val = 0.249 | conf = (0.000, 0.000)\n",
      "        (X -3): pval = 0.00000 | val = 0.179 | conf = (0.000, 0.000)\n",
      "        (X -7): pval = 0.00005 | val = 0.130 | conf = (0.000, 0.000)\n",
      "        (X -5): pval = 0.00013 | val = 0.122 | conf = (0.000, 0.000)\n",
      "        (X -4): pval = 0.00027 | val = 0.117 | conf = (0.000, 0.000)\n",
      "        (X -8): pval = 0.01074 | val = 0.082 | conf = (0.000, 0.000)\n",
      "\n",
      "    Variable Y has 6 link(s):\n",
      "        (Y -5): pval = 0.00000 | val = -0.178 | conf = (0.000, 0.000)\n",
      "        (Y -1): pval = 0.00000 | val = 0.151 | conf = (0.000, 0.000)\n",
      "        (Y -4): pval = 0.00000 | val = -0.149 | conf = (0.000, 0.000)\n",
      "        (Y -3): pval = 0.00081 | val = -0.107 | conf = (0.000, 0.000)\n",
      "        (Y -6): pval = 0.00137 | val = -0.103 | conf = (0.000, 0.000)\n",
      "        (Y -2): pval = 0.02327 | val = 0.073 | conf = (0.000, 0.000)\n",
      "\n",
      "    Variable Z has 5 link(s):\n",
      "        (Z -2): pval = 0.00000 | val = 0.202 | conf = (0.000, 0.000)\n",
      "        (Z -1): pval = 0.00000 | val = 0.176 | conf = (0.000, 0.000)\n",
      "        (Z -3): pval = 0.00106 | val = 0.105 | conf = (0.000, 0.000)\n",
      "        (X -2): pval = 0.00448 | val = 0.091 | conf = (0.000, 0.000)\n",
      "        (X -3): pval = 0.04812 | val = -0.063 | conf = (0.000, 0.000)\n"
     ]
    }
   ],
   "source": [
    "pcmci.verbosity = 1\n",
    "results = pcmci.run_pcmci(tau_max=8, pc_alpha=None)"
   ]
  },
  {
   "cell_type": "code",
   "execution_count": 68,
   "metadata": {
    "hidden": true,
    "scrolled": true
   },
   "outputs": [
    {
     "name": "stdout",
     "output_type": "stream",
     "text": [
      "p-values\n",
      "[[[1.    0.    0.    0.    0.    0.    0.102 0.    0.011]\n",
      "  [1.    0.077 0.615 0.838 0.334 0.376 0.197 0.092 0.968]\n",
      "  [1.    0.546 0.004 0.048 0.273 0.18  0.414 0.338 0.908]]\n",
      "\n",
      " [[1.    0.855 0.917 0.752 0.098 0.059 0.325 0.463 0.856]\n",
      "  [1.    0.    0.023 0.001 0.    0.    0.001 0.242 0.229]\n",
      "  [1.    0.797 0.4   0.141 0.24  0.833 0.777 0.323 0.338]]\n",
      "\n",
      " [[1.    0.427 0.103 0.961 0.46  0.32  0.354 0.768 0.657]\n",
      "  [1.    0.316 0.369 0.279 0.128 0.284 0.103 0.353 0.442]\n",
      "  [1.    0.    0.    0.001 0.255 0.138 0.143 0.463 0.095]]]\n",
      "MCI partial correlations\n",
      "[[[ 0.    0.32  0.25  0.18  0.12  0.12  0.05  0.13  0.08]\n",
      "  [ 0.   -0.06 -0.02  0.01  0.03  0.03 -0.04  0.05 -0.  ]\n",
      "  [ 0.    0.02  0.09 -0.06 -0.04 -0.04 -0.03  0.03 -0.  ]]\n",
      "\n",
      " [[ 0.   -0.01  0.    0.01 -0.05  0.06  0.03 -0.02  0.01]\n",
      "  [ 0.    0.15  0.07 -0.11 -0.15 -0.18 -0.1  -0.04  0.04]\n",
      "  [ 0.    0.01 -0.03  0.05 -0.04  0.01  0.01  0.03  0.03]]\n",
      "\n",
      " [[ 0.    0.03  0.05  0.   -0.02 -0.03 -0.03  0.01 -0.01]\n",
      "  [ 0.    0.03 -0.03  0.03  0.05 -0.03 -0.05  0.03  0.02]\n",
      "  [ 0.    0.18  0.2   0.1   0.04  0.05 -0.05  0.02 -0.05]]]\n"
     ]
    }
   ],
   "source": [
    "print(\"p-values\")\n",
    "print (results['p_matrix'].round(3))\n",
    "print(\"MCI partial correlations\")\n",
    "print (results['val_matrix'].round(2))"
   ]
  },
  {
   "cell_type": "code",
   "execution_count": 69,
   "metadata": {
    "hidden": true
   },
   "outputs": [
    {
     "name": "stdout",
     "output_type": "stream",
     "text": [
      "\n",
      "## Significant links at alpha = 0.01:\n",
      "\n",
      "    Variable X has 6 link(s):\n",
      "        (X -1): pval = 0.00000 | qval = 0.00000 | val = 0.319\n",
      "        (X -2): pval = 0.00000 | qval = 0.00000 | val = 0.249\n",
      "        (X -3): pval = 0.00000 | qval = 0.00000 | val = 0.179\n",
      "        (X -7): pval = 0.00005 | qval = 0.00039 | val = 0.130\n",
      "        (X -5): pval = 0.00013 | qval = 0.00095 | val = 0.122\n",
      "        (X -4): pval = 0.00027 | qval = 0.00175 | val = 0.117\n",
      "\n",
      "    Variable Y has 5 link(s):\n",
      "        (Y -5): pval = 0.00000 | qval = 0.00000 | val = -0.178\n",
      "        (Y -1): pval = 0.00000 | qval = 0.00002 | val = 0.151\n",
      "        (Y -4): pval = 0.00000 | qval = 0.00003 | val = -0.149\n",
      "        (Y -3): pval = 0.00081 | qval = 0.00483 | val = -0.107\n",
      "        (Y -6): pval = 0.00137 | qval = 0.00703 | val = -0.103\n",
      "\n",
      "    Variable Z has 3 link(s):\n",
      "        (Z -2): pval = 0.00000 | qval = 0.00000 | val = 0.202\n",
      "        (Z -1): pval = 0.00000 | qval = 0.00000 | val = 0.176\n",
      "        (Z -3): pval = 0.00106 | qval = 0.00585 | val = 0.105\n"
     ]
    }
   ],
   "source": [
    "q_matrix = pcmci.get_corrected_pvalues(p_matrix=results['p_matrix'], fdr_method='fdr_bh')\n",
    "pcmci.print_significant_links(\n",
    "        p_matrix = results['p_matrix'], \n",
    "        q_matrix = q_matrix,\n",
    "        val_matrix = results['val_matrix'],\n",
    "        alpha_level = 0.01)"
   ]
  },
  {
   "cell_type": "code",
   "execution_count": 70,
   "metadata": {
    "hidden": true
   },
   "outputs": [],
   "source": [
    "link_matrix = pcmci.return_significant_parents(pq_matrix=q_matrix,\n",
    "                        val_matrix=results['val_matrix'], alpha_level=0.01)['link_matrix']"
   ]
  },
  {
   "cell_type": "code",
   "execution_count": 71,
   "metadata": {
    "hidden": true
   },
   "outputs": [
    {
     "data": {
      "image/png": "[encoded data removed]",
      "text/plain": [
       "<Figure size 432x288 with 2 Axes>"
      ]
     },
     "metadata": {},
     "output_type": "display_data"
    }
   ],
   "source": [
    "tp.plot_graph(\n",
    "    val_matrix=results['val_matrix'],\n",
    "    link_matrix=link_matrix,\n",
    "    var_names=var_names,\n",
    "    link_colorbar_label='cross-MCI',\n",
    "    node_colorbar_label='auto-MCI',\n",
    "    )"
   ]
  },
  {
   "cell_type": "code",
   "execution_count": null,
   "metadata": {
    "hidden": true
   },
   "outputs": [],
   "source": []
  },
  {
   "cell_type": "code",
   "execution_count": null,
   "metadata": {
    "hidden": true
   },
   "outputs": [],
   "source": []
  },
  {
   "cell_type": "code",
   "execution_count": null,
   "metadata": {
    "hidden": true
   },
   "outputs": [],
   "source": []
  },
  {
   "cell_type": "code",
   "execution_count": null,
   "metadata": {
    "colab": {},
    "colab_type": "code",
    "hidden": true,
    "id": "LROxHGRCThn9"
   },
   "outputs": [],
   "source": []
  }
 ],
 "metadata": {
  "colab": {
   "collapsed_sections": [],
   "name": "EGU_ensemble_QBOi_CEN_Exp1_day.ipynb",
   "provenance": [
    {
     "file_id": "1rQaOgWcVckzgKDh5z2BizXwYlkwS2a9S",
     "timestamp": 1552381556506
    },
    {
     "file_id": "1CnFLNliKFFY-6hZB11bCKMWrRCEixGJ3",
     "timestamp": 1536324411036
    },
    {
     "file_id": "1WumFpOkNG3FgREzVdg5oBIquRxKZ0e8p",
     "timestamp": 1529484299523
    },
    {
     "file_id": "1zhFfbDq9bVYiW1VSCVt-89L26xNbXW1i",
     "timestamp": 1528975132015
    },
    {
     "file_id": "1EJcmh27MZ0waMfu6AEmw-HCyALuYZyNn",
     "timestamp": 1515080682662
    }
   ],
   "version": "0.3.2"
  },
  "kernelspec": {
   "display_name": "Python 3",
   "language": "python",
   "name": "python3"
  },
  "language_info": {
   "codemirror_mode": {
    "name": "ipython",
    "version": 3
   },
   "file_extension": ".py",
   "mimetype": "text/x-python",
   "name": "python",
   "nbconvert_exporter": "python",
   "pygments_lexer": "ipython3",
   "version": "3.6.8"
  }
 },
 "nbformat": 4,
 "nbformat_minor": 1
}
