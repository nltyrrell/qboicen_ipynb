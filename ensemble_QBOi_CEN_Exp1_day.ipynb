{
 "cells": [
  {
   "cell_type": "markdown",
   "metadata": {
    "colab_type": "text",
    "id": "7vHRw5uWYBpO"
   },
   "source": [
    "# QBOi Tigramite notebook.\n",
    "\n",
    "First attempt at a shared jupyter notebook.\n",
    "- Install Tigramite and dependencies\n",
    "- Load data from Dropbox\n",
    "- Run Causal Effect Network analysis on QBOi data\n",
    "\n",
    "All models are loaded, but currently some have errors in the v_flux timeseries.\n",
    "\n",
    "Warning: Runtime type must be Python 2 (Python 3 not supported by Tigramite)"
   ]
  },
  {
   "cell_type": "markdown",
   "metadata": {
    "colab_type": "text",
    "id": "Xa1VlIdSY54z"
   },
   "source": [
    "## Install dependencies and Tigramite\n",
    "Use pip install to load cython and ace, then use pip install git+... to load tigramite directly from the github repo."
   ]
  },
  {
   "cell_type": "code",
   "execution_count": 1,
   "metadata": {
    "colab": {},
    "colab_type": "code",
    "id": "UJ3IkoUbWNSZ"
   },
   "outputs": [
    {
     "name": "stdout",
     "output_type": "stream",
     "text": [
      "Could not import r-package RCIT\n",
      "Could not import r-package acepack for GPACE, use python ACE package\n"
     ]
    }
   ],
   "source": [
    "# Imports required python packages\n",
    "import numpy\n",
    "import numpy.ma as ma\n",
    "import matplotlib\n",
    "from matplotlib import pyplot as plt\n",
    "import sklearn\n",
    "\n",
    "import tigramite\n",
    "from tigramite import data_processing as pp\n",
    "from tigramite import plotting as tp\n",
    "from tigramite.pcmci import PCMCI\n",
    "from tigramite.independence_tests import ParCorr, GPDC, CMIknn, CMIsymb\n",
    "from tigramite.models import LinearMediation, Prediction\n",
    "\n",
    "import numpy as np\n",
    "import pandas as pd\n",
    "import netCDF4\n",
    "from scipy import signal\n",
    "\n",
    "%matplotlib inline     "
   ]
  },
  {
   "cell_type": "code",
   "execution_count": 9,
   "metadata": {},
   "outputs": [
    {
     "data": {
      "text/plain": [
       "<module 'tigramite' from '/home/tyrrell/anaconda3/envs/py2/lib/python2.7/site-packages/tigramite-3.0b0-py2.7-linux-x86_64.egg/tigramite/__init__.pyc'>"
      ]
     },
     "execution_count": 9,
     "metadata": {},
     "output_type": "execute_result"
    }
   ],
   "source": [
    "tigramite\n"
   ]
  },
  {
   "cell_type": "markdown",
   "metadata": {
    "colab_type": "text",
    "id": "IESLq6BtxNr6"
   },
   "source": [
    "Read data in to Pandas dataframe"
   ]
  },
  {
   "cell_type": "code",
   "execution_count": 2,
   "metadata": {
    "colab": {},
    "colab_type": "code",
    "collapsed": true,
    "id": "50wuci8XIDmt"
   },
   "outputs": [],
   "source": [
    "ERA = \"/home/tyrrell/research/qbo/qboi/cen_data/erai_day.csv\"\n",
    "CAM = \"/home/tyrrell/research/qbo/qboi/cen_data/CAM_QBOiExp1_r1i1p1_day.csv\"\n",
    "CCCmaCMAM = \"/home/tyrrell/research/qbo/qboi/cen_data/CCCmaCMAM_QBOiExp1_r1i1p1_day.csv\"\n",
    "ISAC_CNRECHAM5sh = \"/home/tyrrell/research/qbo/qboi/cen_data/ISAC-CNRECHAM5sh_QBOiExp1_r1i1p1_day.csv\"\n",
    "MIROCMIROC_AGCM = \"/home/tyrrell/research/qbo/qboi/cen_data/MIROCMIROC-AGCM_QBOiExp1_r1i1p1_day.csv\"\n",
    "MIROCMIROC_ESM = \"/home/tyrrell/research/qbo/qboi/cen_data/MIROCMIROC-ESM_QBOiExp1_r1i1p1_day.csv\"\n",
    "#MOHCUMGA7 = \"https://www.dropbox.com/s/vnq57vebl3izq4y/MOHCUMGA7_QBOiExp1_r2i1p1_day.csv?dl=1\"\n",
    "# MRIMRI_ESM2 = \"\"\n",
    "WACCM = \"/home/tyrrell/research/qbo/qboi/cen_data/WACCM_QBOiExp1_r1i1p1_day.csv\"\n",
    "# YonseiHadGEM2_A = \"\"\n",
    "# YonseiHadGEM2_AC = \"\"\n",
    "\n",
    "era = pd.read_csv(ERA,index_col=0)\n",
    "cam = pd.read_csv(CAM,index_col=0)\n",
    "cccmacmam  = pd.read_csv(CCCmaCMAM,index_col=0)\n",
    "isac_cnrecham5sh = pd.read_csv(ISAC_CNRECHAM5sh,index_col=0)\n",
    "mirocmiroc_agcm = pd.read_csv(MIROCMIROC_AGCM,index_col=0)\n",
    "mirocmiroc_esm = pd.read_csv(MIROCMIROC_ESM,index_col=0)\n",
    "#mohcumga7 = pd.read_csv(MOHCUMGA7,index_col=0)\n",
    "#mrimri_esm2 = pd.read_csv(MRIMRI_ESM2,index_col=0)\n",
    "waccm = pd.read_csv(WACCM,index_col=0)\n",
    "#yonseihadgem2_a = pd.read_csv(YonseiHadGEM2_A,index_col=0)\n",
    "#yonseihadgem2_ac = pd.read_csv(YonseiHadGEM2_AC,index_col=0)\n"
   ]
  },
  {
   "cell_type": "markdown",
   "metadata": {
    "colab_type": "text",
    "id": "pqDLYlNwjOSt"
   },
   "source": [
    "### Remove seasonal cycle and detrend, fix sign, time means"
   ]
  },
  {
   "cell_type": "code",
   "execution_count": 3,
   "metadata": {
    "colab": {},
    "colab_type": "code",
    "collapsed": true,
    "id": "c5x2zervWNUF"
   },
   "outputs": [],
   "source": [
    "\n",
    "def rm_seascyc(df):\n",
    "    \"\"\"\n",
    "    Remove seasonal cycle and detrend data from a pandas dataframe, \n",
    "    then return the anomaly dataframe \n",
    "    and a Tigramite dataframe\n",
    "    \"\"\"\n",
    "\n",
    "    # Remove time of day from date\n",
    "    df['date'] = pd.to_datetime(df['date'])\n",
    "    df['date'] = df['date'].apply( lambda df : pd.datetime(year=df.year, \n",
    "                                                         month=df.month, \n",
    "                                                         day=df.day))\n",
    "\n",
    "    # set date column as index\n",
    "    df.set_index('date', inplace=True)\n",
    "\n",
    "    # Create new column of day of year\n",
    "    df['DoY'] = df.index.dayofyear\n",
    "    #df['mon'] = df.index.month\n",
    "\n",
    "    # Get seasonal cycle, (transform keeps array the same size)\n",
    "    seascyc = df.groupby('DoY').transform('mean')\n",
    "\n",
    "    # Remove seasonal cycle, create anomaly actors dataframe\n",
    "    anomact = df - seascyc\n",
    "    anomact.drop('DoY',axis=1,inplace=True)\n",
    "\n",
    "    #detrend data\n",
    "    for colname, col in anomact.iteritems():\n",
    "        #print(colname)\n",
    "        anomact[colname] = signal.detrend(anomact[colname],axis=0)  \n",
    "\n",
    "    #print(anomact.head(n=3))\n",
    "\n",
    "    # Put data into tigramite dataframe\n",
    "\n",
    "    var_names=anomact.keys()\n",
    "    anomact_tdf = pp.DataFrame(anomact.as_matrix(columns=var_names[1::]))\n",
    "\n",
    "    return anomact, seascyc\n",
    "\n",
    "# Note: this doesn't work with NaN values\n",
    "era_anom, era_seascyc = rm_seascyc(era)\n",
    "cam_anom, cam_seascyc = rm_seascyc(cam)\n",
    "cccmacmam_anom, cccmacmam_seascyc = rm_seascyc(cccmacmam)\n",
    "isac_cnrecham5sh_anom, isac_cnrecham5sh_seascyc = rm_seascyc(isac_cnrecham5sh)\n",
    "mirocmiroc_agcm_anom, mirocmiroc_agcm_seascyc = rm_seascyc(mirocmiroc_agcm)\n",
    "mirocmiroc_esm_anom, mirocmiroc_esm_seascyc = rm_seascyc(mirocmiroc_esm)\n",
    "# mohcumga7_anom, mohcumga7_seascyc = rm_seascyc(mohcumga7)\n",
    "# mrimri_esm2_anom, mrimri_esm2_seascyc = rm_seascyc(mrimri_esm2)\n",
    "# waccm_anom, waccm_seascyc = rm_seascyc(waccm)\n",
    "# yonseihadgem2_a_anom, yonseihadgem2_a_seascyc = rm_seascyc(yonseihadgem2_a)\n",
    "# yonseihadgem2_ac_anom, yonseihadgem2_ac_seascyc = rm_seascyc(yonseihadgem2_ac)\n",
    "\n",
    "# === reverse sign of NAO, PoV, v_flux ===\n",
    "\n",
    "\n",
    "for rev_var in ['PoV']:\n",
    "    #  cam_anom[rev_var] = cam_anom[rev_var]*(-1)\n",
    "    #  cccmacmam_anom[rev_var] = cccmacmam_anom[rev_var]*(-1)\n",
    "    isac_cnrecham5sh_anom[rev_var] = isac_cnrecham5sh_anom[rev_var]*(-1)\n",
    "    #  mirocmiroc_agcm_anom[rev_var] = mirocmiroc_agcm_anom[rev_var]*(-1)\n",
    "    mirocmiroc_esm_anom[rev_var] = mirocmiroc_esm_anom[rev_var]*(-1)\n",
    "\n",
    "for rev_var in ['NAO']:\n",
    "    cam_anom[rev_var] = cam_anom[rev_var]*(-1)\n",
    "    cccmacmam_anom[rev_var] = cccmacmam_anom[rev_var]*(-1)\n",
    "#  isac_cnrecham5sh_anom[rev_var] = isac_cnrecham5sh_anom[rev_var]*(-1)\n",
    "#  mirocmiroc_agcm_anom[rev_var] = mirocmiroc_agcm_anom[rev_var]*(-1)\n",
    "#  mirocmiroc_esm_anom[rev_var] = mirocmiroc_esm_anom[rev_var]*(-1)\n",
    "\n",
    "for rev_var in ['v_flux']:\n",
    "    cam_anom[rev_var] = cam_anom[rev_var]*(-1)\n",
    "    #  cccmacmam_anom[rev_var] = cccmacmam_anom[rev_var]*(-1)\n",
    "    isac_cnrecham5sh_anom[rev_var] = isac_cnrecham5sh_anom[rev_var]*(-1)\n",
    "    #  mirocmiroc_agcm_anom[rev_var] = mirocmiroc_agcm_anom[rev_var]*(-1)\n",
    "    mirocmiroc_esm_anom[rev_var] = mirocmiroc_esm_anom[rev_var]*(-1)\n",
    "\n",
    "\n",
    "# === define weekly mean ===\n",
    "\n",
    "def weekmean(df):\n",
    "    n=0\n",
    "    for colname, col in df.iteritems():\n",
    "        #print(colname)\n",
    "        #anomact[colname] = signal.detrend(anomact[colname],axis=0)  \n",
    "        new_series = df[colname].resample('W').mean()\n",
    "        new_series.name = colname\n",
    "        if n==0:\n",
    "            newdf = pd.DataFrame(new_series)\n",
    "            n=1\n",
    "        else:\n",
    "            newdf[colname] = new_series\n",
    "\n",
    "    return newdf\n",
    "      \n",
    "era_week = weekmean(era_anom)\n",
    "cam_week = weekmean(cam_anom)\n",
    "cccmacmam_week = weekmean(cccmacmam_anom)\n",
    "isac_cnrecham5sh_week = weekmean(isac_cnrecham5sh_anom)\n",
    "mirocmiroc_agcm_week = weekmean(mirocmiroc_agcm_anom)\n",
    "mirocmiroc_esm_week = weekmean(mirocmiroc_esm_anom)\n",
    "#mohcumga7_week = weekmean(mohcumga7_anom)\n",
    "\n",
    "era_abs_week = weekmean(era)\n",
    "cam_abs_week = weekmean(cam)\n",
    "cccmacmam_abs_week = weekmean(cccmacmam)\n",
    "isac_cnrecham5sh_abs_week = weekmean(isac_cnrecham5sh)\n",
    "mirocmiroc_agcm_abs_week = weekmean(mirocmiroc_agcm)\n",
    "mirocmiroc_esm_abs_week = weekmean(mirocmiroc_esm)\n",
    "#mohcumga7_abs_week = weekmean(mohcumga7)\n",
    "\n"
   ]
  },
  {
   "cell_type": "markdown",
   "metadata": {
    "colab_type": "text",
    "id": "sT51F2pd7gNr"
   },
   "source": [
    "### Create masks for QBOE and QBOW months. Include mask for months ONDJFM"
   ]
  },
  {
   "cell_type": "code",
   "execution_count": 5,
   "metadata": {
    "cellView": "code",
    "colab": {},
    "colab_type": "code",
    "id": "YJmmnRHDWNUJ"
   },
   "outputs": [],
   "source": [
    "# Mask data for QBOW, and create QBOW and QBOE dataframes\n",
    "\n",
    "def qbomask(df_abs, df, u_lim=2):\n",
    "    \"\"\"\n",
    "    Take a dataframe (df) with all timeseriees, put QBO into seperate df,\n",
    "    make masks with the QBO data.\n",
    "    Uses a threshold of +/- 5 m/s for u-wind, unless otherwise specified.\n",
    "    Input: dataframe of anomalies\n",
    "    Output: dataframe w/o QBO, df of QBO, mask for QBOE, mask for QBOW, \n",
    "          mask for no qbo, i.e. mask of months ONDJFM\n",
    "    \"\"\"\n",
    "\n",
    "    # Put QBO timeseries in a seperate df and create QBOE/W df\n",
    "    df_qbo = df_abs[['QBO']].copy() # Use abs values to calc QBO\n",
    "    df_noqbo = df.drop('QBO',axis=1)\n",
    "\n",
    "    # Add month series\n",
    "    df_noqbo['mon'] = df_noqbo.index.month\n",
    "\n",
    "    # Set up masked arrays\n",
    "    mask_qbow = np.zeros(df_qbo.shape).astype('bool')\n",
    "    mask_qboe = np.zeros(df_qbo.shape).astype('bool')\n",
    "    mask_mon = np.zeros(df_qbo.shape).astype('bool')\n",
    "\n",
    "    # Create QBOW Mask for given u_lim\n",
    "    mask_qbow = np.ma.masked_less(df_qbo.as_matrix(columns=['QBO']),u_lim).mask\n",
    "    # Make mask same size as full df\n",
    "    df_size = df_noqbo.shape[1]\n",
    "    mask_qbow2 = np.tile(mask_qbow,df_size)\n",
    "    # Repeat for QBOE\n",
    "    mask_qboe = np.ma.masked_greater(df_qbo.as_matrix(columns=['QBO']),-u_lim).mask\n",
    "    mask_qboe2 = np.tile(mask_qboe,df_size)\n",
    "\n",
    "    # Create Mask for Months Oct-Mar (i.e. mask out all other months)\n",
    "    mask_mon[:,0] = (\n",
    "                    #(df_noqbo['mon'] == 1) | (df_noqbo['mon'] == 2) |\n",
    "                    #(df_noqbo['mon'] == 3) | \n",
    "                    (df_noqbo['mon'] == 4) | (df_noqbo['mon'] == 5) |\n",
    "                    (df_noqbo['mon'] == 6) | (df_noqbo['mon'] == 7) |\n",
    "                    (df_noqbo['mon'] == 8) | (df_noqbo['mon'] == 9) |\n",
    "                    (df_noqbo['mon'] == 10) | (df_noqbo['mon'] == 11) |\n",
    "                    (df_noqbo['mon'] == 12)\n",
    "                    ).as_matrix()\n",
    "\n",
    "\n",
    "    mask_mon2 = np.tile(mask_mon,df_size) #.reshape(mask_qboe2.shape)\n",
    "\n",
    "    # Add month mask to QBO masks\n",
    "    mask_qboe_mon = mask_qboe2 + mask_mon2\n",
    "    mask_qbow_mon = mask_qbow2 + mask_mon2\n",
    "\n",
    "    # Use QBO masks on data\n",
    "    #  df_qboe.mask(mask_qboe2,inplace=True)\n",
    "    #  df_qbow.mask(mask_qbow2,inplace=True)\n",
    "\n",
    "    return(df_noqbo, df_qbo, mask_qboe_mon, mask_qbow_mon, mask_mon2)\n",
    "\n",
    "era_noqbo, era_qbo, era_qboe_mask, era_qbow_mask, era_noqbo_mask = qbomask(era_abs_week,era_week)\n",
    "cam_noqbo, cam_qbo, cam_qboe_mask, cam_qbow_mask, cam_noqbo_mask = qbomask(cam_abs_week,cam_week)\n",
    "cccmacmam_noqbo, cccmacmam_qbo, cccmacmam_qboe_mask, cccmacmam_qbow_mask, cccmacmam_noqbo_mask = qbomask(cccmacmam_abs_week,cccmacmam_week)\n",
    "isac_cnrecham5sh_noqbo, isac_cnrecham5sh_qbo, isac_cnrecham5sh_qboe_mask, isac_cnrecham5sh_qbow_mask, isac_cnrecham5sh_noqbo_mask = qbomask(isac_cnrecham5sh_abs_week,isac_cnrecham5sh_week)\n",
    "mirocmiroc_agcm_noqbo, mirocmiroc_agcm_qbo, mirocmiroc_agcm_qboe_mask, mirocmiroc_agcm_qbow_mask, mirocmiroc_agcm_noqbo_mask = qbomask(mirocmiroc_agcm_abs_week,mirocmiroc_agcm_week)\n",
    "mirocmiroc_esm_noqbo, mirocmiroc_esm_qbo, mirocmiroc_esm_qboe_mask, mirocmiroc_esm_qbow_mask, mirocmiroc_esm_noqbo_mask = qbomask(mirocmiroc_esm_abs_week,mirocmiroc_esm_week)\n",
    "\n"
   ]
  },
  {
   "cell_type": "markdown",
   "metadata": {
    "colab_type": "text",
    "id": "0mXH-wJxdGRq"
   },
   "source": [
    "## Plotting"
   ]
  },
  {
   "cell_type": "markdown",
   "metadata": {
    "colab_type": "text",
    "id": "pdl9onThdxRx"
   },
   "source": [
    "### Plot all models"
   ]
  },
  {
   "cell_type": "markdown",
   "metadata": {
    "colab_type": "text",
    "id": "H2bzSrVeWshQ"
   },
   "source": [
    "#### Function for plotting"
   ]
  },
  {
   "cell_type": "code",
   "execution_count": 7,
   "metadata": {
    "colab": {
     "base_uri": "https://localhost:8080/",
     "height": 1649
    },
    "colab_type": "code",
    "executionInfo": {
     "elapsed": 44747,
     "status": "ok",
     "timestamp": 1554282112248,
     "user": {
      "displayName": "Nicholas Tyrrell",
      "photoUrl": "https://lh4.googleusercontent.com/-gi3usNz72WA/AAAAAAAAAAI/AAAAAAAABbE/EZOgb1iXIH8/s64/photo.jpg",
      "userId": "00640113987881425946"
     },
     "user_tz": -180
    },
    "id": "UfRhha7sWNUX",
    "outputId": "f925d7c7-90eb-489b-b594-4f9c08e2bb9c"
   },
   "outputs": [
    {
     "name": "stdout",
     "output_type": "stream",
     "text": [
      "-----------------------------------------------------\n",
      "CAM\n",
      "['PoV', 'v_flux']\n",
      "All years\n"
     ]
    },
    {
     "ename": "AttributeError",
     "evalue": "PCMCI instance has no attribute 'return_significant_parents'",
     "output_type": "error",
     "traceback": [
      "\u001b[0;31m---------------------------------------------------------------------------\u001b[0m",
      "\u001b[0;31mAttributeError\u001b[0m                            Traceback (most recent call last)",
      "\u001b[0;32m<ipython-input-7-1935a07d40b2>\u001b[0m in \u001b[0;36m<module>\u001b[0;34m()\u001b[0m\n\u001b[1;32m    101\u001b[0m \u001b[0;32mprint\u001b[0m\u001b[0;34m(\u001b[0m\u001b[0;34m\"CAM\"\u001b[0m\u001b[0;34m)\u001b[0m\u001b[0;34m\u001b[0m\u001b[0m\n\u001b[1;32m    102\u001b[0m plot_model(cam_noqbo,cam_noqbo_mask,cam_qboe_mask,cam_qbow_mask,\n\u001b[0;32m--> 103\u001b[0;31m            var_select=var_select,save_plot=save_plot,save_name=\"cam\", title=\"cam\")\n\u001b[0m\u001b[1;32m    104\u001b[0m \u001b[0;32mprint\u001b[0m\u001b[0;34m(\u001b[0m\u001b[0;34m\"-----------------------------------------------------\"\u001b[0m\u001b[0;34m)\u001b[0m\u001b[0;34m\u001b[0m\u001b[0m\n\u001b[1;32m    105\u001b[0m \u001b[0;32mprint\u001b[0m\u001b[0;34m(\u001b[0m\u001b[0;34m\"CCCMA\"\u001b[0m\u001b[0;34m)\u001b[0m\u001b[0;34m\u001b[0m\u001b[0m\n",
      "\u001b[0;32m<ipython-input-7-1935a07d40b2>\u001b[0m in \u001b[0;36mplot_model\u001b[0;34m(df_noqbo, mon_mask, qboe_mask, qbow_mask, var_select, mask_type, save_plot, save_name, save_qbo, title)\u001b[0m\n\u001b[1;32m     45\u001b[0m     \u001b[0;32mprint\u001b[0m\u001b[0;34m(\u001b[0m\u001b[0;34m\"All years\"\u001b[0m\u001b[0;34m)\u001b[0m\u001b[0;34m\u001b[0m\u001b[0m\n\u001b[1;32m     46\u001b[0m     \u001b[0mfig\u001b[0m  \u001b[0;34m=\u001b[0m \u001b[0mplt\u001b[0m\u001b[0;34m.\u001b[0m\u001b[0mfigure\u001b[0m\u001b[0;34m(\u001b[0m\u001b[0mfigsize\u001b[0m\u001b[0;34m=\u001b[0m\u001b[0;34m(\u001b[0m\u001b[0;36m10\u001b[0m\u001b[0;34m,\u001b[0m\u001b[0;36m5\u001b[0m\u001b[0;34m)\u001b[0m\u001b[0;34m)\u001b[0m\u001b[0;34m;\u001b[0m \u001b[0max\u001b[0m\u001b[0;34m=\u001b[0m\u001b[0mfig\u001b[0m\u001b[0;34m.\u001b[0m\u001b[0madd_subplot\u001b[0m\u001b[0;34m(\u001b[0m\u001b[0;36m111\u001b[0m\u001b[0;34m)\u001b[0m\u001b[0;34m;\u001b[0m \u001b[0mplt\u001b[0m\u001b[0;34m.\u001b[0m\u001b[0mtitle\u001b[0m\u001b[0;34m(\u001b[0m\u001b[0;34m\"All, {}\"\u001b[0m\u001b[0;34m.\u001b[0m\u001b[0mformat\u001b[0m\u001b[0;34m(\u001b[0m\u001b[0mtitle\u001b[0m\u001b[0;34m)\u001b[0m\u001b[0;34m)\u001b[0m\u001b[0;34m\u001b[0m\u001b[0m\n\u001b[0;32m---> 47\u001b[0;31m     \u001b[0mrun_and_plot\u001b[0m\u001b[0;34m(\u001b[0m\u001b[0mtig_df_all\u001b[0m\u001b[0;34m,\u001b[0m \u001b[0mParCorr\u001b[0m\u001b[0;34m(\u001b[0m\u001b[0msignificance\u001b[0m\u001b[0;34m=\u001b[0m\u001b[0;34m'analytic'\u001b[0m\u001b[0;34m,\u001b[0m \u001b[0mmask_type\u001b[0m\u001b[0;34m=\u001b[0m\u001b[0mmask_type\u001b[0m\u001b[0;34m)\u001b[0m\u001b[0;34m,\u001b[0m \u001b[0;34m(\u001b[0m\u001b[0mfig\u001b[0m\u001b[0;34m,\u001b[0m \u001b[0max\u001b[0m\u001b[0;34m)\u001b[0m\u001b[0;34m,\u001b[0m \u001b[0mvar_select\u001b[0m\u001b[0;34m=\u001b[0m\u001b[0mvar_select\u001b[0m\u001b[0;34m)\u001b[0m\u001b[0;34m\u001b[0m\u001b[0m\n\u001b[0m\u001b[1;32m     48\u001b[0m     \u001b[0;31m# nt 21/02/2019 Removed use_mask=True, because update to code causes this to crash, see\u001b[0m\u001b[0;34m\u001b[0m\u001b[0;34m\u001b[0m\u001b[0m\n\u001b[1;32m     49\u001b[0m     \u001b[0;31m# https://github.com/jakobrunge/tigramite/commit/27d5f3789093164bec86d74ce04cb3a6ec0e7f1c#diff-e773bbc3398ad209273b9db59e379c17\u001b[0m\u001b[0;34m\u001b[0m\u001b[0;34m\u001b[0m\u001b[0m\n",
      "\u001b[0;32m<ipython-input-7-1935a07d40b2>\u001b[0m in \u001b[0;36mrun_and_plot\u001b[0;34m(dataframe, cond_ind_test, fig_ax, var_select)\u001b[0m\n\u001b[1;32m      7\u001b[0m     \u001b[0mpcmci\u001b[0m \u001b[0;34m=\u001b[0m \u001b[0mPCMCI\u001b[0m\u001b[0;34m(\u001b[0m\u001b[0mdataframe\u001b[0m\u001b[0;34m=\u001b[0m\u001b[0mdataframe\u001b[0m\u001b[0;34m,\u001b[0m \u001b[0mcond_ind_test\u001b[0m\u001b[0;34m=\u001b[0m\u001b[0mcond_ind_test\u001b[0m\u001b[0;34m)\u001b[0m\u001b[0;34m\u001b[0m\u001b[0m\n\u001b[1;32m      8\u001b[0m     \u001b[0mresults\u001b[0m \u001b[0;34m=\u001b[0m \u001b[0mpcmci\u001b[0m\u001b[0;34m.\u001b[0m\u001b[0mrun_pcmci\u001b[0m\u001b[0;34m(\u001b[0m\u001b[0mtau_min\u001b[0m\u001b[0;34m=\u001b[0m\u001b[0;36m0\u001b[0m\u001b[0;34m,\u001b[0m\u001b[0mtau_max\u001b[0m\u001b[0;34m=\u001b[0m\u001b[0;36m2\u001b[0m\u001b[0;34m,\u001b[0m\u001b[0mpc_alpha\u001b[0m\u001b[0;34m=\u001b[0m\u001b[0;36m0.4\u001b[0m\u001b[0;34m)\u001b[0m\u001b[0;34m\u001b[0m\u001b[0m\n\u001b[0;32m----> 9\u001b[0;31m     link_matrix = pcmci.return_significant_parents(pq_matrix=results['p_matrix'],\n\u001b[0m\u001b[1;32m     10\u001b[0m             val_matrix=results['val_matrix'], alpha_level=0.4)['link_matrix']\n\u001b[1;32m     11\u001b[0m     tp.plot_graph(fig_ax = fig_ax,  val_matrix=results['val_matrix'],\n",
      "\u001b[0;31mAttributeError\u001b[0m: PCMCI instance has no attribute 'return_significant_parents'"
     ]
    },
    {
     "data": {
      "image/png": "[encoded data removed]",
      "text/plain": [
       "<matplotlib.figure.Figure at 0x7fac68c03490>"
      ]
     },
     "metadata": {},
     "output_type": "display_data"
    }
   ],
   "source": [
    "\n",
    "def run_and_plot(dataframe, cond_ind_test, fig_ax, var_select):\n",
    "    \"\"\"\n",
    "    small function from example notebook to calc pcmci and plot masked links\n",
    "    \n",
    "    \"\"\"\n",
    "    pcmci = PCMCI(dataframe=dataframe, cond_ind_test=cond_ind_test)\n",
    "    results = pcmci.run_pcmci(tau_min=0,tau_max=2,pc_alpha=0.4)\n",
    "    link_matrix = pcmci.return_significant_parents(pq_matrix=results['p_matrix'],\n",
    "            val_matrix=results['val_matrix'], alpha_level=0.4)['link_matrix']\n",
    "    tp.plot_graph(fig_ax = fig_ax,  val_matrix=results['val_matrix'],\n",
    "                  link_matrix=link_matrix, var_names=var_select,\n",
    "    )\n",
    "    return\n",
    "\n",
    "def plot_model(df_noqbo,mon_mask,qboe_mask,qbow_mask,var_select,mask_type=None,\n",
    "               save_plot=False,save_name=None,save_qbo=False,title=None):\n",
    "               #var_names=['AO','BK-tas','EA-tas','PoV','Sib-SLP','Ural-SLP',\n",
    "               #           'v_flux']):\n",
    "    \"\"\"\n",
    "    Function to plot three link matrices, for all years, qboe and qbow, for selected\n",
    "    variables\n",
    "    Input:\n",
    "    df_noqbo  = pandas dataframe of timeseries (without qbo)\n",
    "    mon_mask  = masked array of months ONDJFM\n",
    "    qboe_mask = masked array of QBOE, same dimensions as data\n",
    "    qbow_mask = masked array of QBOW, same dimensions as data\n",
    "    var_names = list of variables for link matrix\n",
    "    mask_type = masking mode, 'y','x','z','yz','xy','xz','xyz', if None,'y' used\n",
    "    save_name = name to save plot, if None then not saved\n",
    "\n",
    "    \"\"\"\n",
    "    print(var_select)\n",
    "    df_names=df_noqbo[var_select]\n",
    "    n_cols = len(var_select)\n",
    "\n",
    "    tig_df_all = pp.DataFrame(df_names.as_matrix(columns=var_select),\n",
    "                             mask=mon_mask[:,0:n_cols])\n",
    "    tig_df_qboe = pp.DataFrame(df_names.as_matrix(columns=var_select),\n",
    "                             mask=qboe_mask[:,0:n_cols])\n",
    "    tig_df_qbow = pp.DataFrame(df_names.as_matrix(columns=var_select),\n",
    "                             mask=qbow_mask[:,0:n_cols])\n",
    "\n",
    "    # Causal graph all QBO years\n",
    "    print(\"All years\")\n",
    "    fig  = plt.figure(figsize=(10,5)); ax=fig.add_subplot(111); plt.title(\"All, {}\".format(title))\n",
    "    run_and_plot(tig_df_all, ParCorr(significance='analytic', mask_type=mask_type), (fig, ax), var_select=var_select)\n",
    "    # nt 21/02/2019 Removed use_mask=True, because update to code causes this to crash, see\n",
    "    # https://github.com/jakobrunge/tigramite/commit/27d5f3789093164bec86d74ce04cb3a6ec0e7f1c#diff-e773bbc3398ad209273b9db59e379c17\n",
    "    # old code below\n",
    "    # run_and_plot(tig_df_all, ParCorr(significance='analytic',use_mask=True, mask_type=mask_type), (fig, ax), var_select=var_select)\n",
    "\n",
    "    current_var = \"_\".join(var_select)\n",
    "    if save_plot:\n",
    "        plt.savefig('{}_all_day_{}.png'.format(save_name,current_var), bbox_inches='tight')\n",
    "\n",
    "    \"\"\"\n",
    "    # # Causal graph, QBOE\n",
    "    print(\"QBOE years\")\n",
    "    fig  = plt.figure(figsize=(10,5)); ax=fig.add_subplot(111);  plt.title(\"QBOE, {}\".format(title))\n",
    "    run_and_plot(tig_df_qboe, ParCorr(significance='analytic',use_mask=True, mask_type=mask_type), (fig, ax), var_select=var_select)\n",
    "\n",
    "    if save_plot and save_qbo:\n",
    "    fig.savefig('{}_qboe_day_{}.png'.format(save_name,current_var), bbox_inches='tight')\n",
    "    figfile = drive.CreateFile({'title':'{}_qboe_day_{}.png'.format(save_name,current_var),\n",
    "                                'parents':[{u'id':'13BVOh-AHmhzpvS30-eSIvLvhKkYC_01R'}]})\n",
    "    figfile.SetContentFile('{}_qboe_day_{}.png'.format(save_name,current_var))\n",
    "    figfile.Upload()  \n",
    "\n",
    "    # # Causal graph, QBOW\n",
    "    print(\"QBOW years\")\n",
    "    fig  = plt.figure(figsize=(10,5)); ax=fig.add_subplot(111);  plt.title(\"QBOW, {}\".format(title))\n",
    "    run_and_plot(tig_df_qbow, ParCorr(significance='analytic',use_mask=True, mask_type=mask_type), (fig, ax), var_select=var_select)\n",
    "\n",
    "    if save_plot and save_qbo:\n",
    "    fig.savefig('{}_qbow_day_{}.png'.format(save_name,current_var), bbox_inches='tight')\n",
    "    figfile = drive.CreateFile({'title':'{}_qbow_day_{}.png'.format(save_name,current_var),\n",
    "                                'parents':[{u'id':'13BVOh-AHmhzpvS30-eSIvLvhKkYC_01R'}]})\n",
    "    figfile.SetContentFile('{}_qbow_day_{}.png'.format(save_name,current_var))\n",
    "    figfile.Upload()\n",
    "    \"\"\"\n",
    "    return\n",
    "\n",
    "# All available variable names:\n",
    "# var_names=['NAO','BK-tas','EA-tas','PoV','Sib-SLP','Ural-SLP','v_flux']\n",
    "\n",
    "save_plot=False #True # set to True/False to save the plots to drive folder\n",
    "\n",
    "# var_select=['NAO','PoV','v_flux']\n",
    "\n",
    "var_select=['NAO','BK-SIC','EA-tas','PoV','Sib-SLP','Ural-SLP','v_flux']\n",
    "var_select=['PoV','v_flux'] #,'PoV','v_flux']\n",
    "#var_select=['PoV','v_flux']\n",
    "\n",
    "\n",
    "print(\"-----------------------------------------------------\")\n",
    "print(\"ERA\")\n",
    "plot_model(era_noqbo,era_noqbo_mask,era_qboe_mask,era_qbow_mask,\n",
    "           var_select=var_select,save_plot=save_plot,save_name=\"era\", title=\"era\")\n",
    "print(\"-----------------------------------------------------\")\n",
    "print(\"CAM\")\n",
    "plot_model(cam_noqbo,cam_noqbo_mask,cam_qboe_mask,cam_qbow_mask,\n",
    "           var_select=var_select,save_plot=save_plot,save_name=\"cam\", title=\"cam\")\n",
    "print(\"-----------------------------------------------------\")\n",
    "print(\"CCCMA\")\n",
    "plot_model(cccmacmam_noqbo,cccmacmam_noqbo_mask,cccmacmam_qboe_mask,cccmacmam_qbow_mask,\n",
    "           var_select=var_select,save_plot=save_plot,save_name=\"cccmacmam\",title=\"cccmacmam\")\n",
    "print(\"-----------------------------------------------------\")\n",
    "print(\"ISAC\")\n",
    "plot_model(isac_cnrecham5sh_noqbo,isac_cnrecham5sh_noqbo_mask,isac_cnrecham5sh_qboe_mask,isac_cnrecham5sh_qbow_mask,\n",
    "           var_select=var_select,save_plot=save_plot,save_name=\"isac_cnrecham5sh\",title=\"isac_cnrecham5sh\")\n",
    "#print(\"-----------------------------------------------------\")\n",
    "#print(\"MIROC AGCM\")\n",
    "#plot_model(mirocmiroc_agcm_noqbo,mirocmiroc_agcm_noqbo_mask,mirocmiroc_agcm_qboe_mask,mirocmiroc_agcm_qbow_mask,\n",
    "#          var_select=var_select,save_plot=save_plot,save_name=\"mirocmiroc_agcm\",title=\"mirocmiroc_agcm\")\n",
    "print(\"-----------------------------------------------------\")\n",
    "print(\"MIROC ESM\")\n",
    "plot_model(mirocmiroc_esm_noqbo,mirocmiroc_esm_noqbo_mask,mirocmiroc_esm_qboe_mask,mirocmiroc_esm_qbow_mask,\n",
    "           var_select=var_select,save_plot=save_plot,save_name=\"mirocmiroc_esm\",title=\"mirocmiroc_esm\")\n",
    "print(\"-----------------------------------------------------\")\n",
    "\"\"\"\n",
    "print(\"MOHC\")\n",
    "plot_model(mohcumga7_noqbo,mohcumga7_noqbo_mask,mohcumga7_qboe_mask,mohcumga7_qbow_mask,\n",
    "           var_select=var_select,save_plot=save_plot,save_name=\"mohcumga7\",title=\"mohcumga7\")\n",
    "print(\"-----------------------------------------------------\")\n",
    "print(\"MRI\")\n",
    "plot_model(mrimri_esm2_noqbo,mrimri_esm2_noqbo_mask,mrimri_esm2_qboe_mask,mrimri_esm2_qbow_mask,\n",
    "           var_select=var_select,save_plot=save_plot,save_name=\"mrimri_esm2\",title=\"mrimri_esm2\")\n",
    "print(\"-----------------------------------------------------\")\n",
    "print(\"WACCM\")\n",
    "plot_model(waccm_noqbo,waccm_noqbo_mask,waccm_qboe_mask,waccm_qbow_mask,\n",
    "           var_select=var_select,save_plot=save_plot,save_name=\"waccm\",title=\"waccm\")\n",
    "print(\"-----------------------------------------------------\")\n",
    "print(\"YONSEI A\")\n",
    "plot_model(yonseihadgem2_a_noqbo,yonseihadgem2_a_noqbo_mask,yonseihadgem2_a_qboe_mask,yonseihadgem2_a_qbow_mask,\n",
    "           var_select=var_select,save_plot=save_plot,save_name=\"yonseihadgem2_a\",title=\"yonseihadgem2_a\")\n",
    "print(\"-----------------------------------------------------\")\n",
    "print(\"YONSEI AC\")\n",
    "plot_model(yonseihadgem2_ac_noqbo,yonseihadgem2_ac_noqbo_mask,yonseihadgem2_ac_qboe_mask,yonseihadgem2_ac_qbow_mask,\n",
    "           var_select=var_select,save_plot=save_plot,save_name=\"yonseihadgem2_ac\",title=\"yonseihadgem2_ac\")\n",
    "\"\"\""
   ]
  },
  {
   "cell_type": "markdown",
   "metadata": {
    "colab_type": "text",
    "id": "V1pzrqvvvsoL"
   },
   "source": [
    "### Ensemble mean plots\n"
   ]
  },
  {
   "cell_type": "markdown",
   "metadata": {
    "colab_type": "text",
    "id": "fA9Uxf1QBqx2"
   },
   "source": [
    "The code  below calculates the link matrices for all models, then combines them. You can change the models used by changing the \"mods\" list. Change the actors used by changing the var_select list. Rerun the two cells below to see the changes.\n",
    "\n"
   ]
  },
  {
   "cell_type": "code",
   "execution_count": 10,
   "metadata": {
    "colab": {},
    "colab_type": "code",
    "collapsed": true,
    "id": "UgLcBFHfeFxj"
   },
   "outputs": [],
   "source": [
    "# Function for ensemble plots\n",
    "\n",
    "\n",
    "def run_and_plot_prepare_ensemble(dataframe, cond_ind_test, var_select, tau_max,\n",
    "                                  tau_min, pc_alpha=0.1):\n",
    "    \"\"\"\n",
    "    small function from example notebook to calc pcmci and plot masked links\n",
    "    \n",
    "    \"\"\"\n",
    "    pcmci = PCMCI(dataframe=dataframe, cond_ind_test=cond_ind_test) #, var_names=var_select)\n",
    "    results = pcmci.run_pcmci(tau_min=tau_min,tau_max=tau_max,pc_alpha=pc_alpha)\n",
    "    link_matrix = pcmci.return_significant_parents(pq_matrix=results['p_matrix'],\n",
    "            val_matrix=results['val_matrix'], alpha_level=pc_alpha)['link_matrix']\n",
    "# #     tp.plot_graph(fig_ax = fig_ax,  val_matrix=results['val_matrix'],\n",
    "# #                   link_matrix=link_matrix, var_names=var_select,\n",
    "#     )\n",
    "    return results, link_matrix\n",
    "\n",
    "\n"
   ]
  },
  {
   "cell_type": "code",
   "execution_count": 11,
   "metadata": {
    "colab": {
     "base_uri": "https://localhost:8080/",
     "height": 803
    },
    "colab_type": "code",
    "executionInfo": {
     "elapsed": 5591,
     "status": "ok",
     "timestamp": 1554297935269,
     "user": {
      "displayName": "Nicholas Tyrrell",
      "photoUrl": "https://lh4.googleusercontent.com/-gi3usNz72WA/AAAAAAAAAAI/AAAAAAAABbE/EZOgb1iXIH8/s64/photo.jpg",
      "userId": "00640113987881425946"
     },
     "user_tz": -180
    },
    "id": "RmR1FjLqeTmj",
    "outputId": "fddbd967-3c17-4596-d2b5-ee10f6f0450b"
   },
   "outputs": [
    {
     "name": "stdout",
     "output_type": "stream",
     "text": [
      "Current variables: v_flux_Sib-SLP_EA-tas_PoV\n",
      "0\n",
      "results all\n"
     ]
    },
    {
     "ename": "AttributeError",
     "evalue": "PCMCI instance has no attribute 'return_significant_parents'",
     "output_type": "error",
     "traceback": [
      "\u001b[0;31m---------------------------------------------------------------------------\u001b[0m",
      "\u001b[0;31mAttributeError\u001b[0m                            Traceback (most recent call last)",
      "\u001b[0;32m<ipython-input-11-d29ed0b33896>\u001b[0m in \u001b[0;36m<module>\u001b[0;34m()\u001b[0m\n\u001b[1;32m     65\u001b[0m                                       \u001b[0mParCorr\u001b[0m\u001b[0;34m(\u001b[0m\u001b[0msignificance\u001b[0m\u001b[0;34m=\u001b[0m\u001b[0;34m'analytic'\u001b[0m\u001b[0;34m,\u001b[0m\u001b[0mmask_type\u001b[0m\u001b[0;34m=\u001b[0m\u001b[0;34m'y'\u001b[0m\u001b[0;34m)\u001b[0m\u001b[0;34m,\u001b[0m\u001b[0;34m\u001b[0m\u001b[0m\n\u001b[1;32m     66\u001b[0m                                       \u001b[0mvar_select\u001b[0m\u001b[0;34m=\u001b[0m\u001b[0mvar_select\u001b[0m\u001b[0;34m,\u001b[0m \u001b[0mtau_max\u001b[0m\u001b[0;34m=\u001b[0m\u001b[0mtau_max\u001b[0m\u001b[0;34m,\u001b[0m\u001b[0;34m\u001b[0m\u001b[0m\n\u001b[0;32m---> 67\u001b[0;31m                                       tau_min=tau_min,pc_alpha=alpha_level)\n\u001b[0m\u001b[1;32m     68\u001b[0m     \u001b[0;32mprint\u001b[0m\u001b[0;34m(\u001b[0m\u001b[0;34m'results qboe'\u001b[0m\u001b[0;34m)\u001b[0m\u001b[0;34m\u001b[0m\u001b[0m\n\u001b[1;32m     69\u001b[0m     results_qboe, link_matrix_qboe = run_and_plot_prepare_ensemble(df_qboe,\n",
      "\u001b[0;32m<ipython-input-10-94cced226c2d>\u001b[0m in \u001b[0;36mrun_and_plot_prepare_ensemble\u001b[0;34m(dataframe, cond_ind_test, var_select, tau_max, tau_min, pc_alpha)\u001b[0m\n\u001b[1;32m     10\u001b[0m     \u001b[0mpcmci\u001b[0m \u001b[0;34m=\u001b[0m \u001b[0mPCMCI\u001b[0m\u001b[0;34m(\u001b[0m\u001b[0mdataframe\u001b[0m\u001b[0;34m=\u001b[0m\u001b[0mdataframe\u001b[0m\u001b[0;34m,\u001b[0m \u001b[0mcond_ind_test\u001b[0m\u001b[0;34m=\u001b[0m\u001b[0mcond_ind_test\u001b[0m\u001b[0;34m)\u001b[0m \u001b[0;31m#, var_names=var_select)\u001b[0m\u001b[0;34m\u001b[0m\u001b[0m\n\u001b[1;32m     11\u001b[0m     \u001b[0mresults\u001b[0m \u001b[0;34m=\u001b[0m \u001b[0mpcmci\u001b[0m\u001b[0;34m.\u001b[0m\u001b[0mrun_pcmci\u001b[0m\u001b[0;34m(\u001b[0m\u001b[0mtau_min\u001b[0m\u001b[0;34m=\u001b[0m\u001b[0mtau_min\u001b[0m\u001b[0;34m,\u001b[0m\u001b[0mtau_max\u001b[0m\u001b[0;34m=\u001b[0m\u001b[0mtau_max\u001b[0m\u001b[0;34m,\u001b[0m\u001b[0mpc_alpha\u001b[0m\u001b[0;34m=\u001b[0m\u001b[0mpc_alpha\u001b[0m\u001b[0;34m)\u001b[0m\u001b[0;34m\u001b[0m\u001b[0m\n\u001b[0;32m---> 12\u001b[0;31m     link_matrix = pcmci.return_significant_parents(pq_matrix=results['p_matrix'],\n\u001b[0m\u001b[1;32m     13\u001b[0m             val_matrix=results['val_matrix'], alpha_level=pc_alpha)['link_matrix']\n\u001b[1;32m     14\u001b[0m \u001b[0;31m# #     tp.plot_graph(fig_ax = fig_ax,  val_matrix=results['val_matrix'],\u001b[0m\u001b[0;34m\u001b[0m\u001b[0;34m\u001b[0m\u001b[0m\n",
      "\u001b[0;31mAttributeError\u001b[0m: PCMCI instance has no attribute 'return_significant_parents'"
     ]
    }
   ],
   "source": [
    "### WORKING QBOE/W MASK\n",
    "### \n",
    "\n",
    "mods = [cam_noqbo,cccmacmam_noqbo,isac_cnrecham5sh_noqbo,\n",
    "        mirocmiroc_esm_noqbo]\n",
    "        #mirocmiroc_agcm_noqbo,\n",
    "        #,mohcumga7_noqbo]\n",
    "        #,mrimri_esm2_noqbo,waccm_noqbo,\n",
    "        #yonseihadgem2_a_noqbo,yonseihadgem2_ac_noqbo]\n",
    "\n",
    "qemask = [cam_qboe_mask, cccmacmam_qboe_mask, isac_cnrecham5sh_qboe_mask, \n",
    "        mirocmiroc_esm_qboe_mask]\n",
    "        # mirocmiroc_agcm_qboe_mask,\n",
    "        #,mohcumga7_qboe_mask]\n",
    "        #,mrimri_esm2_qboe_mask,waccm_qboe_mask,\n",
    "        #yonseihadgem2_a_qboe_mask,yonseihadgem2_ac_qboe_mask]\n",
    "qwmask = [cam_qbow_mask, cccmacmam_qbow_mask, isac_cnrecham5sh_qbow_mask,\n",
    "        mirocmiroc_esm_qbow_mask]\n",
    "        # mirocmiroc_agcm_qbow_mask,\n",
    "        #,mohcumga7_qbow_mask]\n",
    "        #,mrimri_esm2_qbow_mask,waccm_qbow_mask,\n",
    "        #yonseihadgem2_a_qbow_mask,yonseihadgem2_ac_qbow_mask]\n",
    "monmask = [cam_noqbo_mask, cccmacmam_noqbo_mask, isac_cnrecham5sh_noqbo_mask, \n",
    "        mirocmiroc_esm_noqbo_mask]\n",
    "        #mirocmiroc_agcm_noqbo_mask,\n",
    "        #,mohcumga7_noqbo_mask]\n",
    "        #,mrimri_esm2_noqbo_mask,waccm_noqbo_mask,\n",
    "        #yonseihadgem2_a_noqbo_mask,yonseihadgem2_ac_noqbo_mask]\n",
    "\n",
    "# var_select=['EA-tas','BK-tas','Sib-SLP','Ural-SLP'] #,'EA-tas']\n",
    "var_select=['NAO','BK-SIC','EA-tas','PoV','Sib-SLP','Ural-SLP'] # ['BK-tas','EA-tas','PoV','v_flux','Sib-SLP']\n",
    "#var_select=['NAO','PoV','BK-SIC']\n",
    "var_select=['v_flux','Sib-SLP','EA-tas','PoV']\n",
    "\n",
    "current_var = \"_\".join(var_select)\n",
    "print(\"Current variables: {}\".format(current_var))\n",
    "\n",
    "# Change these variables\n",
    "tau_max = 5         # Maximum lag\n",
    "tau_min = 1         # Minimum lag\n",
    "robust_thres = .4   #Only show links that are significant in that fraction of models\n",
    "alpha_level = 0.3\n",
    "\n",
    "n_models = len(mods)\n",
    "n_cols = len(var_select)\n",
    "\n",
    "link_matrices_all = numpy.zeros((n_models, n_cols, n_cols, tau_max + 1))\n",
    "average_vals_all = numpy.zeros((n_models, n_cols, n_cols, tau_max + 1))\n",
    "link_matrices_qe = numpy.zeros((n_models, n_cols, n_cols, tau_max + 1))\n",
    "average_vals_qe = numpy.zeros((n_models, n_cols, n_cols, tau_max + 1))\n",
    "link_matrices_qw = numpy.zeros((n_models, n_cols, n_cols, tau_max + 1))\n",
    "average_vals_qw = numpy.zeros((n_models, n_cols, n_cols, tau_max + 1))\n",
    "\n",
    "for i in range(n_models):\n",
    "    print(i)\n",
    "    # Initialize dataframe object\n",
    "    data = mods[i].as_matrix(columns=var_select)\n",
    "    \n",
    "    df_all = pp.DataFrame(data,mask=monmask[i][:,0:n_cols])\n",
    "    df_qbow = pp.DataFrame(data, mask=qwmask[i][:,0:n_cols])\n",
    "    df_qboe = pp.DataFrame(data, mask=qemask[i][:,0:n_cols])\n",
    "    \n",
    "    print('results all')\n",
    "    results_all, link_matrix_all = run_and_plot_prepare_ensemble(df_all, \n",
    "                                      ParCorr(significance='analytic',mask_type='y'),\n",
    "                                      var_select=var_select, tau_max=tau_max,\n",
    "                                      tau_min=tau_min,pc_alpha=alpha_level)\n",
    "    print('results qboe')\n",
    "    results_qboe, link_matrix_qboe = run_and_plot_prepare_ensemble(df_qboe,\n",
    "                                      ParCorr(significance='analytic',mask_type='y'),\n",
    "                                      var_select=var_select, tau_max=tau_max,\n",
    "                                      tau_min=tau_min,pc_alpha=alpha_level)\n",
    "    results_qbow, link_matrix_qbow = run_and_plot_prepare_ensemble(df_qbow,\n",
    "                                      ParCorr(significance='analytic',mask_type='y'),\n",
    "                                      var_select=var_select, tau_max=tau_max,\n",
    "                                      tau_min=tau_min,pc_alpha=alpha_level)\n",
    "\n",
    "    link_matrices_all[i] = link_matrix_all\n",
    "    average_vals_all[i] = results_all['val_matrix']\n",
    "    link_matrices_qw[i] = link_matrix_qbow\n",
    "    average_vals_qw[i] = results_qbow['val_matrix']\n",
    "    link_matrices_qe[i] = link_matrix_qboe\n",
    "    average_vals_qe[i] = results_qboe['val_matrix']\n",
    "\n",
    "\n",
    "print(\"ALL YEARS\")\n",
    "link_color_matrix_all = average_vals_all.mean(axis=0)\n",
    "link_width_all = link_matrices_all.mean(axis=0)\n",
    "link_matrix_all = link_width_all > robust_thres\n",
    "\n",
    "print(\"QBOW YEARS\")\n",
    "link_color_matrix_qw = average_vals_qw.mean(axis=0)\n",
    "link_width_qw = link_matrices_qw.mean(axis=0)\n",
    "link_matrix_qw = link_width_qw > robust_thres\n",
    "\n",
    "print(\"QBOE YEARS\")\n",
    "link_color_matrix_qe = average_vals_qe.mean(axis=0)\n",
    "link_width_qe = link_matrices_qe.mean(axis=0)\n",
    "link_matrix_qe = link_width_qe > robust_thres\n",
    "\n",
    "\n",
    "\n",
    "\n",
    "## PLOT ENSEMBLE PLOTS\n",
    "\n",
    "# FIGURE PROPERTIES\n",
    "\n",
    "savefig = False #True # False # Save figures in the google drive, True or False\n",
    "\n",
    "vmax_edges=0.7; vmin_edges=-0.7\n",
    "vmax_nodes=0.7; vmin_nodes=0.0\n",
    "edge_ticks=0.2; node_ticks=0.2\n",
    "cmap_nodes='YlOrBr'; cmap_edges='RdBu_r'\n",
    "    \n",
    "\n",
    "fig = plt.figure(figsize=(10,8))\n",
    "ax = plt.subplot(111,frameon=False)\n",
    "plt.title(\"MMM, All, week\")\n",
    "print(\"ALL YEARS\")\n",
    "tp.plot_graph(\n",
    "    val_matrix=link_color_matrix_all,\n",
    "    fig_ax=(fig,ax),\n",
    "    link_matrix=link_matrix_all,\n",
    "    var_names=var_select,\n",
    "    link_colorbar_label='cross-MCI',\n",
    "    node_colorbar_label='auto-MCI',\n",
    "    link_width=link_width_all,\n",
    "    vmax_edges=vmax_edges,\n",
    "    vmin_edges=vmin_edges,\n",
    "    edge_ticks=edge_ticks,\n",
    "    node_ticks=node_ticks,\n",
    "    vmax_nodes=vmax_nodes,\n",
    "    vmin_nodes=vmin_nodes,\n",
    "    cmap_nodes=cmap_nodes,\n",
    "    cmap_edges=cmap_edges,\n",
    "    node_size=30,\n",
    "    node_label_size=20,\n",
    "    arrowhead_size=20,\n",
    "    arrow_linewidth=30,\n",
    "    show_colorbar=True\n",
    "    )\n",
    "\n",
    "if savefig:\n",
    "    plt.savefig('modens_week_{}.png'.format(current_var), bbox_inches='tight')\n"
   ]
  },
  {
   "cell_type": "code",
   "execution_count": 24,
   "metadata": {
    "colab": {
     "base_uri": "https://localhost:8080/",
     "height": 515
    },
    "colab_type": "code",
    "executionInfo": {
     "elapsed": 44547,
     "status": "ok",
     "timestamp": 1554203508680,
     "user": {
      "displayName": "Nicholas Tyrrell",
      "photoUrl": "https://lh4.googleusercontent.com/-gi3usNz72WA/AAAAAAAAAAI/AAAAAAAABbE/EZOgb1iXIH8/s64/photo.jpg",
      "userId": "00640113987881425946"
     },
     "user_tz": -180
    },
    "id": "YD7Fq5SQF9Lq",
    "outputId": "228df252-2a0d-41e8-9e9f-913d5924bf1f"
   },
   "outputs": [
    {
     "name": "stdout",
     "output_type": "stream",
     "text": [
      "QBOW YEARS\n"
     ]
    },
    {
     "data": {
      "image/png": "[encoded data removed]",
      "text/plain": [
       "<Figure size 720x576 with 2 Axes>"
      ]
     },
     "metadata": {
      "tags": []
     },
     "output_type": "display_data"
    }
   ],
   "source": [
    "fig = plt.figure(figsize=(10,8))\n",
    "ax = plt.subplot(111,frameon=False)\n",
    "plt.title(\"MMM, QBOW\")\n",
    "print(\"QBOW YEARS\")\n",
    "tp.plot_graph(\n",
    "    val_matrix=link_color_matrix_qw,\n",
    "    fig_ax=(fig,ax),\n",
    "    link_matrix=link_matrix_qw,\n",
    "    var_names=var_select,\n",
    "    link_colorbar_label='cross-MCI',\n",
    "    node_colorbar_label='auto-MCI',\n",
    "    link_width=link_width_qe,\n",
    "    vmax_edges=vmax_edges,\n",
    "    vmin_edges=vmin_edges,\n",
    "    edge_ticks=edge_ticks,\n",
    "    node_ticks=node_ticks,\n",
    "    vmax_nodes=vmax_nodes,\n",
    "    vmin_nodes=vmin_nodes,\n",
    "    cmap_nodes=cmap_nodes,\n",
    "    cmap_edges=cmap_edges\n",
    "    )\n",
    "\n",
    "if savefig:\n",
    "    plt.savefig('modens_week_qbow_{}.png'.format(current_var), bbox_inches='tight')\n",
    "    "
   ]
  },
  {
   "cell_type": "code",
   "execution_count": 10,
   "metadata": {
    "colab": {
     "base_uri": "https://localhost:8080/",
     "height": 515
    },
    "colab_type": "code",
    "executionInfo": {
     "elapsed": 34675,
     "status": "ok",
     "timestamp": 1554122127658,
     "user": {
      "displayName": "Nicholas Tyrrell",
      "photoUrl": "https://lh4.googleusercontent.com/-gi3usNz72WA/AAAAAAAAAAI/AAAAAAAABbE/EZOgb1iXIH8/s64/photo.jpg",
      "userId": "00640113987881425946"
     },
     "user_tz": -180
    },
    "id": "0m_r5Q3fvkvE",
    "outputId": "d2d96f29-a419-425e-b59f-9ffbb1d26798"
   },
   "outputs": [
    {
     "name": "stdout",
     "output_type": "stream",
     "text": [
      "QBOE YEARS\n"
     ]
    },
    {
     "data": {
      "image/png": "[encoded data removed]",
      "text/plain": [
       "<Figure size 720x576 with 3 Axes>"
      ]
     },
     "metadata": {
      "tags": []
     },
     "output_type": "display_data"
    }
   ],
   "source": [
    "fig = plt.figure(figsize=(10,8))\n",
    "ax = plt.subplot(111,frameon=False)\n",
    "plt.title(\"MMM, QBOE\")\n",
    "print(\"QBOE YEARS\")\n",
    "tp.plot_graph(\n",
    "    val_matrix=link_color_matrix_qe,\n",
    "    fig_ax=(fig,ax),\n",
    "    link_matrix=link_matrix_qe,\n",
    "    var_names=var_select,\n",
    "    link_colorbar_label='cross-MCI',\n",
    "    node_colorbar_label='auto-MCI',\n",
    "    link_width=link_width_qe,\n",
    "    vmax_edges=vmax_edges,\n",
    "    vmin_edges=vmin_edges,\n",
    "    edge_ticks=edge_ticks,\n",
    "    node_ticks=node_ticks,\n",
    "    vmax_nodes=vmax_nodes,\n",
    "    vmin_nodes=vmin_nodes,\n",
    "    cmap_nodes=cmap_nodes,\n",
    "    cmap_edges=cmap_edges\n",
    "    )\n",
    "\n",
    "if savefig:\n",
    "    plt.savefig('modens_week_qboe_{}.png'.format(current_var), bbox_inches='tight')\n",
    "    \n"
   ]
  },
  {
   "cell_type": "code",
   "execution_count": 0,
   "metadata": {
    "colab": {
     "base_uri": "https://localhost:8080/",
     "height": 500
    },
    "colab_type": "code",
    "executionInfo": {
     "elapsed": 1484,
     "status": "ok",
     "timestamp": 1553676970869,
     "user": {
      "displayName": "Nicholas Tyrrell",
      "photoUrl": "https://lh4.googleusercontent.com/-gi3usNz72WA/AAAAAAAAAAI/AAAAAAAABbE/EZOgb1iXIH8/s64/photo.jpg",
      "userId": "00640113987881425946"
     },
     "user_tz": -120
    },
    "id": "XP3eHwWTaVhQ",
    "outputId": "ce467893-19a8-4081-9b1f-cd4b3498d3ac"
   },
   "outputs": [
    {
     "name": "stdout",
     "output_type": "stream",
     "text": [
      "QBOE - QBOW\n"
     ]
    },
    {
     "data": {
      "image/png": "[encoded data removed]",
      "text/plain": [
       "<Figure size 720x576 with 3 Axes>"
      ]
     },
     "metadata": {
      "tags": []
     },
     "output_type": "display_data"
    }
   ],
   "source": [
    "## PLOT ENSEMBLE PLOTS for difference between QBOE-QBOW\n",
    "fig = plt.figure(figsize=(10,8))\n",
    "ax = plt.subplot(111,frameon=False)\n",
    "\n",
    "link_color_matrix_diff = link_color_matrix_qe - link_color_matrix_qw\n",
    "link_matrix_diff = link_matrix_qe ^ link_matrix_qw\n",
    "link_width_diff = np.abs(link_width_qe - link_width_qw)\n",
    "\n",
    "fig = plt.figure(1)\n",
    "ax = plt.subplot(111,frameon=False)\n",
    "print(\"QBOE - QBOW\")\n",
    "tp.plot_graph(\n",
    "    val_matrix=link_color_matrix_diff,\n",
    "    fig_ax=(fig,ax),\n",
    "    link_matrix=link_matrix_diff,\n",
    "    var_names=var_select,\n",
    "    link_colorbar_label='cross-MCI',\n",
    "    node_colorbar_label='auto-MCI',\n",
    "    vmax_edges=0.3,\n",
    "    vmin_edges=-0.3,\n",
    "    edge_ticks=0.1,\n",
    "    node_ticks=0.1,\n",
    "    vmax_nodes=0.3,\n",
    "    vmin_nodes=-0.3,\n",
    "    cmap_nodes='BrBG_r',\n",
    "    cmap_edges='RdBu_r'\n",
    "    )\n",
    "if savefig:\n",
    "    plt.savefig('modens_week_qbodif_{}.png'.format(current_var), bbox_inches='tight')\n",
    "\n"
   ]
  },
  {
   "cell_type": "code",
   "execution_count": 0,
   "metadata": {
    "colab": {
     "base_uri": "https://localhost:8080/",
     "height": 336
    },
    "colab_type": "code",
    "executionInfo": {
     "elapsed": 38837,
     "status": "ok",
     "timestamp": 1553670933051,
     "user": {
      "displayName": "Nicholas Tyrrell",
      "photoUrl": "https://lh4.googleusercontent.com/-gi3usNz72WA/AAAAAAAAAAI/AAAAAAAABbE/EZOgb1iXIH8/s64/photo.jpg",
      "userId": "00640113987881425946"
     },
     "user_tz": -120
    },
    "id": "kwi_CVZpiTyQ",
    "outputId": "06455a3a-0899-44c2-b5a5-9e90aa34bacd"
   },
   "outputs": [
    {
     "name": "stdout",
     "output_type": "stream",
     "text": [
      "ALL YEARS\n",
      "QBOW YEARS\n",
      "QBOE YEARS\n",
      "QBO DIFF: QBOE - QBOW\n"
     ]
    },
    {
     "data": {
      "image/png": "[encoded data removed]",
      "text/plain": [
       "<Figure size 432x288 with 3 Axes>"
      ]
     },
     "metadata": {
      "tags": []
     },
     "output_type": "display_data"
    }
   ],
   "source": [
    "####### NOTE - new version of Tigramite is doing something screwy to the figures, individual figs work - Nick 03/2019\n",
    "## PLOT ENSEMBLE PLOTS\n",
    "\n",
    "# FIGURE PROPERTIES\n",
    "\n",
    "savefig = False # Save figures in the google drive, True or False\n",
    "\n",
    "vmax_edges=0.7; vmin_edges=-0.7\n",
    "vmax_nodes=0.7; vmin_nodes=0.0\n",
    "edge_ticks=0.2; node_ticks=0.2\n",
    "cmap_nodes='YlOrBr'; cmap_edges='RdBu_r'\n",
    "    \n",
    "\n",
    "fig = plt.figure(1)\n",
    "ax = plt.subplot(111,frameon=False)\n",
    "plt.title(\"MMM, All\")\n",
    "print(\"ALL YEARS\")\n",
    "tp.plot_graph(\n",
    "    val_matrix=link_color_matrix_all,\n",
    "    fig_ax=(fig,ax),\n",
    "    link_matrix=link_matrix_all,\n",
    "    var_names=var_select,\n",
    "    link_colorbar_label='cross-MCI',\n",
    "    node_colorbar_label='auto-MCI',\n",
    "    link_width=link_width_all,\n",
    "    vmax_edges=vmax_edges,\n",
    "    vmin_edges=vmin_edges,\n",
    "    edge_ticks=edge_ticks,\n",
    "    node_ticks=node_ticks,\n",
    "    vmax_nodes=vmax_nodes,\n",
    "    vmin_nodes=vmin_nodes,\n",
    "    cmap_nodes=cmap_nodes,\n",
    "    cmap_edges=cmap_edges\n",
    "    )\n",
    "\n",
    "if savefig:\n",
    "    plt.savefig('ens_week_all_{}.png'.format(current_var), bbox_inches='tight')\n",
    "\n",
    "\n",
    "fig = plt.figure(1)\n",
    "ax = plt.subplot(111,frameon=False)\n",
    "plt.title(\"MMM, QBOW\")\n",
    "print(\"QBOW YEARS\")\n",
    "tp.plot_graph(\n",
    "    val_matrix=link_color_matrix_qw,\n",
    "    fig_ax=(fig,ax),\n",
    "    link_matrix=link_matrix_qw,\n",
    "    var_names=var_select,\n",
    "    link_colorbar_label='cross-MCI',\n",
    "    node_colorbar_label='auto-MCI',\n",
    "    link_width=link_width_qw,\n",
    "    vmax_edges=vmax_edges,\n",
    "    vmin_edges=vmin_edges,\n",
    "    edge_ticks=edge_ticks,\n",
    "    node_ticks=node_ticks,\n",
    "    vmax_nodes=vmax_nodes,\n",
    "    vmin_nodes=vmin_nodes,\n",
    "    cmap_nodes=cmap_nodes,\n",
    "    cmap_edges=cmap_edges\n",
    "    )\n",
    "\n",
    "if savefig:\n",
    "    plt.savefig('ens_week_qbo_w_{}.png'.format(current_var), bbox_inches='tight')\n",
    "\n",
    "\n",
    "fig = plt.figure(1)\n",
    "ax = plt.subplot(111,frameon=False)\n",
    "plt.title(\"MMM, QBOE\")\n",
    "print(\"QBOE YEARS\")\n",
    "tp.plot_graph(\n",
    "    val_matrix=link_color_matrix_qe,\n",
    "    fig_ax=(fig,ax),\n",
    "    link_matrix=link_matrix_qe,\n",
    "    var_names=var_select,\n",
    "    link_colorbar_label='cross-MCI',\n",
    "    node_colorbar_label='auto-MCI',\n",
    "    link_width=link_width_qe,\n",
    "    vmax_edges=vmax_edges,\n",
    "    vmin_edges=vmin_edges,\n",
    "    edge_ticks=edge_ticks,\n",
    "    node_ticks=node_ticks,\n",
    "    vmax_nodes=vmax_nodes,\n",
    "    vmin_nodes=vmin_nodes,\n",
    "    cmap_nodes=cmap_nodes,\n",
    "    cmap_edges=cmap_edges\n",
    "    )\n",
    "\n",
    "if savefig:\n",
    "    plt.savefig('ens_week_qbo_e_{}.png'.format(current_var), bbox_inches='tight')\n",
    "\n",
    "## PLOT ENSEMBLE PLOTS for difference between QBOE-QBOW\n",
    "fig = plt.figure(1)\n",
    "ax = plt.subplot(111,frameon=False)\n",
    "\n",
    "link_color_matrix_diff = link_color_matrix_qe - link_color_matrix_qw\n",
    "link_matrix_diff = link_matrix_qe ^ link_matrix_qw\n",
    "link_width_diff = np.abs(link_width_qe - link_width_qw)\n",
    "\n",
    "fig = plt.figure(1)\n",
    "ax = plt.subplot(111,frameon=False)\n",
    "plt.title(\"MMM, QBOE - QBOW years\")\n",
    "print(\"QBO DIFF: QBOE - QBOW\")\n",
    "tp.plot_graph(\n",
    "    val_matrix=link_color_matrix_diff,\n",
    "    fig_ax=(fig,ax),\n",
    "    link_matrix=link_matrix_diff,\n",
    "    var_names=var_select,\n",
    "    link_colorbar_label='cross-MCI',\n",
    "    node_colorbar_label='auto-MCI',\n",
    "    vmax_edges=0.3,\n",
    "    vmin_edges=-0.3,\n",
    "    edge_ticks=0.1,\n",
    "    node_ticks=0.1,\n",
    "    vmax_nodes=0.3,\n",
    "    vmin_nodes=-0.3,\n",
    "    cmap_nodes='BrBG_r',\n",
    "    cmap_edges='RdBu_r'\n",
    "    )\n",
    "\n",
    "if savefig:\n",
    "    plt.savefig('ens_week_qbo_diff_{}.png'.format(current_var), bbox_inches='tight')"
   ]
  },
  {
   "cell_type": "code",
   "execution_count": 0,
   "metadata": {
    "colab": {
     "base_uri": "https://localhost:8080/",
     "height": 269
    },
    "colab_type": "code",
    "executionInfo": {
     "elapsed": 37922,
     "status": "ok",
     "timestamp": 1553670933052,
     "user": {
      "displayName": "Nicholas Tyrrell",
      "photoUrl": "https://lh4.googleusercontent.com/-gi3usNz72WA/AAAAAAAAAAI/AAAAAAAABbE/EZOgb1iXIH8/s64/photo.jpg",
      "userId": "00640113987881425946"
     },
     "user_tz": -120
    },
    "id": "LxFNaSrYw5H3",
    "outputId": "76fb3edd-9867-4cd9-89ba-74e19dc07e7f"
   },
   "outputs": [
    {
     "name": "stdout",
     "output_type": "stream",
     "text": [
      "[[[ 0.          0.68852305 -0.1661944   0.01891326  0.02932729]\n",
      "  [ 0.00759075  0.00363316  0.04238395  0.01858568 -0.01005559]]\n",
      "\n",
      " [[ 0.00759075  0.02790492  0.01113722  0.01358088 -0.02807837]\n",
      "  [ 0.          0.47283311 -0.03542194  0.00993412 -0.01269796]]]\n",
      "[[[ 0.00000000e+00  7.16976657e-01 -2.29792284e-01  8.73189554e-02\n",
      "    2.05361906e-02]\n",
      "  [ 2.31646169e-02 -1.46979620e-02  3.18540941e-02  1.71427711e-02\n",
      "   -2.75231808e-02]]\n",
      "\n",
      " [[ 2.31646169e-02 -1.15785799e-02  2.39527268e-02  4.38028859e-04\n",
      "   -2.53993909e-02]\n",
      "  [ 0.00000000e+00  4.37102120e-01  5.94253803e-02 -1.05964620e-02\n",
      "    2.73757615e-02]]]\n"
     ]
    }
   ],
   "source": [
    "print(link_color_matrix_qe)\n",
    "print(link_color_matrix_qw)"
   ]
  },
  {
   "cell_type": "markdown",
   "metadata": {
    "colab_type": "text",
    "id": "kibNjJRt2y0y"
   },
   "source": [
    "In the code below I attempted to plot three plots on one figure. Passed the fig and ax to plotting function, but doesn't behave how I'd expect - Nick"
   ]
  },
  {
   "cell_type": "code",
   "execution_count": 0,
   "metadata": {
    "colab": {},
    "colab_type": "code",
    "collapsed": true,
    "id": "frzlVNDwhj14"
   },
   "outputs": [],
   "source": [
    "## PLOT ENSEMBLE PLOTS\n",
    "fig = plt.figure(figsize=(20,5))\n",
    "\n",
    "#fig = plt.gcf()\n",
    "ax1 = fig.add_subplot(1,3,1, frameon=False) # should have 1 row, with 3 columns\n",
    "#ax1 = plt.gca()\n",
    "#print(\"ALL YEARS\")\n",
    "tp.plot_graph(\n",
    "    val_matrix=link_color_matrix_all,\n",
    "    fig_ax=(fig,ax1),\n",
    "    link_matrix=link_matrix_all,\n",
    "    var_names=var_select,\n",
    "    link_colorbar_label='cross-MCI',\n",
    "    node_colorbar_label='auto-MCI',\n",
    "    link_width=link_width_all,\n",
    "    show_colorbar=False\n",
    "    )\n",
    "\n",
    "\n",
    "#fig = plt.gcf()\n",
    "ax2 = fig.add_subplot(1,3,2, frameon=False)\n",
    "ax2 = plt.gca()\n",
    "#print(\"QBOW YEARS\")\n",
    "tp.plot_graph(\n",
    "    val_matrix=link_color_matrix_qw,\n",
    "    fig_ax=(fig,ax2),\n",
    "    link_matrix=link_matrix_qw,\n",
    "    var_names=var_select,\n",
    "    link_colorbar_label='cross-MCI',\n",
    "    node_colorbar_label='auto-MCI',\n",
    "    link_width=link_width_qw,\n",
    "    show_colorbar=False\n",
    "    )\n",
    "\n",
    "#fig = plt.gcf()\n",
    "ax3 = fig.add_subplot(1,3,3, frameon=False)\n",
    "ax3 = plt.gca()\n",
    "#print(\"QBOE YEARS\")\n",
    "\n",
    "out = tp.plot_graph(\n",
    "    val_matrix=link_color_matrix_qe,\n",
    "    fig_ax=(fig,ax3),\n",
    "    link_matrix=link_matrix_qe,\n",
    "    var_names=var_select,\n",
    "    link_colorbar_label='cross-MCI',\n",
    "    node_colorbar_label='auto-MCI',\n",
    "    link_width=link_width_qe,\n",
    "    show_colorbar=True\n",
    "    )\n",
    "\n",
    "\n",
    "#print(type(out))\n",
    "#print(type(fig))\n",
    "#fig.savefig('ens_qbo_e.png', bbox_inches='tight')\n",
    "#figfile = drive.CreateFile({'title':'ens_qbo_e.png',\n",
    "#                            'parents':[{u'id':'13BVOh-AHmhzpvS30-eSIvLvhKkYC_01R'}]})\n",
    "#figfile.SetContentFile('ens_qbo_e.png')\n",
    "#figfile.Upload()"
   ]
  },
  {
   "cell_type": "code",
   "execution_count": 0,
   "metadata": {
    "colab": {},
    "colab_type": "code",
    "collapsed": true,
    "id": "STLfeVQNzzP-"
   },
   "outputs": [],
   "source": [
    "#Example to save a figure to file\n",
    "#it will be save in the personal downloads so still need to upload it back to the drive\n",
    "#import matplotlib.pyplot as plt\n",
    "#from google.colab import files\n",
    "#fig = plt.figure()\n",
    "#ax = fig.add_axes([1,1,1,1])\n",
    "#plt.plot([1,2])\n",
    "#plt.savefig('abc.png', bbox_inches='tight')\n",
    "#files.download(\"abc.png\") "
   ]
  },
  {
   "cell_type": "code",
   "execution_count": 0,
   "metadata": {
    "colab": {},
    "colab_type": "code",
    "collapsed": true,
    "id": "LROxHGRCThn9"
   },
   "outputs": [],
   "source": []
  }
 ],
 "metadata": {
  "colab": {
   "collapsed_sections": [],
   "name": "EGU_ensemble_QBOi_CEN_Exp1_day.ipynb",
   "provenance": [
    {
     "file_id": "1rQaOgWcVckzgKDh5z2BizXwYlkwS2a9S",
     "timestamp": 1552381556506
    },
    {
     "file_id": "1CnFLNliKFFY-6hZB11bCKMWrRCEixGJ3",
     "timestamp": 1536324411036
    },
    {
     "file_id": "1WumFpOkNG3FgREzVdg5oBIquRxKZ0e8p",
     "timestamp": 1529484299523
    },
    {
     "file_id": "1zhFfbDq9bVYiW1VSCVt-89L26xNbXW1i",
     "timestamp": 1528975132015
    },
    {
     "file_id": "1EJcmh27MZ0waMfu6AEmw-HCyALuYZyNn",
     "timestamp": 1515080682662
    }
   ],
   "version": "0.3.2"
  },
  "kernelspec": {
   "display_name": "Python 2",
   "language": "python",
   "name": "python2"
  },
  "language_info": {
   "codemirror_mode": {
    "name": "ipython",
    "version": 2
   },
   "file_extension": ".py",
   "mimetype": "text/x-python",
   "name": "python",
   "nbconvert_exporter": "python",
   "pygments_lexer": "ipython2",
   "version": "2.7.13"
  }
 },
 "nbformat": 4,
 "nbformat_minor": 1
}
